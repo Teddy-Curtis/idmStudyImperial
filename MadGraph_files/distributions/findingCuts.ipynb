{
 "cells": [
  {
   "cell_type": "code",
   "execution_count": 1,
   "metadata": {},
   "outputs": [],
   "source": [
    "import uproot\n",
    "import pandas as pd\n",
    "import numpy as np\n",
    "import matplotlib.pyplot as plt\n",
    "#import mplhep as hep\n",
    "#hep.set_style('CMS')\n",
    "#hep.style.use('CMS')\n"
   ]
  },
  {
   "cell_type": "code",
   "execution_count": 3,
   "metadata": {},
   "outputs": [
    {
     "name": "stdout",
     "output_type": "stream",
     "text": [
      "['Particle.fUniqueID', 'Particle.fBits', 'Particle.PID', 'Particle.Status', 'Particle.Mother1', 'Particle.Mother2', 'Particle.ColorLine1', 'Particle.ColorLine2', 'Particle.Px', 'Particle.Py', 'Particle.Pz', 'Particle.E', 'Particle.M', 'Particle.PT', 'Particle.Eta', 'Particle.Phi', 'Particle.Rapidity', 'Particle.LifeTime', 'Particle.Spin']\n"
     ]
    },
    {
     "data": {
      "text/html": [
       "<div>\n",
       "<style scoped>\n",
       "    .dataframe tbody tr th:only-of-type {\n",
       "        vertical-align: middle;\n",
       "    }\n",
       "\n",
       "    .dataframe tbody tr th {\n",
       "        vertical-align: top;\n",
       "    }\n",
       "\n",
       "    .dataframe thead th {\n",
       "        text-align: right;\n",
       "    }\n",
       "</style>\n",
       "<table border=\"1\" class=\"dataframe\">\n",
       "  <thead>\n",
       "    <tr style=\"text-align: right;\">\n",
       "      <th></th>\n",
       "      <th></th>\n",
       "      <th>Particle.PID</th>\n",
       "      <th>Particle.Px</th>\n",
       "      <th>Particle.Py</th>\n",
       "      <th>Particle.Pz</th>\n",
       "      <th>Particle.PT</th>\n",
       "      <th>Particle.E</th>\n",
       "      <th>Particle.Eta</th>\n",
       "    </tr>\n",
       "    <tr>\n",
       "      <th>entry</th>\n",
       "      <th>subentry</th>\n",
       "      <th></th>\n",
       "      <th></th>\n",
       "      <th></th>\n",
       "      <th></th>\n",
       "      <th></th>\n",
       "      <th></th>\n",
       "      <th></th>\n",
       "    </tr>\n",
       "  </thead>\n",
       "  <tbody>\n",
       "    <tr>\n",
       "      <th rowspan=\"5\" valign=\"top\">0</th>\n",
       "      <th>0</th>\n",
       "      <td>2</td>\n",
       "      <td>0.000000</td>\n",
       "      <td>0.000000</td>\n",
       "      <td>65.416037</td>\n",
       "      <td>0.000000</td>\n",
       "      <td>65.416037</td>\n",
       "      <td>999.900000</td>\n",
       "    </tr>\n",
       "    <tr>\n",
       "      <th>1</th>\n",
       "      <td>-2</td>\n",
       "      <td>-0.000000</td>\n",
       "      <td>-0.000000</td>\n",
       "      <td>-589.039826</td>\n",
       "      <td>0.000000</td>\n",
       "      <td>589.039826</td>\n",
       "      <td>-999.900000</td>\n",
       "    </tr>\n",
       "    <tr>\n",
       "      <th>2</th>\n",
       "      <td>37</td>\n",
       "      <td>81.098581</td>\n",
       "      <td>-16.186480</td>\n",
       "      <td>-34.759797</td>\n",
       "      <td>82.698137</td>\n",
       "      <td>145.565810</td>\n",
       "      <td>-0.408837</td>\n",
       "    </tr>\n",
       "    <tr>\n",
       "      <th>3</th>\n",
       "      <td>-37</td>\n",
       "      <td>-81.098581</td>\n",
       "      <td>16.186480</td>\n",
       "      <td>-488.863992</td>\n",
       "      <td>82.698137</td>\n",
       "      <td>508.890054</td>\n",
       "      <td>-2.477113</td>\n",
       "    </tr>\n",
       "    <tr>\n",
       "      <th>4</th>\n",
       "      <td>35</td>\n",
       "      <td>40.846420</td>\n",
       "      <td>-10.176861</td>\n",
       "      <td>-32.462684</td>\n",
       "      <td>42.095112</td>\n",
       "      <td>90.118240</td>\n",
       "      <td>-0.710001</td>\n",
       "    </tr>\n",
       "    <tr>\n",
       "      <th>...</th>\n",
       "      <th>...</th>\n",
       "      <td>...</td>\n",
       "      <td>...</td>\n",
       "      <td>...</td>\n",
       "      <td>...</td>\n",
       "      <td>...</td>\n",
       "      <td>...</td>\n",
       "      <td>...</td>\n",
       "    </tr>\n",
       "    <tr>\n",
       "      <th rowspan=\"5\" valign=\"top\">9999</th>\n",
       "      <th>5</th>\n",
       "      <td>35</td>\n",
       "      <td>88.026136</td>\n",
       "      <td>-65.933634</td>\n",
       "      <td>-450.892989</td>\n",
       "      <td>109.981111</td>\n",
       "      <td>469.782721</td>\n",
       "      <td>-2.118621</td>\n",
       "    </tr>\n",
       "    <tr>\n",
       "      <th>6</th>\n",
       "      <td>-13</td>\n",
       "      <td>43.451797</td>\n",
       "      <td>-30.580212</td>\n",
       "      <td>-127.215457</td>\n",
       "      <td>53.133869</td>\n",
       "      <td>137.865847</td>\n",
       "      <td>-1.607222</td>\n",
       "    </tr>\n",
       "    <tr>\n",
       "      <th>7</th>\n",
       "      <td>11</td>\n",
       "      <td>-31.683867</td>\n",
       "      <td>14.503485</td>\n",
       "      <td>-99.227405</td>\n",
       "      <td>34.845638</td>\n",
       "      <td>105.167944</td>\n",
       "      <td>-1.769128</td>\n",
       "    </tr>\n",
       "    <tr>\n",
       "      <th>8</th>\n",
       "      <td>14</td>\n",
       "      <td>72.029296</td>\n",
       "      <td>-57.842470</td>\n",
       "      <td>-251.732800</td>\n",
       "      <td>92.379493</td>\n",
       "      <td>268.148044</td>\n",
       "      <td>-1.727695</td>\n",
       "    </tr>\n",
       "    <tr>\n",
       "      <th>9</th>\n",
       "      <td>-12</td>\n",
       "      <td>-56.134126</td>\n",
       "      <td>12.172358</td>\n",
       "      <td>-202.577908</td>\n",
       "      <td>57.438718</td>\n",
       "      <td>210.563566</td>\n",
       "      <td>-1.973071</td>\n",
       "    </tr>\n",
       "  </tbody>\n",
       "</table>\n",
       "<p>99590 rows × 7 columns</p>\n",
       "</div>"
      ],
      "text/plain": [
       "                Particle.PID  Particle.Px  Particle.Py  Particle.Pz  \\\n",
       "entry subentry                                                        \n",
       "0     0                    2     0.000000     0.000000    65.416037   \n",
       "      1                   -2    -0.000000    -0.000000  -589.039826   \n",
       "      2                   37    81.098581   -16.186480   -34.759797   \n",
       "      3                  -37   -81.098581    16.186480  -488.863992   \n",
       "      4                   35    40.846420   -10.176861   -32.462684   \n",
       "...                      ...          ...          ...          ...   \n",
       "9999  5                   35    88.026136   -65.933634  -450.892989   \n",
       "      6                  -13    43.451797   -30.580212  -127.215457   \n",
       "      7                   11   -31.683867    14.503485   -99.227405   \n",
       "      8                   14    72.029296   -57.842470  -251.732800   \n",
       "      9                  -12   -56.134126    12.172358  -202.577908   \n",
       "\n",
       "                Particle.PT  Particle.E  Particle.Eta  \n",
       "entry subentry                                         \n",
       "0     0            0.000000   65.416037    999.900000  \n",
       "      1            0.000000  589.039826   -999.900000  \n",
       "      2           82.698137  145.565810     -0.408837  \n",
       "      3           82.698137  508.890054     -2.477113  \n",
       "      4           42.095112   90.118240     -0.710001  \n",
       "...                     ...         ...           ...  \n",
       "9999  5          109.981111  469.782721     -2.118621  \n",
       "      6           53.133869  137.865847     -1.607222  \n",
       "      7           34.845638  105.167944     -1.769128  \n",
       "      8           92.379493  268.148044     -1.727695  \n",
       "      9           57.438718  210.563566     -1.973071  \n",
       "\n",
       "[99590 rows x 7 columns]"
      ]
     },
     "execution_count": 3,
     "metadata": {},
     "output_type": "execute_result"
    }
   ],
   "source": [
    "file = uproot.open('/vols/cms/emc21/FCC/MadGraph_files/distributions/h2h2lPlMvv_l_e_mu/BP1/h2h2lPlMvv_l_e_mu_BP1/Events/run_01/unweighted_events.root')\n",
    "tree = file['LHEF']\n",
    "tree = tree['Particle']\n",
    "print(tree.keys())\n",
    "data = tree.arrays(['Particle.PID', 'Particle.Px','Particle.Py', 'Particle.Pz', 'Particle.PT', 'Particle.E', 'Particle.Eta'], library='pd')\n",
    "data"
   ]
  },
  {
   "cell_type": "code",
   "execution_count": 5,
   "metadata": {},
   "outputs": [
    {
     "data": {
      "text/html": [
       "<div>\n",
       "<style scoped>\n",
       "    .dataframe tbody tr th:only-of-type {\n",
       "        vertical-align: middle;\n",
       "    }\n",
       "\n",
       "    .dataframe tbody tr th {\n",
       "        vertical-align: top;\n",
       "    }\n",
       "\n",
       "    .dataframe thead th {\n",
       "        text-align: right;\n",
       "    }\n",
       "</style>\n",
       "<table border=\"1\" class=\"dataframe\">\n",
       "  <thead>\n",
       "    <tr style=\"text-align: right;\">\n",
       "      <th></th>\n",
       "      <th>Particle.PID</th>\n",
       "      <th>Particle.Px</th>\n",
       "      <th>Particle.Py</th>\n",
       "      <th>Particle.Pz</th>\n",
       "      <th>Particle.PT</th>\n",
       "      <th>Particle.E</th>\n",
       "      <th>Particle.Eta</th>\n",
       "    </tr>\n",
       "    <tr>\n",
       "      <th>subentry</th>\n",
       "      <th></th>\n",
       "      <th></th>\n",
       "      <th></th>\n",
       "      <th></th>\n",
       "      <th></th>\n",
       "      <th></th>\n",
       "      <th></th>\n",
       "    </tr>\n",
       "  </thead>\n",
       "  <tbody>\n",
       "    <tr>\n",
       "      <th>0</th>\n",
       "      <td>3</td>\n",
       "      <td>0.000000</td>\n",
       "      <td>0.000000</td>\n",
       "      <td>239.920899</td>\n",
       "      <td>0.000000</td>\n",
       "      <td>239.920920</td>\n",
       "      <td>999.900000</td>\n",
       "    </tr>\n",
       "    <tr>\n",
       "      <th>1</th>\n",
       "      <td>-3</td>\n",
       "      <td>-0.000000</td>\n",
       "      <td>-0.000000</td>\n",
       "      <td>-102.512373</td>\n",
       "      <td>0.000000</td>\n",
       "      <td>102.512422</td>\n",
       "      <td>-999.900000</td>\n",
       "    </tr>\n",
       "    <tr>\n",
       "      <th>2</th>\n",
       "      <td>37</td>\n",
       "      <td>-0.549035</td>\n",
       "      <td>107.000684</td>\n",
       "      <td>70.688060</td>\n",
       "      <td>107.002093</td>\n",
       "      <td>172.012652</td>\n",
       "      <td>0.620110</td>\n",
       "    </tr>\n",
       "    <tr>\n",
       "      <th>3</th>\n",
       "      <td>-37</td>\n",
       "      <td>0.549035</td>\n",
       "      <td>-107.000684</td>\n",
       "      <td>66.720465</td>\n",
       "      <td>107.002093</td>\n",
       "      <td>170.420689</td>\n",
       "      <td>0.588908</td>\n",
       "    </tr>\n",
       "    <tr>\n",
       "      <th>4</th>\n",
       "      <td>35</td>\n",
       "      <td>28.234582</td>\n",
       "      <td>-93.134040</td>\n",
       "      <td>38.557266</td>\n",
       "      <td>97.319788</td>\n",
       "      <td>127.488340</td>\n",
       "      <td>0.386497</td>\n",
       "    </tr>\n",
       "    <tr>\n",
       "      <th>5</th>\n",
       "      <td>35</td>\n",
       "      <td>24.709565</td>\n",
       "      <td>92.061808</td>\n",
       "      <td>47.982866</td>\n",
       "      <td>95.320192</td>\n",
       "      <td>129.165659</td>\n",
       "      <td>0.484238</td>\n",
       "    </tr>\n",
       "    <tr>\n",
       "      <th>6</th>\n",
       "      <td>-13</td>\n",
       "      <td>-15.227217</td>\n",
       "      <td>2.831928</td>\n",
       "      <td>22.259363</td>\n",
       "      <td>15.488316</td>\n",
       "      <td>27.117861</td>\n",
       "      <td>1.159399</td>\n",
       "    </tr>\n",
       "    <tr>\n",
       "      <th>7</th>\n",
       "      <td>11</td>\n",
       "      <td>-21.734894</td>\n",
       "      <td>-6.875286</td>\n",
       "      <td>23.071289</td>\n",
       "      <td>22.796385</td>\n",
       "      <td>32.433926</td>\n",
       "      <td>0.889875</td>\n",
       "    </tr>\n",
       "    <tr>\n",
       "      <th>8</th>\n",
       "      <td>14</td>\n",
       "      <td>-10.031384</td>\n",
       "      <td>12.106948</td>\n",
       "      <td>0.445832</td>\n",
       "      <td>15.722813</td>\n",
       "      <td>15.729133</td>\n",
       "      <td>0.028352</td>\n",
       "    </tr>\n",
       "    <tr>\n",
       "      <th>9</th>\n",
       "      <td>-12</td>\n",
       "      <td>-5.950653</td>\n",
       "      <td>-6.991358</td>\n",
       "      <td>5.091911</td>\n",
       "      <td>9.180923</td>\n",
       "      <td>10.498424</td>\n",
       "      <td>0.529523</td>\n",
       "    </tr>\n",
       "  </tbody>\n",
       "</table>\n",
       "</div>"
      ],
      "text/plain": [
       "          Particle.PID  Particle.Px  Particle.Py  Particle.Pz  Particle.PT  \\\n",
       "subentry                                                                     \n",
       "0                    3     0.000000     0.000000   239.920899     0.000000   \n",
       "1                   -3    -0.000000    -0.000000  -102.512373     0.000000   \n",
       "2                   37    -0.549035   107.000684    70.688060   107.002093   \n",
       "3                  -37     0.549035  -107.000684    66.720465   107.002093   \n",
       "4                   35    28.234582   -93.134040    38.557266    97.319788   \n",
       "5                   35    24.709565    92.061808    47.982866    95.320192   \n",
       "6                  -13   -15.227217     2.831928    22.259363    15.488316   \n",
       "7                   11   -21.734894    -6.875286    23.071289    22.796385   \n",
       "8                   14   -10.031384    12.106948     0.445832    15.722813   \n",
       "9                  -12    -5.950653    -6.991358     5.091911     9.180923   \n",
       "\n",
       "          Particle.E  Particle.Eta  \n",
       "subentry                            \n",
       "0         239.920920    999.900000  \n",
       "1         102.512422   -999.900000  \n",
       "2         172.012652      0.620110  \n",
       "3         170.420689      0.588908  \n",
       "4         127.488340      0.386497  \n",
       "5         129.165659      0.484238  \n",
       "6          27.117861      1.159399  \n",
       "7          32.433926      0.889875  \n",
       "8          15.729133      0.028352  \n",
       "9          10.498424      0.529523  "
      ]
     },
     "execution_count": 5,
     "metadata": {},
     "output_type": "execute_result"
    }
   ],
   "source": [
    "data.loc[18]\n",
    "# Why is there an A particle here?!\n",
    "# Can see a c quark (4) and a g (21), then an A (36), H (35), electrons (11,-11) then another charm quark (4) \n",
    "# -> Think this last charm quark is what makes the jet."
   ]
  },
  {
   "cell_type": "code",
   "execution_count": 18,
   "metadata": {},
   "outputs": [
    {
     "name": "stdout",
     "output_type": "stream",
     "text": [
      "9638\n"
     ]
    }
   ],
   "source": [
    "h3_df = data[data['Particle.PID'] == 37]\n",
    "print(len(h3_df))"
   ]
  },
  {
   "cell_type": "code",
   "execution_count": 19,
   "metadata": {},
   "outputs": [],
   "source": [
    "def unit_vector(vector):\n",
    "    \"\"\" Returns the unit vector of the vector.  \"\"\"\n",
    "    return vector / np.linalg.norm(vector)\n",
    "\n",
    "def angle_between(v1, v2):\n",
    "    \"\"\" Returns the angle in radians between vectors 'v1' and 'v2'::\n",
    "\n",
    "            >>> angle_between((1, 0, 0), (0, 1, 0))\n",
    "            1.5707963267948966\n",
    "            >>> angle_between((1, 0, 0), (1, 0, 0))\n",
    "            0.0\n",
    "            >>> angle_between((1, 0, 0), (-1, 0, 0))\n",
    "            3.141592653589793\n",
    "    \"\"\"\n",
    "    v1_u = unit_vector(v1)\n",
    "    v2_u = unit_vector(v2)\n",
    "    return np.arccos(np.clip(np.dot(v1_u, v2_u), -1.0, 1.0))\n",
    "\n",
    "def getAngle(df):\n",
    "    vs = df[['Particle.Px', 'Particle.Py', 'Particle.Pz']].to_numpy()\n",
    "    angle = angle_between(vs[0,:2], vs[1,:2])\n",
    "    return angle"
   ]
  },
  {
   "cell_type": "code",
   "execution_count": 32,
   "metadata": {},
   "outputs": [],
   "source": [
    "def H_PT_scalarSum(H_data, dir):\n",
    "    mean = H_data['Particle.PT'].mean()\n",
    "    std = H_data['Particle.PT'].std()\n",
    "    nbins = 100 \n",
    "    plt.figure(figsize=(8,6))\n",
    "    plt.hist(H_data['Particle.PT'], bins=nbins, label=f'$\\mu={mean:0.2f}$, $\\sigma={std:0.2f}$')\n",
    "    plt.title(f'Scalar sum of H PTs')\n",
    "    plt.xlabel(f'PT (GeV)')\n",
    "    plt.ylabel(f'Counts')\n",
    "    plt.legend()\n",
    "    plt.savefig(f'{dir}/plots/H_PT_scalarSum.jpeg')\n",
    "    plt.close()\n",
    "\n",
    "def H_PT_vectorSum(H_data, dir):\n",
    "    grouped = H_data.groupby(level=0).sum()\n",
    "    grouped['PT_tot'] = np.sqrt(grouped['Particle.Px']**2 + grouped['Particle.Py']**2)\n",
    "    nbins = 100\n",
    "    mean = grouped['PT_tot'].mean()\n",
    "    std = grouped['PT_tot'].std()\n",
    "    plt.figure(figsize=(8,6))\n",
    "    plt.hist(grouped['PT_tot'], bins=nbins, label=f'$\\mu={mean:0.2f}$, $\\sigma={std:0.2f}$')\n",
    "    plt.title(f'Vector sum of H PTs')\n",
    "    plt.xlabel(f'PT (GeV)')\n",
    "    plt.ylabel(f'Counts')\n",
    "    plt.legend()\n",
    "    plt.savefig(f'{dir}/plots/H_PT_vectorSum.jpeg')\n",
    "    plt.close()\n",
    "\n",
    "def H_angleDiff(H_data, dir):\n",
    "    g = H_data.groupby('entry')\n",
    "    angles = g.apply(getAngle)\n",
    "    nbins = 100\n",
    "    plt.figure(figsize=(8,6))\n",
    "    plt.hist(angles, bins=nbins, label=f'$\\mu={mean:0.2f}$, $\\sigma={std:0.2f}$')\n",
    "    plt.title(f'Angle between Hs')\n",
    "    plt.xlabel(f'Angle (radians)')\n",
    "    plt.ylabel(f'Counts')\n",
    "    plt.legend()\n",
    "    plt.savefig(f'{dir}/plots/H_angleDiff.jpeg')\n",
    "    plt.close()\n",
    "    \n",
    "\n",
    "dir = f'/vols/cms/emc21/FCC/MadGraph_files/distributions/h2h2lPlM_l_e_mu/BP1'\n",
    "\n",
    "H_data = data[(data['Particle.PID'] == 35)]\n",
    "\n",
    "H_PT_scalarSum(H_data, dir)\n",
    "\n"
   ]
  },
  {
   "cell_type": "code",
   "execution_count": 8,
   "metadata": {},
   "outputs": [
    {
     "name": "stdout",
     "output_type": "stream",
     "text": [
      "109.16475693805371\n"
     ]
    },
    {
     "data": {
      "text/plain": [
       "(0.0, 500.0)"
      ]
     },
     "execution_count": 8,
     "metadata": {},
     "output_type": "execute_result"
    },
    {
     "data": {
      "image/png": "[encoded data removed]",
      "text/plain": [
       "<Figure size 432x288 with 1 Axes>"
      ]
     },
     "metadata": {
      "needs_background": "light"
     },
     "output_type": "display_data"
    }
   ],
   "source": [
    "# Let's do some plots\n",
    "h2_data = data[(data['Particle.PID'] == 35)]\n",
    "print(h2_data['Particle.PT'].mean())\n",
    "nbins = 300\n",
    "hist = plt.hist(h2_data['Particle.PT'], bins=nbins)\n",
    "plt.title(f'PT for H', fontsize=24)\n",
    "plt.xlabel('PT (GeV)')\n",
    "plt.xlim((0,500))\n"
   ]
  },
  {
   "cell_type": "markdown",
   "metadata": {},
   "source": [
    "This is just the sum of the individual PTs, not the actual total PT_miss that will be measured -> need to combine the PT of all the inert scalars, start by doing this just for h2 then include the h3 "
   ]
  },
  {
   "cell_type": "code",
   "execution_count": 9,
   "metadata": {},
   "outputs": [
    {
     "name": "stdout",
     "output_type": "stream",
     "text": [
      "42.69793987372016\n"
     ]
    },
    {
     "data": {
      "text/plain": [
       "(0.0, 500.0)"
      ]
     },
     "execution_count": 9,
     "metadata": {},
     "output_type": "execute_result"
    },
    {
     "data": {
      "image/png": "[encoded data removed]",
      "text/plain": [
       "<Figure size 432x288 with 1 Axes>"
      ]
     },
     "metadata": {
      "needs_background": "light"
     },
     "output_type": "display_data"
    }
   ],
   "source": [
    "\n",
    "inert_data = data[(data['Particle.PID'] == 35)]\n",
    "inert_data = inert_data.groupby(level=0).sum()\n",
    "inert_data['PT_tot'] = np.sqrt(inert_data['Particle.Px']**2 + inert_data['Particle.Py']**2)\n",
    "print(inert_data['PT_tot'].mean())\n",
    "hist = plt.hist(inert_data['PT_tot'], bins=nbins)\n",
    "\n",
    "plt.title(f'Vector sum of PTs of h2s', fontsize=24)\n",
    "plt.xlabel('PT (GeV)')\n",
    "plt.xlim((0,500))"
   ]
  },
  {
   "cell_type": "markdown",
   "metadata": {},
   "source": [
    "-> The h2s like to go in opposite directions"
   ]
  },
  {
   "cell_type": "code",
   "execution_count": 10,
   "metadata": {},
   "outputs": [],
   "source": [
    "\n",
    "def unit_vector(vector):\n",
    "    \"\"\" Returns the unit vector of the vector.  \"\"\"\n",
    "    return vector / np.linalg.norm(vector)\n",
    "\n",
    "def angle_between(v1, v2):\n",
    "    \"\"\" Returns the angle in radians between vectors 'v1' and 'v2'::\n",
    "\n",
    "            >>> angle_between((1, 0, 0), (0, 1, 0))\n",
    "            1.5707963267948966\n",
    "            >>> angle_between((1, 0, 0), (1, 0, 0))\n",
    "            0.0\n",
    "            >>> angle_between((1, 0, 0), (-1, 0, 0))\n",
    "            3.141592653589793\n",
    "    \"\"\"\n",
    "    v1_u = unit_vector(v1)\n",
    "    v2_u = unit_vector(v2)\n",
    "    return np.arccos(np.clip(np.dot(v1_u, v2_u), -1.0, 1.0))\n",
    "\n",
    "def getAngle(df):\n",
    "    vs = df[['Particle.Px', 'Particle.Py', 'Particle.Pz']].to_numpy()\n",
    "    angle = angle_between(vs[0,:2], vs[1,:2])\n",
    "    return angle\n"
   ]
  },
  {
   "cell_type": "code",
   "execution_count": 11,
   "metadata": {},
   "outputs": [
    {
     "data": {
      "text/plain": [
       "Text(0.5, 0, 'Theta (radians)')"
      ]
     },
     "execution_count": 11,
     "metadata": {},
     "output_type": "execute_result"
    },
    {
     "data": {
      "image/png": "[encoded data removed]",
      "text/plain": [
       "<Figure size 432x288 with 1 Axes>"
      ]
     },
     "metadata": {
      "needs_background": "light"
     },
     "output_type": "display_data"
    }
   ],
   "source": [
    "# Let's plot the angle between the h2s\n",
    "inert_data = data[(data['Particle.PID'] == 35)]\n",
    "g = inert_data.groupby('entry')\n",
    "angles = g.apply(getAngle)\n",
    "\n",
    "nbins = 100\n",
    "n, bins, patches = plt.hist(angles, bins=nbins)\n",
    "\n",
    "plt.title(f'Angle between the 2 Hs', fontsize=24)\n",
    "plt.xlabel('Theta (radians)')\n"
   ]
  },
  {
   "cell_type": "code",
   "execution_count": 12,
   "metadata": {},
   "outputs": [
    {
     "name": "stdout",
     "output_type": "stream",
     "text": [
      "          Particle.PID  Particle.Px  Particle.Py  Particle.Pz  Particle.PT  \\\n",
      "subentry                                                                     \n",
      "4                   35    40.846420   -10.176861   -32.462684    42.095112   \n",
      "5                   35   -16.710442     3.911247  -266.681012    17.162073   \n",
      "\n",
      "          Particle.E  Particle.Eta  \n",
      "subentry                            \n",
      "4          90.118240     -0.710001  \n",
      "5         276.963485     -3.437532  \n",
      "[[  40.84641969  -10.17686072  -32.46268383]\n",
      " [ -16.71044217    3.91124737 -266.68101212]]\n"
     ]
    }
   ],
   "source": [
    "print(inert_data.loc[0])\n",
    "print(inert_data.loc[0][['Particle.Px', 'Particle.Py', 'Particle.Pz']].to_numpy())"
   ]
  },
  {
   "cell_type": "code",
   "execution_count": 13,
   "metadata": {},
   "outputs": [
    {
     "data": {
      "text/plain": [
       "(0.0, 500.0)"
      ]
     },
     "execution_count": 13,
     "metadata": {},
     "output_type": "execute_result"
    },
    {
     "data": {
      "image/png": "[encoded data removed]",
      "text/plain": [
       "<Figure size 432x288 with 1 Axes>"
      ]
     },
     "metadata": {
      "needs_background": "light"
     },
     "output_type": "display_data"
    }
   ],
   "source": [
    "# Now for the h3\n",
    "\n",
    "inert_data = data[(data['Particle.PID'] == 36)]\n",
    "\n",
    "\n",
    "hist = plt.hist(inert_data['Particle.PT'], bins=nbins)\n",
    "\n",
    "plt.title(f'Vector sum of PTs of h3', fontsize=24)\n",
    "plt.xlabel('PT (GeV)')\n",
    "plt.xlim((0,500))"
   ]
  },
  {
   "cell_type": "code",
   "execution_count": 14,
   "metadata": {},
   "outputs": [
    {
     "data": {
      "text/plain": [
       "(0.0, 500.0)"
      ]
     },
     "execution_count": 14,
     "metadata": {},
     "output_type": "execute_result"
    },
    {
     "data": {
      "image/png": "[encoded data removed]",
      "text/plain": [
       "<Figure size 432x288 with 1 Axes>"
      ]
     },
     "metadata": {
      "needs_background": "light"
     },
     "output_type": "display_data"
    }
   ],
   "source": [
    "\n",
    "inert_data = data[(data['Particle.PID'] == 35) | (data['Particle.PID'] == 36)]\n",
    "# This groups them into different events, then sums their Px, Py etc\n",
    "# Can then find the abs of this to get the actual E_miss\n",
    "inert_data = inert_data.groupby(level=0).sum()\n",
    "inert_data['PT_tot'] = np.sqrt(inert_data['Particle.Px']**2 + inert_data['Particle.Py']**2)\n",
    "\n",
    "hist = plt.hist(inert_data['PT_tot'], bins=nbins)\n",
    "\n",
    "plt.title(f'Vector sum of PTs of h2s + h3', fontsize=24)\n",
    "plt.xlabel('PT (GeV)')\n",
    "plt.xlim((0,500))"
   ]
  },
  {
   "cell_type": "code",
   "execution_count": 15,
   "metadata": {},
   "outputs": [
    {
     "data": {
      "image/png": "[encoded data removed]",
      "text/plain": [
       "<Figure size 432x288 with 1 Axes>"
      ]
     },
     "metadata": {
      "needs_background": "light"
     },
     "output_type": "display_data"
    }
   ],
   "source": [
    "# Plot of the eta angle of the A\n",
    "# Now for the h3\n",
    "\n",
    "inert_data = data[(data['Particle.PID'] == 36)]\n",
    "\n",
    "H_eta = inert_data['Particle.Eta']\n",
    "nbins=100\n",
    "hist = plt.hist(H_eta, bins=nbins)\n"
   ]
  },
  {
   "cell_type": "code",
   "execution_count": 16,
   "metadata": {},
   "outputs": [
    {
     "name": "stdout",
     "output_type": "stream",
     "text": [
      "164.7267754284974\n"
     ]
    },
    {
     "data": {
      "text/plain": [
       "Text(0.5, 0, 'PT (GeV)')"
      ]
     },
     "execution_count": 16,
     "metadata": {},
     "output_type": "execute_result"
    },
    {
     "data": {
      "image/png": "[encoded data removed]",
      "text/plain": [
       "<Figure size 432x288 with 1 Axes>"
      ]
     },
     "metadata": {
      "needs_background": "light"
     },
     "output_type": "display_data"
    }
   ],
   "source": [
    "# plot the distribution of the H+- particles \n",
    "# Let's do some plots\n",
    "Hch_data = data[(abs(data['Particle.PID']) == 37)]\n",
    "print(Hch_data['Particle.PT'].mean())\n",
    "nbins = 300\n",
    "hist = plt.hist(Hch_data['Particle.PT'], bins=nbins)\n",
    "plt.title(f'PT for H', fontsize=24)\n",
    "plt.xlabel('PT (GeV)')\n",
    "#plt.xlim((0,500))\n"
   ]
  },
  {
   "cell_type": "code",
   "execution_count": 92,
   "metadata": {},
   "outputs": [
    {
     "ename": "KeyError",
     "evalue": "'Particle.LifeTime'",
     "output_type": "error",
     "traceback": [
      "\u001b[0;31m---------------------------------------------------------------------------\u001b[0m",
      "\u001b[0;31mKeyError\u001b[0m                                  Traceback (most recent call last)",
      "File \u001b[0;32m~/miniconda3/envs/FCC/lib/python3.9/site-packages/pandas/core/indexes/base.py:3803\u001b[0m, in \u001b[0;36mIndex.get_loc\u001b[0;34m(self, key, method, tolerance)\u001b[0m\n\u001b[1;32m   <a href='file:///home/hep/emc21/miniconda3/envs/FCC/lib/python3.9/site-packages/pandas/core/indexes/base.py?line=3801'>3802</a>\u001b[0m \u001b[39mtry\u001b[39;00m:\n\u001b[0;32m-> <a href='file:///home/hep/emc21/miniconda3/envs/FCC/lib/python3.9/site-packages/pandas/core/indexes/base.py?line=3802'>3803</a>\u001b[0m     \u001b[39mreturn\u001b[39;00m \u001b[39mself\u001b[39;49m\u001b[39m.\u001b[39;49m_engine\u001b[39m.\u001b[39;49mget_loc(casted_key)\n\u001b[1;32m   <a href='file:///home/hep/emc21/miniconda3/envs/FCC/lib/python3.9/site-packages/pandas/core/indexes/base.py?line=3803'>3804</a>\u001b[0m \u001b[39mexcept\u001b[39;00m \u001b[39mKeyError\u001b[39;00m \u001b[39mas\u001b[39;00m err:\n",
      "File \u001b[0;32m~/miniconda3/envs/FCC/lib/python3.9/site-packages/pandas/_libs/index.pyx:138\u001b[0m, in \u001b[0;36mpandas._libs.index.IndexEngine.get_loc\u001b[0;34m()\u001b[0m\n",
      "File \u001b[0;32m~/miniconda3/envs/FCC/lib/python3.9/site-packages/pandas/_libs/index.pyx:165\u001b[0m, in \u001b[0;36mpandas._libs.index.IndexEngine.get_loc\u001b[0;34m()\u001b[0m\n",
      "File \u001b[0;32mpandas/_libs/hashtable_class_helper.pxi:5745\u001b[0m, in \u001b[0;36mpandas._libs.hashtable.PyObjectHashTable.get_item\u001b[0;34m()\u001b[0m\n",
      "File \u001b[0;32mpandas/_libs/hashtable_class_helper.pxi:5753\u001b[0m, in \u001b[0;36mpandas._libs.hashtable.PyObjectHashTable.get_item\u001b[0;34m()\u001b[0m\n",
      "\u001b[0;31mKeyError\u001b[0m: 'Particle.LifeTime'",
      "\nThe above exception was the direct cause of the following exception:\n",
      "\u001b[0;31mKeyError\u001b[0m                                  Traceback (most recent call last)",
      "\u001b[1;32m/vols/cms/emc21/FCC/MadGraph_files/distributions/findingCuts.ipynb Cell 16'\u001b[0m in \u001b[0;36m<cell line: 6>\u001b[0;34m()\u001b[0m\n\u001b[1;32m      <a href='vscode-notebook-cell://ssh-remote%2Blx02.hep.ph.ic.ac.uk/vols/cms/emc21/FCC/MadGraph_files/distributions/findingCuts.ipynb#ch0000014vscode-remote?line=0'>1</a>\u001b[0m \u001b[39m# I can also plot the lifetime of the A particle\u001b[39;00m\n\u001b[1;32m      <a href='vscode-notebook-cell://ssh-remote%2Blx02.hep.ph.ic.ac.uk/vols/cms/emc21/FCC/MadGraph_files/distributions/findingCuts.ipynb#ch0000014vscode-remote?line=1'>2</a>\u001b[0m \u001b[39m# Now for the h3\u001b[39;00m\n\u001b[1;32m      <a href='vscode-notebook-cell://ssh-remote%2Blx02.hep.ph.ic.ac.uk/vols/cms/emc21/FCC/MadGraph_files/distributions/findingCuts.ipynb#ch0000014vscode-remote?line=3'>4</a>\u001b[0m inert_data \u001b[39m=\u001b[39m data[(data[\u001b[39m'\u001b[39m\u001b[39mParticle.PID\u001b[39m\u001b[39m'\u001b[39m] \u001b[39m==\u001b[39m \u001b[39m36\u001b[39m)]\n\u001b[0;32m----> <a href='vscode-notebook-cell://ssh-remote%2Blx02.hep.ph.ic.ac.uk/vols/cms/emc21/FCC/MadGraph_files/distributions/findingCuts.ipynb#ch0000014vscode-remote?line=5'>6</a>\u001b[0m lifetimes \u001b[39m=\u001b[39m inert_data[\u001b[39m'\u001b[39;49m\u001b[39mParticle.LifeTime\u001b[39;49m\u001b[39m'\u001b[39;49m]\n\u001b[1;32m      <a href='vscode-notebook-cell://ssh-remote%2Blx02.hep.ph.ic.ac.uk/vols/cms/emc21/FCC/MadGraph_files/distributions/findingCuts.ipynb#ch0000014vscode-remote?line=6'>7</a>\u001b[0m nbins \u001b[39m=\u001b[39m \u001b[39m100\u001b[39m\n\u001b[1;32m      <a href='vscode-notebook-cell://ssh-remote%2Blx02.hep.ph.ic.ac.uk/vols/cms/emc21/FCC/MadGraph_files/distributions/findingCuts.ipynb#ch0000014vscode-remote?line=7'>8</a>\u001b[0m hist \u001b[39m=\u001b[39m plt\u001b[39m.\u001b[39mhist(lifetimes, bins\u001b[39m=\u001b[39mnbins)\n",
      "File \u001b[0;32m~/miniconda3/envs/FCC/lib/python3.9/site-packages/pandas/core/frame.py:3804\u001b[0m, in \u001b[0;36mDataFrame.__getitem__\u001b[0;34m(self, key)\u001b[0m\n\u001b[1;32m   <a href='file:///home/hep/emc21/miniconda3/envs/FCC/lib/python3.9/site-packages/pandas/core/frame.py?line=3801'>3802</a>\u001b[0m \u001b[39mif\u001b[39;00m \u001b[39mself\u001b[39m\u001b[39m.\u001b[39mcolumns\u001b[39m.\u001b[39mnlevels \u001b[39m>\u001b[39m \u001b[39m1\u001b[39m:\n\u001b[1;32m   <a href='file:///home/hep/emc21/miniconda3/envs/FCC/lib/python3.9/site-packages/pandas/core/frame.py?line=3802'>3803</a>\u001b[0m     \u001b[39mreturn\u001b[39;00m \u001b[39mself\u001b[39m\u001b[39m.\u001b[39m_getitem_multilevel(key)\n\u001b[0;32m-> <a href='file:///home/hep/emc21/miniconda3/envs/FCC/lib/python3.9/site-packages/pandas/core/frame.py?line=3803'>3804</a>\u001b[0m indexer \u001b[39m=\u001b[39m \u001b[39mself\u001b[39;49m\u001b[39m.\u001b[39;49mcolumns\u001b[39m.\u001b[39;49mget_loc(key)\n\u001b[1;32m   <a href='file:///home/hep/emc21/miniconda3/envs/FCC/lib/python3.9/site-packages/pandas/core/frame.py?line=3804'>3805</a>\u001b[0m \u001b[39mif\u001b[39;00m is_integer(indexer):\n\u001b[1;32m   <a href='file:///home/hep/emc21/miniconda3/envs/FCC/lib/python3.9/site-packages/pandas/core/frame.py?line=3805'>3806</a>\u001b[0m     indexer \u001b[39m=\u001b[39m [indexer]\n",
      "File \u001b[0;32m~/miniconda3/envs/FCC/lib/python3.9/site-packages/pandas/core/indexes/base.py:3805\u001b[0m, in \u001b[0;36mIndex.get_loc\u001b[0;34m(self, key, method, tolerance)\u001b[0m\n\u001b[1;32m   <a href='file:///home/hep/emc21/miniconda3/envs/FCC/lib/python3.9/site-packages/pandas/core/indexes/base.py?line=3802'>3803</a>\u001b[0m     \u001b[39mreturn\u001b[39;00m \u001b[39mself\u001b[39m\u001b[39m.\u001b[39m_engine\u001b[39m.\u001b[39mget_loc(casted_key)\n\u001b[1;32m   <a href='file:///home/hep/emc21/miniconda3/envs/FCC/lib/python3.9/site-packages/pandas/core/indexes/base.py?line=3803'>3804</a>\u001b[0m \u001b[39mexcept\u001b[39;00m \u001b[39mKeyError\u001b[39;00m \u001b[39mas\u001b[39;00m err:\n\u001b[0;32m-> <a href='file:///home/hep/emc21/miniconda3/envs/FCC/lib/python3.9/site-packages/pandas/core/indexes/base.py?line=3804'>3805</a>\u001b[0m     \u001b[39mraise\u001b[39;00m \u001b[39mKeyError\u001b[39;00m(key) \u001b[39mfrom\u001b[39;00m \u001b[39merr\u001b[39;00m\n\u001b[1;32m   <a href='file:///home/hep/emc21/miniconda3/envs/FCC/lib/python3.9/site-packages/pandas/core/indexes/base.py?line=3805'>3806</a>\u001b[0m \u001b[39mexcept\u001b[39;00m \u001b[39mTypeError\u001b[39;00m:\n\u001b[1;32m   <a href='file:///home/hep/emc21/miniconda3/envs/FCC/lib/python3.9/site-packages/pandas/core/indexes/base.py?line=3806'>3807</a>\u001b[0m     \u001b[39m# If we have a listlike key, _check_indexing_error will raise\u001b[39;00m\n\u001b[1;32m   <a href='file:///home/hep/emc21/miniconda3/envs/FCC/lib/python3.9/site-packages/pandas/core/indexes/base.py?line=3807'>3808</a>\u001b[0m     \u001b[39m#  InvalidIndexError. Otherwise we fall through and re-raise\u001b[39;00m\n\u001b[1;32m   <a href='file:///home/hep/emc21/miniconda3/envs/FCC/lib/python3.9/site-packages/pandas/core/indexes/base.py?line=3808'>3809</a>\u001b[0m     \u001b[39m#  the TypeError.\u001b[39;00m\n\u001b[1;32m   <a href='file:///home/hep/emc21/miniconda3/envs/FCC/lib/python3.9/site-packages/pandas/core/indexes/base.py?line=3809'>3810</a>\u001b[0m     \u001b[39mself\u001b[39m\u001b[39m.\u001b[39m_check_indexing_error(key)\n",
      "\u001b[0;31mKeyError\u001b[0m: 'Particle.LifeTime'"
     ]
    }
   ],
   "source": [
    "# I can also plot the lifetime of the A particle\n",
    "# Now for the h3\n",
    "\n",
    "inert_data = data[(data['Particle.PID'] == 36)]\n",
    "\n",
    "lifetimes = inert_data['Particle.LifeTime']\n",
    "nbins = 100\n",
    "hist = plt.hist(lifetimes, bins=nbins)\n",
    "plt.xlim((0,0.02))\n",
    "\n",
    "# So it doesn't live for very long!"
   ]
  },
  {
   "cell_type": "code",
   "execution_count": 93,
   "metadata": {},
   "outputs": [
    {
     "name": "stdout",
     "output_type": "stream",
     "text": [
      "24.478235397351234\n",
      "14.690685631825556\n",
      "2.5327279110666785\n"
     ]
    },
    {
     "data": {
      "text/plain": [
       "Text(1, 0, 'PT (GeV)')"
      ]
     },
     "execution_count": 93,
     "metadata": {},
     "output_type": "execute_result"
    },
    {
     "data": {
      "image/png": "[encoded data removed]",
      "text/plain": [
       "<Figure size 432x288 with 1 Axes>"
      ]
     },
     "metadata": {
      "needs_background": "light"
     },
     "output_type": "display_data"
    }
   ],
   "source": [
    "# Let's do some plots for the leptons\n",
    "\n",
    "lepton_data = data[(abs(data['Particle.PID']) == 11) | (abs(data['Particle.PID']) == 13)]\n",
    "\n",
    "print(lepton_data['Particle.PT'].mean())\n",
    "print(lepton_data['Particle.PT'].std())\n",
    "print(lepton_data['Particle.PT'].skew())\n",
    "nbins = 300\n",
    "n, bins, patches = plt.hist(lepton_data['Particle.PT'], bins=nbins)\n",
    "plt.title(f'PT for leptons', fontsize=16)\n",
    "plt.ylabel('Count')\n",
    "plt.xlabel('PT (GeV)')\n",
    "#plt.xlim((0,500))\n"
   ]
  },
  {
   "cell_type": "code",
   "execution_count": 94,
   "metadata": {},
   "outputs": [
    {
     "name": "stdout",
     "output_type": "stream",
     "text": [
      "50.0597523908517\n"
     ]
    },
    {
     "data": {
      "text/plain": [
       "Text(1, 0, 'E (GeV)')"
      ]
     },
     "execution_count": 94,
     "metadata": {},
     "output_type": "execute_result"
    },
    {
     "data": {
      "image/png": "[encoded data removed]",
      "text/plain": [
       "<Figure size 432x288 with 1 Axes>"
      ]
     },
     "metadata": {
      "needs_background": "light"
     },
     "output_type": "display_data"
    }
   ],
   "source": [
    "# Lepton energy\n",
    "print(lepton_data['Particle.E'].mean())\n",
    "nbins = 300\n",
    "n, bins, patches = plt.hist(lepton_data['Particle.E'], bins=nbins)\n",
    "plt.title(f'E for leptons', fontsize=16)\n",
    "plt.ylabel('Count')\n",
    "plt.xlabel('E (GeV)')\n",
    "#plt.xlim((0,500))"
   ]
  },
  {
   "cell_type": "code",
   "execution_count": 8,
   "metadata": {},
   "outputs": [
    {
     "data": {
      "text/plain": [
       "Text(0.5, 1.0, 'Lepton PT')"
      ]
     },
     "execution_count": 8,
     "metadata": {},
     "output_type": "execute_result"
    },
    {
     "data": {
      "image/png": "[encoded data removed]",
      "text/plain": [
       "<Figure size 432x288 with 1 Axes>"
      ]
     },
     "metadata": {
      "needs_background": "light"
     },
     "output_type": "display_data"
    }
   ],
   "source": [
    "# Angle between the two leptons\n",
    "lepton_data = data[(abs(data['Particle.PID']) == 11) | (abs(data['Particle.PID']) == 13)]\n",
    "\n",
    "g = lepton_data.groupby('entry')\n",
    "angles = g.apply(getAngle)\n",
    "\n",
    "nbins = 100\n",
    "n, bins, patches = plt.hist(angles, bins=nbins)\n",
    "plt.xlabel('PT (GeV)')\n",
    "plt.ylabel('Count')\n",
    "plt.title('Lepton PT')"
   ]
  },
  {
   "cell_type": "code",
   "execution_count": 96,
   "metadata": {},
   "outputs": [
    {
     "data": {
      "text/plain": [
       "Text(0.5, 1.0, 'Jet PT')"
      ]
     },
     "execution_count": 96,
     "metadata": {},
     "output_type": "execute_result"
    },
    {
     "data": {
      "image/png": "[encoded data removed]",
      "text/plain": [
       "<Figure size 432x288 with 1 Axes>"
      ]
     },
     "metadata": {
      "needs_background": "light"
     },
     "output_type": "display_data"
    }
   ],
   "source": [
    "# Let's look at the jets now\n",
    "# First get rid of the particles that are travelling\n",
    "# down the beam pipe (e.g. a u with eta=999)\n",
    "signal_data = data[(abs(data['Particle.Eta']) < 998)]\n",
    "# Now pick out the quarks\n",
    "quarks = [1,2,3,4,5]\n",
    "signal_data = signal_data[abs(signal_data['Particle.PID']).isin(quarks)]\n",
    "\n",
    "# Plot of PT\n",
    "nbins = 50\n",
    "n, bins, patches = plt.hist(signal_data['Particle.PT'], bins=nbins)\n",
    "plt.xlabel('PT (GeV)')\n",
    "plt.ylabel('Count')\n",
    "plt.title('Jet PT')"
   ]
  },
  {
   "cell_type": "code",
   "execution_count": 97,
   "metadata": {},
   "outputs": [
    {
     "data": {
      "text/plain": [
       "Text(0.5, 1.0, 'Jet Eta')"
      ]
     },
     "execution_count": 97,
     "metadata": {},
     "output_type": "execute_result"
    },
    {
     "data": {
      "image/png": "[encoded data removed]",
      "text/plain": [
       "<Figure size 432x288 with 1 Axes>"
      ]
     },
     "metadata": {
      "needs_background": "light"
     },
     "output_type": "display_data"
    }
   ],
   "source": [
    "# Plot of jet eta\n",
    "nbins = 50\n",
    "n, bins, patches = plt.hist(signal_data['Particle.Eta'], bins=nbins)\n",
    "plt.xlabel('Eta')\n",
    "plt.ylabel('Count')\n",
    "plt.title('Jet Eta')"
   ]
  },
  {
   "cell_type": "code",
   "execution_count": 77,
   "metadata": {},
   "outputs": [
    {
     "name": "stdout",
     "output_type": "stream",
     "text": [
      "Welcome to JupyROOT 6.26/04\n"
     ]
    },
    {
     "name": "stderr",
     "output_type": "stream",
     "text": [
      "Warning in <TClass::Init>: no dictionary for class TRootLHEFEvent is available\n",
      "Warning in <TClass::Init>: no dictionary for class TRootWeight is available\n",
      "Warning in <TClass::Init>: no dictionary for class TRootLHEFParticle is available\n",
      "Warning in <TClass::Init>: no dictionary for class TSortableObject is available\n",
      "Info in <TCanvas::MakeDefCanvas>:  created default TCanvas with name c1\n"
     ]
    },
    {
     "data": {
      "image/png": "[encoded data removed]",
      "text/plain": [
       "<IPython.core.display.Image object>"
      ]
     },
     "metadata": {},
     "output_type": "display_data"
    }
   ],
   "source": [
    "import ROOT\n",
    "\n",
    "# ROOT.gSystem.Load(\"/vols/cms/emc21/FCC/MG5_aMC_v2_6_7/ExRootAnalysis/libExRootAnalysis.so\")\n",
    "ROOT.gInterpreter.Declare('#include \"/vols/cms/emc21/FCC/MG5_aMC_v2_6_7/ExRootAnalysis/ExRootAnalysis/ExRootTreeReader.h\"')\n",
    "ROOT.gInterpreter.Declare('#include \"/vols/cms/emc21/FCC/MG5_aMC_v2_6_7/ExRootAnalysis/ExRootAnalysis/ExRootTreeBranch.h\"')\n",
    "\n",
    "# p p > h2 h2 l+ l-\n",
    "# This reads in the file\n",
    "inFile = ROOT.TFile.Open(\"/vols/cms/emc21/FCC/MadGraph_files/distributions/h2h2lPlMj_l_e_mu/BP1/h2h2lPlMj_l_e_mu_BP1/Events/run_01/unweighted_events.root\")\n",
    "# This get's the tree from the file\n",
    "# The argument LHEF is the name of the tree -> Can be found by the root gui file thing\n",
    "tree = inFile.Get(\"LHEF\")\n",
    "\n",
    "histo = ROOT.TH1F(\"histo\", \";PT; Numer of Events\", 100, 0, 500)\n",
    "#tree.Draw(\"Particle.E>>histo\", \"Particle.PID == 35 && Particle.Eta > -1 && Particle.Eta < 1\")\n",
    "tree.Draw(\"Particle.PT>>histo\", \"Particle.PID == 36\")\n",
    "myc = ROOT.TCanvas(\"myc\",\"myc\",1)\n",
    "myc.cd()\n",
    "histo.Draw()\n",
    "myc.Draw()\n",
    "# Why are there so many Z bosons in the final state as well? Something to ask AM."
   ]
  }
 ],
 "metadata": {
  "kernelspec": {
   "display_name": "Python 3.9.13 ('FCC')",
   "language": "python",
   "name": "python3"
  },
  "language_info": {
   "codemirror_mode": {
    "name": "ipython",
    "version": 3
   },
   "file_extension": ".py",
   "mimetype": "text/x-python",
   "name": "python",
   "nbconvert_exporter": "python",
   "pygments_lexer": "ipython3",
   "version": "3.9.13"
  },
  "orig_nbformat": 4,
  "vscode": {
   "interpreter": {
    "hash": "ad819b60171663a167d0db40f47bd886833251bcaf7c4d654a576d15df427bd9"
   }
  }
 },
 "nbformat": 4,
 "nbformat_minor": 2
}
