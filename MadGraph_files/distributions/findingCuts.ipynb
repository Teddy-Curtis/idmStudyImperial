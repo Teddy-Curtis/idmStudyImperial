{
 "cells": [
  {
   "cell_type": "code",
   "execution_count": 2,
   "metadata": {},
   "outputs": [],
   "source": [
    "import uproot\n",
    "import pandas as pd\n",
    "import numpy as np\n",
    "import matplotlib.pyplot as plt\n",
    "import awkward as ak\n",
    "from particle import PDGID\n",
    "from particle import Particle\n",
    "#import mplhep as hep\n",
    "#hep.set_style('CMS')\n",
    "#hep.style.use('CMS')\n"
   ]
  },
  {
   "cell_type": "code",
   "execution_count": 3,
   "metadata": {},
   "outputs": [
    {
     "name": "stdout",
     "output_type": "stream",
     "text": [
      "['Particle.fUniqueID', 'Particle.fBits', 'Particle.PID', 'Particle.Status', 'Particle.Mother1', 'Particle.Mother2', 'Particle.ColorLine1', 'Particle.ColorLine2', 'Particle.Px', 'Particle.Py', 'Particle.Pz', 'Particle.E', 'Particle.M', 'Particle.PT', 'Particle.Eta', 'Particle.Phi', 'Particle.Rapidity', 'Particle.LifeTime', 'Particle.Spin']\n"
     ]
    },
    {
     "data": {
      "text/html": [
       "<div>\n",
       "<style scoped>\n",
       "    .dataframe tbody tr th:only-of-type {\n",
       "        vertical-align: middle;\n",
       "    }\n",
       "\n",
       "    .dataframe tbody tr th {\n",
       "        vertical-align: top;\n",
       "    }\n",
       "\n",
       "    .dataframe thead th {\n",
       "        text-align: right;\n",
       "    }\n",
       "</style>\n",
       "<table border=\"1\" class=\"dataframe\">\n",
       "  <thead>\n",
       "    <tr style=\"text-align: right;\">\n",
       "      <th></th>\n",
       "      <th></th>\n",
       "      <th>Particle.PID</th>\n",
       "      <th>Particle.Px</th>\n",
       "      <th>Particle.Py</th>\n",
       "      <th>Particle.Pz</th>\n",
       "      <th>Particle.PT</th>\n",
       "      <th>Particle.E</th>\n",
       "      <th>Particle.Eta</th>\n",
       "      <th>Particle.Status</th>\n",
       "    </tr>\n",
       "    <tr>\n",
       "      <th>entry</th>\n",
       "      <th>subentry</th>\n",
       "      <th></th>\n",
       "      <th></th>\n",
       "      <th></th>\n",
       "      <th></th>\n",
       "      <th></th>\n",
       "      <th></th>\n",
       "      <th></th>\n",
       "      <th></th>\n",
       "    </tr>\n",
       "  </thead>\n",
       "  <tbody>\n",
       "    <tr>\n",
       "      <th rowspan=\"5\" valign=\"top\">0</th>\n",
       "      <th>0</th>\n",
       "      <td>1</td>\n",
       "      <td>0.000000</td>\n",
       "      <td>0.000000</td>\n",
       "      <td>366.214337</td>\n",
       "      <td>0.000000</td>\n",
       "      <td>366.214337</td>\n",
       "      <td>999.900000</td>\n",
       "      <td>-1</td>\n",
       "    </tr>\n",
       "    <tr>\n",
       "      <th>1</th>\n",
       "      <td>-1</td>\n",
       "      <td>-0.000000</td>\n",
       "      <td>-0.000000</td>\n",
       "      <td>-300.859698</td>\n",
       "      <td>0.000000</td>\n",
       "      <td>300.859698</td>\n",
       "      <td>-999.900000</td>\n",
       "      <td>-1</td>\n",
       "    </tr>\n",
       "    <tr>\n",
       "      <th>2</th>\n",
       "      <td>36</td>\n",
       "      <td>78.459458</td>\n",
       "      <td>289.223187</td>\n",
       "      <td>157.614734</td>\n",
       "      <td>299.676390</td>\n",
       "      <td>346.424306</td>\n",
       "      <td>0.504301</td>\n",
       "      <td>2</td>\n",
       "    </tr>\n",
       "    <tr>\n",
       "      <th>3</th>\n",
       "      <td>35</td>\n",
       "      <td>-78.459458</td>\n",
       "      <td>-289.223187</td>\n",
       "      <td>-92.260094</td>\n",
       "      <td>299.676390</td>\n",
       "      <td>320.649729</td>\n",
       "      <td>-0.303199</td>\n",
       "      <td>1</td>\n",
       "    </tr>\n",
       "    <tr>\n",
       "      <th>4</th>\n",
       "      <td>35</td>\n",
       "      <td>69.143601</td>\n",
       "      <td>261.873686</td>\n",
       "      <td>142.820980</td>\n",
       "      <td>270.848048</td>\n",
       "      <td>313.456348</td>\n",
       "      <td>0.505505</td>\n",
       "      <td>1</td>\n",
       "    </tr>\n",
       "    <tr>\n",
       "      <th>...</th>\n",
       "      <th>...</th>\n",
       "      <td>...</td>\n",
       "      <td>...</td>\n",
       "      <td>...</td>\n",
       "      <td>...</td>\n",
       "      <td>...</td>\n",
       "      <td>...</td>\n",
       "      <td>...</td>\n",
       "      <td>...</td>\n",
       "    </tr>\n",
       "    <tr>\n",
       "      <th rowspan=\"5\" valign=\"top\">9999</th>\n",
       "      <th>2</th>\n",
       "      <td>36</td>\n",
       "      <td>-45.395620</td>\n",
       "      <td>-168.591661</td>\n",
       "      <td>-90.334520</td>\n",
       "      <td>174.596422</td>\n",
       "      <td>209.775354</td>\n",
       "      <td>-0.496712</td>\n",
       "      <td>2</td>\n",
       "    </tr>\n",
       "    <tr>\n",
       "      <th>3</th>\n",
       "      <td>35</td>\n",
       "      <td>-37.653521</td>\n",
       "      <td>-147.068520</td>\n",
       "      <td>-79.190829</td>\n",
       "      <td>151.812177</td>\n",
       "      <td>183.892657</td>\n",
       "      <td>-0.500480</td>\n",
       "      <td>1</td>\n",
       "    </tr>\n",
       "    <tr>\n",
       "      <th>4</th>\n",
       "      <td>35</td>\n",
       "      <td>45.395620</td>\n",
       "      <td>168.591661</td>\n",
       "      <td>-84.512890</td>\n",
       "      <td>174.596422</td>\n",
       "      <td>205.243085</td>\n",
       "      <td>-0.466898</td>\n",
       "      <td>1</td>\n",
       "    </tr>\n",
       "    <tr>\n",
       "      <th>5</th>\n",
       "      <td>-13</td>\n",
       "      <td>-2.740255</td>\n",
       "      <td>-10.481290</td>\n",
       "      <td>-2.875890</td>\n",
       "      <td>10.833579</td>\n",
       "      <td>11.209298</td>\n",
       "      <td>-0.262438</td>\n",
       "      <td>1</td>\n",
       "    </tr>\n",
       "    <tr>\n",
       "      <th>6</th>\n",
       "      <td>13</td>\n",
       "      <td>-5.001843</td>\n",
       "      <td>-11.041852</td>\n",
       "      <td>-8.267801</td>\n",
       "      <td>12.121919</td>\n",
       "      <td>14.673399</td>\n",
       "      <td>-0.637902</td>\n",
       "      <td>1</td>\n",
       "    </tr>\n",
       "  </tbody>\n",
       "</table>\n",
       "<p>69950 rows × 8 columns</p>\n",
       "</div>"
      ],
      "text/plain": [
       "                Particle.PID  Particle.Px  Particle.Py  Particle.Pz  \\\n",
       "entry subentry                                                        \n",
       "0     0                    1     0.000000     0.000000   366.214337   \n",
       "      1                   -1    -0.000000    -0.000000  -300.859698   \n",
       "      2                   36    78.459458   289.223187   157.614734   \n",
       "      3                   35   -78.459458  -289.223187   -92.260094   \n",
       "      4                   35    69.143601   261.873686   142.820980   \n",
       "...                      ...          ...          ...          ...   \n",
       "9999  2                   36   -45.395620  -168.591661   -90.334520   \n",
       "      3                   35   -37.653521  -147.068520   -79.190829   \n",
       "      4                   35    45.395620   168.591661   -84.512890   \n",
       "      5                  -13    -2.740255   -10.481290    -2.875890   \n",
       "      6                   13    -5.001843   -11.041852    -8.267801   \n",
       "\n",
       "                Particle.PT  Particle.E  Particle.Eta  Particle.Status  \n",
       "entry subentry                                                          \n",
       "0     0            0.000000  366.214337    999.900000               -1  \n",
       "      1            0.000000  300.859698   -999.900000               -1  \n",
       "      2          299.676390  346.424306      0.504301                2  \n",
       "      3          299.676390  320.649729     -0.303199                1  \n",
       "      4          270.848048  313.456348      0.505505                1  \n",
       "...                     ...         ...           ...              ...  \n",
       "9999  2          174.596422  209.775354     -0.496712                2  \n",
       "      3          151.812177  183.892657     -0.500480                1  \n",
       "      4          174.596422  205.243085     -0.466898                1  \n",
       "      5           10.833579   11.209298     -0.262438                1  \n",
       "      6           12.121919   14.673399     -0.637902                1  \n",
       "\n",
       "[69950 rows x 8 columns]"
      ]
     },
     "execution_count": 3,
     "metadata": {},
     "output_type": "execute_result"
    }
   ],
   "source": [
    "file = uproot.open('/vols/cms/emc21/idmStudy/MadGraph_files/distributions/h2h2lPlM_lem/BP3/h2h2lPlM_lem_BP3/Events/run_01/unweighted_events.root')\n",
    "tree = file['LHEF']\n",
    "tree = tree['Particle']\n",
    "print(tree.keys())\n",
    "data = tree.arrays(['Particle.PID', 'Particle.Px','Particle.Py', 'Particle.Pz', 'Particle.PT', 'Particle.E', 'Particle.Eta', 'Particle.Status'], library='pd')\n",
    "data"
   ]
  },
  {
   "cell_type": "code",
   "execution_count": 5,
   "metadata": {},
   "outputs": [
    {
     "data": {
      "text/html": [
       "<div>\n",
       "<style scoped>\n",
       "    .dataframe tbody tr th:only-of-type {\n",
       "        vertical-align: middle;\n",
       "    }\n",
       "\n",
       "    .dataframe tbody tr th {\n",
       "        vertical-align: top;\n",
       "    }\n",
       "\n",
       "    .dataframe thead th {\n",
       "        text-align: right;\n",
       "    }\n",
       "</style>\n",
       "<table border=\"1\" class=\"dataframe\">\n",
       "  <thead>\n",
       "    <tr style=\"text-align: right;\">\n",
       "      <th></th>\n",
       "      <th>Particle.PID</th>\n",
       "      <th>Particle.Px</th>\n",
       "      <th>Particle.Py</th>\n",
       "      <th>Particle.Pz</th>\n",
       "      <th>Particle.PT</th>\n",
       "      <th>Particle.E</th>\n",
       "      <th>Particle.Eta</th>\n",
       "      <th>Particle.Status</th>\n",
       "    </tr>\n",
       "    <tr>\n",
       "      <th>subentry</th>\n",
       "      <th></th>\n",
       "      <th></th>\n",
       "      <th></th>\n",
       "      <th></th>\n",
       "      <th></th>\n",
       "      <th></th>\n",
       "      <th></th>\n",
       "      <th></th>\n",
       "    </tr>\n",
       "  </thead>\n",
       "  <tbody>\n",
       "    <tr>\n",
       "      <th>0</th>\n",
       "      <td>2</td>\n",
       "      <td>0.000000</td>\n",
       "      <td>0.000000</td>\n",
       "      <td>98.889932</td>\n",
       "      <td>0.000000</td>\n",
       "      <td>98.889932</td>\n",
       "      <td>999.900000</td>\n",
       "      <td>-1</td>\n",
       "    </tr>\n",
       "    <tr>\n",
       "      <th>1</th>\n",
       "      <td>-2</td>\n",
       "      <td>-0.000000</td>\n",
       "      <td>-0.000000</td>\n",
       "      <td>-651.035834</td>\n",
       "      <td>0.000000</td>\n",
       "      <td>651.035834</td>\n",
       "      <td>-999.900000</td>\n",
       "      <td>-1</td>\n",
       "    </tr>\n",
       "    <tr>\n",
       "      <th>2</th>\n",
       "      <td>36</td>\n",
       "      <td>-36.424693</td>\n",
       "      <td>-195.564733</td>\n",
       "      <td>-485.356649</td>\n",
       "      <td>198.927934</td>\n",
       "      <td>529.627078</td>\n",
       "      <td>-1.624662</td>\n",
       "      <td>2</td>\n",
       "    </tr>\n",
       "    <tr>\n",
       "      <th>3</th>\n",
       "      <td>35</td>\n",
       "      <td>-30.631319</td>\n",
       "      <td>-172.589054</td>\n",
       "      <td>-431.974788</td>\n",
       "      <td>175.286221</td>\n",
       "      <td>470.983929</td>\n",
       "      <td>-1.633927</td>\n",
       "      <td>1</td>\n",
       "    </tr>\n",
       "    <tr>\n",
       "      <th>4</th>\n",
       "      <td>35</td>\n",
       "      <td>36.424693</td>\n",
       "      <td>195.564733</td>\n",
       "      <td>-66.789252</td>\n",
       "      <td>198.927934</td>\n",
       "      <td>220.298688</td>\n",
       "      <td>-0.329738</td>\n",
       "      <td>1</td>\n",
       "    </tr>\n",
       "    <tr>\n",
       "      <th>5</th>\n",
       "      <td>-11</td>\n",
       "      <td>-5.187407</td>\n",
       "      <td>-9.947774</td>\n",
       "      <td>-25.763370</td>\n",
       "      <td>11.219064</td>\n",
       "      <td>28.100154</td>\n",
       "      <td>-1.568839</td>\n",
       "      <td>1</td>\n",
       "    </tr>\n",
       "    <tr>\n",
       "      <th>6</th>\n",
       "      <td>11</td>\n",
       "      <td>-0.605968</td>\n",
       "      <td>-13.027904</td>\n",
       "      <td>-27.618491</td>\n",
       "      <td>13.041989</td>\n",
       "      <td>30.542995</td>\n",
       "      <td>-1.495049</td>\n",
       "      <td>1</td>\n",
       "    </tr>\n",
       "  </tbody>\n",
       "</table>\n",
       "</div>"
      ],
      "text/plain": [
       "          Particle.PID  Particle.Px  Particle.Py  Particle.Pz  Particle.PT  \\\n",
       "subentry                                                                     \n",
       "0                    2     0.000000     0.000000    98.889932     0.000000   \n",
       "1                   -2    -0.000000    -0.000000  -651.035834     0.000000   \n",
       "2                   36   -36.424693  -195.564733  -485.356649   198.927934   \n",
       "3                   35   -30.631319  -172.589054  -431.974788   175.286221   \n",
       "4                   35    36.424693   195.564733   -66.789252   198.927934   \n",
       "5                  -11    -5.187407    -9.947774   -25.763370    11.219064   \n",
       "6                   11    -0.605968   -13.027904   -27.618491    13.041989   \n",
       "\n",
       "          Particle.E  Particle.Eta  Particle.Status  \n",
       "subentry                                             \n",
       "0          98.889932    999.900000               -1  \n",
       "1         651.035834   -999.900000               -1  \n",
       "2         529.627078     -1.624662                2  \n",
       "3         470.983929     -1.633927                1  \n",
       "4         220.298688     -0.329738                1  \n",
       "5          28.100154     -1.568839                1  \n",
       "6          30.542995     -1.495049                1  "
      ]
     },
     "execution_count": 5,
     "metadata": {},
     "output_type": "execute_result"
    }
   ],
   "source": [
    "data.loc[18]\n",
    "# Why is there an A particle here?!\n",
    "# Can see a c quark (4) and a g (21), then an A (36), H (35), electrons (11,-11) then another charm quark (4) \n",
    "# -> Think this last charm quark is what makes the jet."
   ]
  },
  {
   "cell_type": "code",
   "execution_count": 33,
   "metadata": {},
   "outputs": [
    {
     "name": "stdout",
     "output_type": "stream",
     "text": [
      "7226\n"
     ]
    }
   ],
   "source": [
    "h3_df = data[data['Particle.PID'] == 36]\n",
    "h3_df\n",
    "print(len(h3_df))"
   ]
  },
  {
   "cell_type": "code",
   "execution_count": 6,
   "metadata": {},
   "outputs": [
    {
     "data": {
      "image/png": "[encoded data removed]",
      "text/plain": [
       "<Figure size 576x432 with 1 Axes>"
      ]
     },
     "metadata": {
      "needs_background": "light"
     },
     "output_type": "display_data"
    }
   ],
   "source": [
    "def H_PT(H_data): \n",
    "    #mean = H_data['Particle.PT'].mean()\n",
    "    #std = H_data['Particle.PT'].std()\n",
    "    nbins = 300 \n",
    "    plt.figure(figsize=(8,6))\n",
    "    plt.tight_layout()\n",
    "    #plt.hist(H_data['Particle.PT'], bins=nbins, label=f'$\\mu={mean:0.2f}$, $\\sigma={std:0.2f}$')\n",
    "    plt.hist(H_data['Particle.PT'], bins=nbins)\n",
    "    plt.title(f'H PTs')\n",
    "    plt.xlabel(f'PT (GeV)')\n",
    "    plt.ylabel(f'Counts')\n",
    "    plt.xlim((0,150))\n",
    "\n",
    "H_data = data[(data['Particle.PID'] == 35)]\n",
    "\n",
    "H_PT(H_data)"
   ]
  },
  {
   "cell_type": "markdown",
   "metadata": {},
   "source": [
    "This is just the sum of the individual PTs, not the actual total PT_miss that will be measured -> need to combine the PT of all the inert scalars, start by doing this just for h2 then include the h3 "
   ]
  },
  {
   "cell_type": "code",
   "execution_count": 7,
   "metadata": {},
   "outputs": [
    {
     "data": {
      "image/png": "[encoded data removed]",
      "text/plain": [
       "<Figure size 576x432 with 1 Axes>"
      ]
     },
     "metadata": {
      "needs_background": "light"
     },
     "output_type": "display_data"
    }
   ],
   "source": [
    "\n",
    "def H_PT_vectorSum(H_data):\n",
    "    grouped = H_data.groupby(level=0).sum()\n",
    "    grouped['PT_tot'] = np.sqrt(grouped['Particle.Px']**2 + grouped['Particle.Py']**2)\n",
    "    nbins = 100\n",
    "    #mean = grouped['PT_tot'].mean()\n",
    "    #std = grouped['PT_tot'].std()\n",
    "    plt.figure(figsize=(8,6))\n",
    "    plt.tight_layout()\n",
    "    #plt.hist(grouped['PT_tot'], bins=nbins, label=f'$\\mu={mean:0.2f}$, $\\sigma={std:0.2f}$')\n",
    "    plt.hist(grouped['PT_tot'], bins=nbins)\n",
    "    plt.title(f'Vector sum of H PTs')\n",
    "    plt.xlabel(f'PT (GeV)')\n",
    "    plt.ylabel(f'Counts')\n",
    "\n",
    "\n",
    "H_PT_vectorSum(H_data)"
   ]
  },
  {
   "cell_type": "markdown",
   "metadata": {},
   "source": [
    "-> The h2s like to go in opposite directions"
   ]
  },
  {
   "cell_type": "code",
   "execution_count": 11,
   "metadata": {},
   "outputs": [
    {
     "data": {
      "image/png": "[encoded data removed]",
      "text/plain": [
       "<Figure size 576x432 with 1 Axes>"
      ]
     },
     "metadata": {
      "needs_background": "light"
     },
     "output_type": "display_data"
    }
   ],
   "source": [
    "\n",
    "def unit_vector(vector):\n",
    "    \"\"\" Returns the unit vector of the vector.  \"\"\"\n",
    "    return vector / np.linalg.norm(vector)\n",
    "\n",
    "def angle_between(v1, v2):\n",
    "    \"\"\" Returns the angle in radians between vectors 'v1' and 'v2'::\n",
    "\n",
    "            >>> angle_between((1, 0, 0), (0, 1, 0))\n",
    "            1.5707963267948966\n",
    "            >>> angle_between((1, 0, 0), (1, 0, 0))\n",
    "            0.0\n",
    "            >>> angle_between((1, 0, 0), (-1, 0, 0))\n",
    "            3.141592653589793\n",
    "    \"\"\"\n",
    "    v1_u = unit_vector(v1)\n",
    "    v2_u = unit_vector(v2)\n",
    "    return np.arccos(np.clip(np.dot(v1_u, v2_u), -1.0, 1.0))\n",
    "\n",
    "def getAngle(df):\n",
    "    vs = df[['Particle.Px', 'Particle.Py', 'Particle.Pz']].to_numpy()\n",
    "    angle = angle_between(vs[0,:2], vs[1,:2])\n",
    "    return angle\n",
    "\n",
    "def angleDiff(H_data):\n",
    "    g = H_data.groupby('entry')\n",
    "    angles = g.apply(getAngle)\n",
    "    #mean = np.mean(angles)\n",
    "    #std = np.std(angles)\n",
    "    nbins = 100\n",
    "    plt.figure(figsize=(8,6))\n",
    "    plt.tight_layout()\n",
    "    #plt.hist(angles, bins=nbins, label=f'$\\mu={mean:0.2f}$, $\\sigma={std:0.2f}$')\n",
    "    plt.hist(angles, bins=nbins)\n",
    "    plt.title(f'Angle between Hs')\n",
    "    plt.xlabel(f'Angle (radians)')\n",
    "    plt.ylabel(f'Counts')\n",
    "\n",
    "angleDiff(H_data)"
   ]
  },
  {
   "cell_type": "code",
   "execution_count": 9,
   "metadata": {},
   "outputs": [
    {
     "data": {
      "image/png": "[encoded data removed]",
      "text/plain": [
       "<Figure size 576x432 with 1 Axes>"
      ]
     },
     "metadata": {
      "needs_background": "light"
     },
     "output_type": "display_data"
    }
   ],
   "source": [
    "# Let's do some plots for the leptons\n",
    "\n",
    "def lepton_PT(lepton_data):\n",
    "    #mean = lepton_data['Particle.PT'].mean()\n",
    "    #std = lepton_data['Particle.PT'].std()\n",
    "    nbins = 100\n",
    "    plt.figure(figsize=(8,6))\n",
    "    plt.tight_layout()\n",
    "    #plt.hist(lepton_data['Particle.PT'], bins=nbins, label=f'$\\mu={mean:0.2f}$, $\\sigma={std:0.2f}$')\n",
    "    plt.hist(lepton_data['Particle.PT'], bins=nbins)\n",
    "    plt.title(f'Lepton PT')\n",
    "    plt.xlabel(f'PT (GeV)')\n",
    "    plt.ylabel(f'Counts')\n",
    "\n",
    "\n",
    "\n",
    "lepton_data = data[(abs(data['Particle.PID']) == 11) | (abs(data['Particle.PID']) == 13)]\n",
    "\n",
    "lepton_PT(lepton_data)\n"
   ]
  },
  {
   "cell_type": "code",
   "execution_count": 10,
   "metadata": {},
   "outputs": [
    {
     "name": "stdout",
     "output_type": "stream",
     "text": [
      "51.207983614546606\n"
     ]
    },
    {
     "data": {
      "text/plain": [
       "Text(0.5, 0, 'E (GeV)')"
      ]
     },
     "execution_count": 10,
     "metadata": {},
     "output_type": "execute_result"
    },
    {
     "data": {
      "image/png": "[encoded data removed]",
      "text/plain": [
       "<Figure size 432x288 with 1 Axes>"
      ]
     },
     "metadata": {
      "needs_background": "light"
     },
     "output_type": "display_data"
    }
   ],
   "source": [
    "# Lepton energy\n",
    "print(lepton_data['Particle.E'].mean())\n",
    "nbins = 300\n",
    "n, bins, patches = plt.hist(lepton_data['Particle.E'], bins=nbins)\n",
    "plt.title(f'E for leptons', fontsize=16)\n",
    "plt.ylabel('Count')\n",
    "plt.xlabel('E (GeV)')\n",
    "#plt.xlim((0,500))"
   ]
  },
  {
   "cell_type": "code",
   "execution_count": 12,
   "metadata": {},
   "outputs": [
    {
     "data": {
      "image/png": "[encoded data removed]",
      "text/plain": [
       "<Figure size 576x432 with 1 Axes>"
      ]
     },
     "metadata": {
      "needs_background": "light"
     },
     "output_type": "display_data"
    }
   ],
   "source": [
    "# Angle between the two leptons\n",
    "angleDiff(lepton_data)"
   ]
  },
  {
   "cell_type": "code",
   "execution_count": 96,
   "metadata": {},
   "outputs": [
    {
     "data": {
      "text/plain": [
       "Text(0.5, 1.0, 'Jet PT')"
      ]
     },
     "execution_count": 96,
     "metadata": {},
     "output_type": "execute_result"
    },
    {
     "data": {
      "image/png": "[encoded data removed]",
      "text/plain": [
       "<Figure size 432x288 with 1 Axes>"
      ]
     },
     "metadata": {
      "needs_background": "light"
     },
     "output_type": "display_data"
    }
   ],
   "source": [
    "# Let's look at the jets now\n",
    "# First get rid of the particles that are travelling\n",
    "# down the beam pipe (e.g. a u with eta=999)\n",
    "signal_data = data[(abs(data['Particle.Eta']) < 998)]\n",
    "# Now pick out the quarksoth the signal and the background, which typically has a much larger size, involve leptons com\n",
    "quarks = [1,2,3,4,5]\n",
    "signal_data = signal_data[abs(signal_data['Particle.PID']).isin(quarks)]\n",
    "\n",
    "# Plot of PT\n",
    "nbins = 50\n",
    "n, bins, patches = plt.hist(signal_data['Particle.PT'], bins=nbins)\n",
    "plt.xlabel('PT (GeV)')\n",
    "plt.ylabel('Count')\n",
    "plt.title('Jet PT')"
   ]
  },
  {
   "cell_type": "code",
   "execution_count": 97,
   "metadata": {},
   "outputs": [
    {
     "data": {
      "text/plain": [
       "Text(0.5, 1.0, 'Jet Eta')"
      ]
     },
     "execution_count": 97,
     "metadata": {},
     "output_type": "execute_result"
    },
    {
     "data": {
      "image/png": "[encoded data removed]",
      "text/plain": [
       "<Figure size 432x288 with 1 Axes>"
      ]
     },
     "metadata": {
      "needs_background": "light"
     },
     "output_type": "display_data"
    }
   ],
   "source": [
    "# Plot of jet eta\n",
    "nbins = 50\n",
    "n, bins, patches = plt.hist(signal_data['Particle.Eta'], bins=nbins)\n",
    "plt.xlabel('Eta')\n",
    "plt.ylabel('Count')\n",
    "plt.title('Jet Eta')"
   ]
  },
  {
   "cell_type": "code",
   "execution_count": null,
   "metadata": {},
   "outputs": [],
   "source": [
    "file = uproot.open('/vols/cms/emc21/idmStudy/MadGraph_files/distributions/h2h2lPlM_lem/BP1/h2h2lPlM_lem_BP1/Events/run_01/unweighted_events.root')\n",
    "tree = file['LHEF']\n",
    "tree = tree['Particle']\n",
    "print(tree.keys())\n",
    "data = tree.arrays(['Particle.PID', 'Particle.Px','Particle.Py', 'Particle.Pz', 'Particle.PT', 'Particle.E', 'Particle.Eta', 'Particle.Status'], library='ak')\n",
    "\n",
    "\n",
    "def findPT(px, py):\n",
    "    total_px = ak.sum(px, axis=1)\n",
    "    total_py = ak.sum(py, axis=1)\n",
    "    return np.sqrt(total_px**2 + total_py**2)\n",
    "\n",
    "# Finding PT of the two Hs\n",
    "H_data = final[final['Particle.PID'] == 35][:1]\n",
    "px = H_data['Particle.Px']\n",
    "py = H_data['Particle.Py']\n",
    "print(f'Combined PT of the two Hs = {findPT(px, py)}')\n",
    "\n",
    "lepton_data = final[(abs(final['Particle.PID']) == 11) | (abs(final['Particle.PID']) == 13)][:1]\n",
    "px = lepton_data['Particle.Px']\n",
    "py = lepton_data['Particle.Py']\n",
    "print(f'Combined PT of the two leptons = {findPT(px, py)}')"
   ]
  },
  {
   "cell_type": "code",
   "execution_count": 20,
   "metadata": {},
   "outputs": [
    {
     "name": "stderr",
     "output_type": "stream",
     "text": [
      "input_line_128:1:10: fatal error: '/vols/cms/emc21/FCC/MG5_aMC_v2_6_7/ExRootAnalysis/ExRootAnalysis/ExRootTreeReader.h' file not found\n",
      "#include \"/vols/cms/emc21/FCC/MG5_aMC_v2_6_7/ExRootAnalysis/ExRootAnalysis/ExRootTreeReader.h\"\n",
      "         ^~~~~~~~~~~~~~~~~~~~~~~~~~~~~~~~~~~~~~~~~~~~~~~~~~~~~~~~~~~~~~~~~~~~~~~~~~~~~~~~~~~~~\n",
      "input_line_129:1:10: fatal error: '/vols/cms/emc21/FCC/MG5_aMC_v2_6_7/ExRootAnalysis/ExRootAnalysis/ExRootTreeBranch.h' file not found\n",
      "#include \"/vols/cms/emc21/FCC/MG5_aMC_v2_6_7/ExRootAnalysis/ExRootAnalysis/ExRootTreeBranch.h\"\n",
      "         ^~~~~~~~~~~~~~~~~~~~~~~~~~~~~~~~~~~~~~~~~~~~~~~~~~~~~~~~~~~~~~~~~~~~~~~~~~~~~~~~~~~~~\n",
      "Warning in <TCanvas::Constructor>: Deleting canvas with same name: myc\n"
     ]
    },
    {
     "data": {
      "image/png": "[encoded data removed]",
      "text/plain": [
       "<IPython.core.display.Image object>"
      ]
     },
     "metadata": {},
     "output_type": "display_data"
    }
   ],
   "source": [
    "import ROOT\n",
    "\n",
    "# ROOT.gSystem.Load(\"/vols/cms/emc21/FCC/MG5_aMC_v2_6_7/ExRootAnalysis/libExRootAnalysis.so\")\n",
    "ROOT.gInterpreter.Declare('#include \"/vols/cms/emc21/FCC/MG5_aMC_v2_6_7/ExRootAnalysis/ExRootAnalysis/ExRootTreeReader.h\"')\n",
    "ROOT.gInterpreter.Declare('#include \"/vols/cms/emc21/FCC/MG5_aMC_v2_6_7/ExRootAnalysis/ExRootAnalysis/ExRootTreeBranch.h\"')\n",
    "\n",
    "# p p > h2 h2 l+ l-\n",
    "# This reads in the file\n",
    "inFile = ROOT.TFile.Open(\"/vols/cms/emc21/idmStudy/MadGraph_files/distributions/h2h2lPlM_lem/BP2/h2h2lPlM_lem_BP2/Events/run_01/unweighted_events.root\")\n",
    "# This get's the tree from the file\n",
    "# The argument LHEF is the name of the tree -> Can be found by the root gui file thing\n",
    "tree = inFile.Get(\"LHEF\")\n",
    "\n",
    "histo = ROOT.TH1F(\"histo\", \";PT; Numer of Events\", 100, 0, 500)\n",
    "#tree.Draw(\"Particle.E>>histo\", \"Particle.PID == 35 && Particle.Eta > -1 && Particle.Eta < 1\")\n",
    "tree.Draw(\"Particle.PT>>histo\", \"Particle.PID == 36\")\n",
    "myc = ROOT.TCanvas(\"myc\",\"myc\",1)\n",
    "myc.cd()\n",
    "histo.Draw()\n",
    "myc.Draw()\n",
    "# Why are there so many Z bosons in the final state as well? Something to ask AM."
   ]
  }
 ],
 "metadata": {
  "kernelspec": {
   "display_name": "Python 3.9.13 ('FCC')",
   "language": "python",
   "name": "python3"
  },
  "language_info": {
   "codemirror_mode": {
    "name": "ipython",
    "version": 3
   },
   "file_extension": ".py",
   "mimetype": "text/x-python",
   "name": "python",
   "nbconvert_exporter": "python",
   "pygments_lexer": "ipython3",
   "version": "3.9.13"
  },
  "orig_nbformat": 4,
  "vscode": {
   "interpreter": {
    "hash": "ad819b60171663a167d0db40f47bd886833251bcaf7c4d654a576d15df427bd9"
   }
  }
 },
 "nbformat": 4,
 "nbformat_minor": 2
}
