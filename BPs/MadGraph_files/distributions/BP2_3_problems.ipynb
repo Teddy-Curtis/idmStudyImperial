{
 "cells": [
  {
   "cell_type": "code",
   "execution_count": 1,
   "metadata": {},
   "outputs": [],
   "source": [
    "# This is trying to find the issues with the BP2 and BP3 distributions\n",
    "import uproot\n",
    "import pandas as pd\n",
    "import numpy as np\n",
    "import matplotlib.pyplot as plt\n",
    "import awkward as ak"
   ]
  },
  {
   "cell_type": "code",
   "execution_count": 2,
   "metadata": {},
   "outputs": [
    {
     "name": "stdout",
     "output_type": "stream",
     "text": [
      "['Particle.fUniqueID', 'Particle.fBits', 'Particle.PID', 'Particle.Status', 'Particle.Mother1', 'Particle.Mother2', 'Particle.ColorLine1', 'Particle.ColorLine2', 'Particle.Px', 'Particle.Py', 'Particle.Pz', 'Particle.E', 'Particle.M', 'Particle.PT', 'Particle.Eta', 'Particle.Phi', 'Particle.Rapidity', 'Particle.LifeTime', 'Particle.Spin']\n"
     ]
    }
   ],
   "source": [
    "file = uproot.open('/vols/cms/emc21/idmStudy/MadGraph_files/distributions/h2h2lPlM_lem/BP3/h2h2lPlM_lem_BP3/Events/run_01/unweighted_events.root')\n",
    "tree = file['LHEF']\n",
    "tree = tree['Particle']\n",
    "print(tree.keys())\n",
    "data = tree.arrays(['Particle.PID', 'Particle.Px','Particle.Py', 'Particle.Pz', 'Particle.PT', 'Particle.E', 'Particle.Eta', 'Particle.Status'], library='ak')"
   ]
  },
  {
   "cell_type": "code",
   "execution_count": 3,
   "metadata": {},
   "outputs": [],
   "source": [
    "def H_PT(data): \n",
    "    #mean = H_data['Particle.PT'].mean()\n",
    "    #std = H_data['Particle.PT'].std()\n",
    "    H_data = data[data['Particle.PID'] == 35]\n",
    "    nbins = 300 \n",
    "    plt.figure(figsize=(8,6))\n",
    "    plt.tight_layout()\n",
    "    #plt.hist(H_data['Particle.PT'], bins=nbins, label=f'$\\mu={mean:0.2f}$, $\\sigma={std:0.2f}$')\n",
    "    plt.hist(ak.flatten(H_data['Particle.PT']), bins=nbins)\n",
    "    plt.title(f'H PTs')\n",
    "    plt.xlabel(f'PT (GeV)')\n",
    "    plt.ylabel(f'Counts')\n",
    "    plt.xlim((0,250))"
   ]
  },
  {
   "cell_type": "code",
   "execution_count": 4,
   "metadata": {},
   "outputs": [
    {
     "name": "stdout",
     "output_type": "stream",
     "text": [
      "The number of events with PT of both Hs over 100 = 7338\n",
      "[-1, -1, 2, 1, 1, 1, 1]\n",
      "[1, -1, 36, 35, 35, -13, 13]\n",
      "The number of events here that had an intermediate A = 5584\n",
      "The percentage of events that have an intermediate A = 0.7609702916325974\n",
      "The number of events here that had an intermediate Z = 1734\n",
      "The percentage of events that have an intermediate Z = 0.23630417007358953\n",
      "The number of events with no intermediate particle = 20\n",
      "Percentage of events here that don\"t have an intermediate particle = 0.002725538293813028\n"
     ]
    },
    {
     "data": {
      "image/png": "[encoded data removed]",
      "text/plain": [
       "<Figure size 576x432 with 1 Axes>"
      ]
     },
     "metadata": {
      "needs_background": "light"
     },
     "output_type": "display_data"
    }
   ],
   "source": [
    "# Want only the events that have both Hs with over 100 PT\n",
    "# This picks out the events that have all the Hs with over 100 PT\n",
    "evs_over_100 = data[ak.all(data[data['Particle.PID'] == 35]['Particle.PT'] > 100, axis=1)]\n",
    "# Can check this with above by checking the length of it\n",
    "print(f'The number of events with PT of both Hs over 100 = {len(evs_over_100)}')\n",
    "\n",
    "# What particles does it have\n",
    "print(evs_over_100[0]['Particle.Status'])\n",
    "print(evs_over_100[0]['Particle.PID'])\n",
    "\n",
    "# So this event had an intermediate A -> Do they all for this subset?\n",
    "evs_over_100_wA = evs_over_100[ak.any(evs_over_100['Particle.PID'] == 36, axis=1)]\n",
    "print(f'The number of events here that had an intermediate A = {len(evs_over_100_wA)}')\n",
    "# So a lot of them do include an A, but not all of them...\n",
    "print(f'The percentage of events that have an intermediate A = {len(evs_over_100_wA)/ len(evs_over_100)}')\n",
    "\n",
    "evs_over_100_wZ = evs_over_100[ak.any(evs_over_100['Particle.PID'] == 23, axis=1)]\n",
    "print(f'The number of events here that had an intermediate Z = {len(evs_over_100_wZ)}')\n",
    "# So a lot of them do include an A, but not all of them...\n",
    "print(f'The percentage of events that have an intermediate Z = {len(evs_over_100_wZ)/ len(evs_over_100)}')\n",
    "\n",
    "# How many of these have no intermediate particles\n",
    "evs_over_too_no_int = evs_over_100[ak.all(evs_over_100['Particle.Status'] != 2, axis=1)]\n",
    "print(f'The number of events with no intermediate particle = {len(evs_over_too_no_int)}')\n",
    "print(f'Percentage of events here that don\"t have an intermediate particle = {len(evs_over_too_no_int) / len(evs_over_100)}')\n",
    "\n",
    "H_PT(evs_over_100)"
   ]
  },
  {
   "cell_type": "code",
   "execution_count": 5,
   "metadata": {},
   "outputs": [
    {
     "name": "stdout",
     "output_type": "stream",
     "text": [
      "The number of events with PT of both Hs under 100 = 1439\n",
      "[-1, -1, 2, 1, 1, 1, 1]\n",
      "[2, -2, 23, 35, 35, -13, 13]\n",
      "The number of events here that had an intermediate A = 0\n",
      "The percentage of events that have an intermediate A = 0.0\n",
      "The number of events here that had an intermediate Z = 1427\n",
      "The percentage of events that have an intermediate Z = 0.9916608756080612\n",
      "The number of events with no intermediate particle = 12\n",
      "Percentage of events here that don\"t have an intermediate particle = 0.008339124391938846\n"
     ]
    },
    {
     "data": {
      "image/png": "[encoded data removed]",
      "text/plain": [
       "<Figure size 576x432 with 1 Axes>"
      ]
     },
     "metadata": {
      "needs_background": "light"
     },
     "output_type": "display_data"
    }
   ],
   "source": [
    "# Let's do something similar but for the events where the PT<100\n",
    "evs_under_100 = data[ak.all(data[data['Particle.PID'] == 35]['Particle.PT'] < 100, axis=1)]\n",
    "# Can check this with above by checking the length of it\n",
    "print(f'The number of events with PT of both Hs under 100 = {len(evs_under_100)}')\n",
    "\n",
    "# What particles does it have\n",
    "print(evs_under_100[0]['Particle.Status'])\n",
    "print(evs_under_100[0]['Particle.PID'])\n",
    "\n",
    "# So this event had an intermediate Z, not an A -> true for them all?\n",
    "evs_under_100_wA = evs_under_100[ak.any(evs_under_100['Particle.PID'] == 36, axis=1)]\n",
    "print(f'The number of events here that had an intermediate A = {len(evs_under_100_wA)}')\n",
    "# So nearly all of them include a Z, this might be what's messing up the dists\n",
    "print(f'The percentage of events that have an intermediate A = {len(evs_under_100_wA)/ len(evs_under_100)}')\n",
    "\n",
    "\n",
    "evs_under_100_wZ = evs_under_100[ak.any(evs_under_100['Particle.PID'] == 23, axis=1)]\n",
    "print(f'The number of events here that had an intermediate Z = {len(evs_under_100_wZ)}')\n",
    "# So nearly all of them include a Z, this might be what's messing up the dists\n",
    "print(f'The percentage of events that have an intermediate Z = {len(evs_under_100_wZ)/ len(evs_under_100)}')\n",
    "\n",
    "# How many of these have no intermediate particles\n",
    "evs_under_too_no_int = evs_under_100[ak.all(evs_under_100['Particle.Status'] != 2, axis=1)]\n",
    "print(f'The number of events with no intermediate particle = {len(evs_under_too_no_int)}')\n",
    "print(f'Percentage of events here that don\"t have an intermediate particle = {len(evs_under_too_no_int) / len(evs_under_100)}')\n",
    "\n",
    "\n",
    "H_PT(evs_under_100)"
   ]
  },
  {
   "cell_type": "code",
   "execution_count": 6,
   "metadata": {},
   "outputs": [
    {
     "name": "stdout",
     "output_type": "stream",
     "text": [
      "Print number of events with 1 H above 100 PT and 1 below = 1223\n",
      "Number of these with an intermediate Z = 1205\n",
      "Percentage of evs that have an intermediate Z = 0.9852820932134096\n",
      "Percentage of evs that have an intermediate A = 0.0\n",
      "[[23], [], [23], [23], [23], [23], [23], ... 23], [23], [23], [23], [23], [23], [23]]\n",
      "dict_keys([23])\n",
      "dict_values([1205])\n",
      "[]\n"
     ]
    },
    {
     "data": {
      "image/png": "[encoded data removed]",
      "text/plain": [
       "<Figure size 576x432 with 1 Axes>"
      ]
     },
     "metadata": {
      "needs_background": "light"
     },
     "output_type": "display_data"
    }
   ],
   "source": [
    "# Now find events with 1 H above and 1 below\n",
    "# Do this by getting truth array of events with \n",
    "# both Hs above 100 eg [True, False, False]\n",
    "# Then for both below [False, False, True]\n",
    "# Then add them to get [True, False, True]\n",
    "# Then invert it to get the events with 1 above and 1 below: [False, True, False]\n",
    "mask1 = ak.all(data[data['Particle.PID'] == 35]['Particle.PT'] > 100, axis=1)\n",
    "mask2 = ak.all(data[data['Particle.PID'] == 35]['Particle.PT'] < 100, axis=1)\n",
    "mask = np.invert(mask1 + mask2)\n",
    "ev_split = data[mask]\n",
    "print(f'Print number of events with 1 H above 100 PT and 1 below = {len(ev_split)}')\n",
    "\n",
    "H_PT(ev_split)\n",
    "# So these are quite evenly distributited \n",
    "\n",
    "# Let's check how many have intermediate A or Z\n",
    "ev_split_Z = ev_split[ak.any(ev_split['Particle.PID'] == 23, axis=1)]\n",
    "print(f'Number of these with an intermediate Z = {len(ev_split_Z)}')\n",
    "print(f'Percentage of evs that have an intermediate Z = {len(ev_split_Z) / len(ev_split)}')\n",
    "\n",
    "ev_split_A = ev_split[ak.any(ev_split['Particle.PID'] == 36, axis=1)]\n",
    "print(f'Percentage of evs that have an intermediate A = {len(ev_split_A) / len(ev_split)}')\n",
    "\n",
    "# So nearly all of these have a Z and not an A, what do the rest have though?\n",
    "# Get all the intermediate particles \n",
    "inters = ev_split[ev_split['Particle.Status'] == 2]\n",
    "print(inters['Particle.PID'])\n",
    "# \n",
    "from collections import Counter\n",
    "inter_pid = list(ak.flatten(inters['Particle.PID']))\n",
    "print(Counter(inter_pid).keys()) # equals to list(set(inter_pid))\n",
    "print(Counter(inter_pid).values()) # counts the elements' frequency\n",
    "# So it seems like the others just don't have an intermediate particle here\n",
    "# Maybe they're super offshell?\n",
    "\n",
    "# Let's find any events that aren't a Z\n",
    "ev_split_nZ = ev_split[ak.any((ev_split['Particle.PID'] != 23) & (ev_split['Particle.Status'] == 2), axis=1)]\n",
    "print(ev_split_nZ)\n"
   ]
  },
  {
   "cell_type": "code",
   "execution_count": 7,
   "metadata": {},
   "outputs": [
    {
     "name": "stdout",
     "output_type": "stream",
     "text": [
      "The number of events with 1 H above 100 PT and 1 below with no intermediate particle = 18\n",
      "Percentage of events here that don\"t have an intermediate particle = 0.014717906786590351\n"
     ]
    },
    {
     "data": {
      "image/png": "[encoded data removed]",
      "text/plain": [
       "<Figure size 576x432 with 1 Axes>"
      ]
     },
     "metadata": {
      "needs_background": "light"
     },
     "output_type": "display_data"
    }
   ],
   "source": [
    "# How many of these events DON'T specify an intermediate particle?\n",
    "evs_no_int = ev_split[ak.all(ev_split['Particle.Status'] != 2, axis=1)]\n",
    "print(f'The number of events with 1 H above 100 PT and 1 below with no intermediate particle = {len(evs_no_int)}')\n",
    "print(f'Percentage of events here that don\"t have an intermediate particle = {len(evs_no_int) / len(ev_split)}')\n",
    "\n",
    "# So these are the remaining events. Plot of their H PT\n",
    "H_PT(evs_no_int)"
   ]
  },
  {
   "cell_type": "code",
   "execution_count": 8,
   "metadata": {},
   "outputs": [
    {
     "name": "stdout",
     "output_type": "stream",
     "text": [
      "[{'Particle.PID': [-1, 1, 35, 35, -11, 11], ... -1, -1, 1, 1, 1, 1]}]\n"
     ]
    }
   ],
   "source": [
    "print(evs_no_int)\n"
   ]
  },
  {
   "cell_type": "markdown",
   "metadata": {},
   "source": [
    "## To summarise:\n",
    "# For BP2:\n",
    "There are 8336 events with both H having over 100 PT: \\\n",
    "Out of these events, 7226 (87%) have an intermediate A particle, 1094 have an intermediate Z (13%) and 16 do not specifiy an intermediate particle at all \\\n",
    "\n",
    "There are 895 with both H having under 100 PT: \\\n",
    "889 of these have an intermediate Z, none have an intermediate A, and 6 do not specify an intermediate particle. \\\n",
    "\n",
    "There are 769 with an H with PT above 100 and 1 below: \\\n",
    "755 of these have an intermediate Z, none have an intermediate A, and 14 do not specify and intermediate particle. \\\n",
    "\n",
    "\n",
    "# For BP3:\n",
    "There are 7338 events with both H having over 100 PT: \\\n",
    "Out of these events, 5584 have an intermediate A particle, 1734 have an intermediate Z and 20 do not specifiy an intermediate particle at all \\\n",
    "\n",
    "There are 1439 with both H having under 100 PT: \\\n",
    "1427 of these have an intermediate Z, none have an intermediate A, and 12 do not specify an intermediate particle. \\\n",
    "\n",
    "There are 1223 with an H with PT above 100 and 1 below: \\\n",
    "1205 of these have an intermediate Z, none have an intermediate A, and 18 do not specify and intermediate particle. \\\n",
    "\n"
   ]
  },
  {
   "cell_type": "markdown",
   "metadata": {},
   "source": [
    "Let's see if there's anything interesting about the energies of the different cases:"
   ]
  },
  {
   "cell_type": "code",
   "execution_count": 9,
   "metadata": {},
   "outputs": [],
   "source": [
    "evs_over_100 = data[ak.all(data[data['Particle.PID'] == 35]['Particle.PT'] > 100, axis=1)]\n",
    "evs_O100_E = ak.sum(evs_over_100['Particle.E'][:,:2], axis=1)\n",
    "\n",
    "evs_under_100 = data[ak.all(data[data['Particle.PID'] == 35]['Particle.PT'] < 100, axis=1)]\n",
    "evs_U100_E = ak.sum(evs_under_100['Particle.E'][:,:2], axis=1)\n",
    "\n",
    "mask1 = ak.all(data[data['Particle.PID'] == 35]['Particle.PT'] > 100, axis=1)\n",
    "mask2 = ak.all(data[data['Particle.PID'] == 35]['Particle.PT'] < 100, axis=1)\n",
    "mask = np.invert(mask1 + mask2)\n",
    "ev_split = data[mask]\n",
    "evs_split_E = ak.sum(ev_split['Particle.E'][:,:2], axis=1)"
   ]
  },
  {
   "cell_type": "code",
   "execution_count": 10,
   "metadata": {},
   "outputs": [
    {
     "data": {
      "text/plain": [
       "<matplotlib.legend.Legend at 0x7fdd40c49040>"
      ]
     },
     "execution_count": 10,
     "metadata": {},
     "output_type": "execute_result"
    },
    {
     "data": {
      "image/png": "[encoded data removed]",
      "text/plain": [
       "<Figure size 576x432 with 1 Axes>"
      ]
     },
     "metadata": {
      "needs_background": "light"
     },
     "output_type": "display_data"
    }
   ],
   "source": [
    "nbins = 200 \n",
    "plt.figure(figsize=(8,6))\n",
    "plt.tight_layout()\n",
    "#plt.hist(H_data['Particle.PT'], bins=nbins, label=f'$\\mu={mean:0.2f}$, $\\sigma={std:0.2f}$')\n",
    "plt.title(f'Total Energy of initial particles')\n",
    "plt.xlabel(f'E')\n",
    "plt.ylabel(f'Counts')\n",
    "\n",
    "plt.hist(evs_O100_E, bins=nbins, label= 'Over 100', alpha=0.6)\n",
    "plt.hist(evs_U100_E, bins=nbins, label= 'Under 100', alpha=0.6)\n",
    "plt.hist(evs_split_E, bins=nbins, label= 'Split', alpha=0.6)\n",
    "\n",
    "plt.legend()"
   ]
  },
  {
   "cell_type": "code",
   "execution_count": 11,
   "metadata": {},
   "outputs": [
    {
     "name": "stdout",
     "output_type": "stream",
     "text": [
      "The max diff for both Hs over 100 PT = 1.399998836859595e-07\n",
      "The index of this is 2927\n",
      "The max diff for both Hs under 100 PT = 8.300048648379743e-08\n",
      "The max diff for 1 H above 100PT and 1 below = 8.899996828404255e-08\n"
     ]
    },
    {
     "data": {
      "text/plain": [
       "<matplotlib.legend.Legend at 0x7fdd382cc610>"
      ]
     },
     "execution_count": 11,
     "metadata": {},
     "output_type": "execute_result"
    },
    {
     "data": {
      "image/png": "[encoded data removed]",
      "text/plain": [
       "<Figure size 576x432 with 1 Axes>"
      ]
     },
     "metadata": {
      "needs_background": "light"
     },
     "output_type": "display_data"
    }
   ],
   "source": [
    "# Let's see if the energy is messing up somewhere from the initial states to \n",
    "# the final state\n",
    "# For this I will do this in parts as well:\n",
    "evs_over_100 = data[ak.all(data[data['Particle.PID'] == 35]['Particle.PT'] > 100, axis=1)]\n",
    "# Take out all the samples that are intermediate ones\n",
    "evs_over_100 = evs_over_100[evs_over_100['Particle.Status'] != 2]\n",
    "evs_O100_iE = ak.sum(evs_over_100['Particle.E'][:,:2], axis=1)\n",
    "evs_O100_fE = ak.sum(evs_over_100['Particle.E'][:,2:], axis=1)\n",
    "evs_O100_diffE = evs_O100_iE - evs_O100_fE\n",
    "\n",
    "evs_under_100 = data[ak.all(data[data['Particle.PID'] == 35]['Particle.PT'] < 100, axis=1)]\n",
    "evs_under_100 = evs_under_100[evs_under_100['Particle.Status'] != 2]\n",
    "evs_U100_iE = ak.sum(evs_under_100['Particle.E'][:,:2], axis=1)\n",
    "evs_U100_fE = ak.sum(evs_under_100['Particle.E'][:,2:], axis=1)\n",
    "evs_U100_diffE = evs_U100_iE - evs_U100_fE\n",
    "\n",
    "mask1 = ak.all(data[data['Particle.PID'] == 35]['Particle.PT'] > 100, axis=1)\n",
    "mask2 = ak.all(data[data['Particle.PID'] == 35]['Particle.PT'] < 100, axis=1)\n",
    "mask = np.invert(mask1 + mask2)\n",
    "ev_split = data[mask]\n",
    "ev_split = ev_split[ev_split['Particle.Status'] != 2]\n",
    "evs_split_iE = ak.sum(ev_split['Particle.E'][:,:2], axis=1)\n",
    "evs_split_fE = ak.sum(ev_split['Particle.E'][:,2:], axis=1)\n",
    "evs_split_diffE = evs_split_iE - evs_split_fE\n",
    "\n",
    "print(f'The max diff for both Hs over 100 PT = {max(evs_O100_diffE)}')\n",
    "print(f'The index of this is {ak.argmax(evs_O100_diffE)}')\n",
    "print(f'The max diff for both Hs under 100 PT = {max(evs_U100_diffE)}')\n",
    "print(f'The max diff for 1 H above 100PT and 1 below = {max(evs_split_diffE)}')\n",
    "\n",
    "\n",
    "nbins = 200 \n",
    "plt.figure(figsize=(8,6))\n",
    "plt.tight_layout()\n",
    "#plt.hist(H_data['Particle.PT'], bins=nbins, label=f'$\\mu={mean:0.2f}$, $\\sigma={std:0.2f}$')\n",
    "plt.title(f'E_tot of intial particles - E_tot of final particles')\n",
    "plt.xlabel(f'E')\n",
    "plt.ylabel(f'Counts')\n",
    "\n",
    "plt.hist(evs_O100_diffE, bins=nbins, label= 'Over 100', alpha=0.6)\n",
    "plt.hist(evs_U100_diffE, bins=nbins, label= 'Under 100', alpha=0.6)\n",
    "plt.hist(evs_split_diffE, bins=nbins, label= 'Split', alpha=0.6)\n",
    "\n",
    "plt.legend()"
   ]
  },
  {
   "cell_type": "code",
   "execution_count": null,
   "metadata": {},
   "outputs": [],
   "source": []
  },
  {
   "cell_type": "markdown",
   "metadata": {},
   "source": [
    "# Distribution of the leptons for the 3 different classes:"
   ]
  },
  {
   "cell_type": "code",
   "execution_count": 12,
   "metadata": {},
   "outputs": [],
   "source": [
    "def lepton_PT(data):\n",
    "    lepton_data = data[(abs(data['Particle.PID']) == 11) | (abs(data['Particle.PID']) == 13)]\n",
    "    nbins = 150\n",
    "    plt.figure(figsize=(8,6))\n",
    "    plt.tight_layout()\n",
    "    #plt.hist(lepton_data['Particle.PT'], bins=nbins, label=f'$\\mu={mean:0.2f}$, $\\sigma={std:0.2f}$')\n",
    "    plt.hist(ak.flatten(lepton_data['Particle.PT']), bins=nbins)\n",
    "    plt.title(f'Lepton PT')\n",
    "    plt.xlabel(f'PT (GeV)')\n",
    "    plt.ylabel(f'Counts')\n",
    "    plt.xlim((0, 200))"
   ]
  },
  {
   "cell_type": "code",
   "execution_count": 13,
   "metadata": {},
   "outputs": [
    {
     "name": "stdout",
     "output_type": "stream",
     "text": [
      "7338\n"
     ]
    },
    {
     "data": {
      "image/png": "[encoded data removed]",
      "text/plain": [
       "<Figure size 576x432 with 1 Axes>"
      ]
     },
     "metadata": {
      "needs_background": "light"
     },
     "output_type": "display_data"
    }
   ],
   "source": [
    "# First for events where the Hs both have over 100 PT \n",
    "print(len(evs_over_100))\n",
    "lepton_PT(evs_over_100)\n",
    "\n",
    "# So these are heavily peaked at a very low PT for some reason"
   ]
  },
  {
   "cell_type": "code",
   "execution_count": 14,
   "metadata": {},
   "outputs": [
    {
     "data": {
      "image/png": "[encoded data removed]",
      "text/plain": [
       "<Figure size 576x432 with 1 Axes>"
      ]
     },
     "metadata": {
      "needs_background": "light"
     },
     "output_type": "display_data"
    }
   ],
   "source": [
    "# For events where both the Hs have less than 100 PT\n",
    "lepton_PT(evs_under_100)\n",
    "\n",
    "# So these are distributed a lot more normally, there just aren't very many\n",
    "# "
   ]
  },
  {
   "cell_type": "code",
   "execution_count": 15,
   "metadata": {},
   "outputs": [
    {
     "data": {
      "image/png": "[encoded data removed]",
      "text/plain": [
       "<Figure size 576x432 with 1 Axes>"
      ]
     },
     "metadata": {
      "needs_background": "light"
     },
     "output_type": "display_data"
    }
   ],
   "source": [
    "lepton_PT(ev_split)\n",
    "\n",
    "# These are also distributed in a nice way, so doesn't look like anything is going wrong here\n",
    "# Well not a lot at least is going wrong, unsure what happened on the far left."
   ]
  },
  {
   "cell_type": "markdown",
   "metadata": {},
   "source": [
    "## From the lepton plots:\n",
    "It looks like that the events which are messing up are the one's with both Hs having over 100 PT, this also corresponds to most of the cases with an intermediate A. So it might actually be the fact that the intermediate A has a really small width which is causing this problem. /\n",
    "Doing the same above but just for the events that have an intermediate A, with no cuts on the H PTs /\n",
    "\n",
    "## Key point:\n",
    "To be able to actually see the differenes in the distributions, we have to plot them using the same bins!\n",
    "So follow the method below to do that "
   ]
  },
  {
   "cell_type": "code",
   "execution_count": 16,
   "metadata": {},
   "outputs": [
    {
     "data": {
      "text/plain": [
       "<matplotlib.legend.Legend at 0x7fdd379eb550>"
      ]
     },
     "execution_count": 16,
     "metadata": {},
     "output_type": "execute_result"
    },
    {
     "data": {
      "image/png": "[encoded data removed]",
      "text/plain": [
       "<Figure size 576x432 with 1 Axes>"
      ]
     },
     "metadata": {
      "needs_background": "light"
     },
     "output_type": "display_data"
    }
   ],
   "source": [
    "# This is the lepton data for all the events with both Hs having over 100 PT\n",
    "lepton_data_1 = evs_over_100[(abs(evs_over_100['Particle.PID']) == 11) | (abs(evs_over_100['Particle.PID']) == 13)]\n",
    "\n",
    "# This is the events with both H>100PT, but that also have an intermediate A\n",
    "data_inter_A = evs_over_100[ak.any(evs_over_100[evs_over_100['Particle.PID'] == 36]['Particle.Status'] == 2, axis=1)]\n",
    "lepton_data_2 = data_inter_A[(abs(data_inter_A['Particle.PID']) == 11) | (abs(data_inter_A['Particle.PID']) == 13)]\n",
    "\n",
    "# Events with an intermediate Z:\n",
    "data_inter_Z = evs_over_100[ak.any(evs_over_100[evs_over_100['Particle.PID'] == 23]['Particle.Status'] == 2, axis=1)]\n",
    "lepton_data_3 = data_inter_Z[(abs(data_inter_Z['Particle.PID']) == 11) | (abs(data_inter_Z['Particle.PID']) == 13)]\n",
    "\n",
    "\n",
    "nbins = 150\n",
    "plt.figure(figsize=(8,6))\n",
    "plt.tight_layout()\n",
    "#plt.hist(lepton_data['Particle.PT'], bins=nbins, label=f'$\\mu={mean:0.2f}$, $\\sigma={std:0.2f}$')\n",
    "_, bins, _ = plt.hist(ak.flatten(lepton_data_1['Particle.PT']), bins=nbins, alpha = 0.5, label= 'All')\n",
    "_ = plt.hist(ak.flatten(lepton_data_2['Particle.PT']), bins=bins, alpha = 0.5, label= 'Inter A')\n",
    "_ = plt.hist(ak.flatten(lepton_data_3['Particle.PT']), bins=bins, alpha = 0.5, label= 'Inter Z')\n",
    "plt.title(f'Lepton PT when both Hs have over PT=100')\n",
    "plt.xlabel(f'PT (GeV)')\n",
    "plt.ylabel(f'Counts')\n",
    "plt.xlim((0, 200))\n",
    "plt.legend()"
   ]
  },
  {
   "cell_type": "code",
   "execution_count": 17,
   "metadata": {},
   "outputs": [
    {
     "name": "stdout",
     "output_type": "stream",
     "text": [
      "10000\n",
      "10000\n"
     ]
    },
    {
     "data": {
      "text/plain": [
       "<matplotlib.legend.Legend at 0x7fdd37a66370>"
      ]
     },
     "execution_count": 17,
     "metadata": {},
     "output_type": "execute_result"
    },
    {
     "data": {
      "image/png": "[encoded data removed]",
      "text/plain": [
       "<Figure size 576x432 with 1 Axes>"
      ]
     },
     "metadata": {
      "needs_background": "light"
     },
     "output_type": "display_data"
    }
   ],
   "source": [
    "# How about we do the same process but use all of the data rather than just the ones\n",
    "# that have both Hs with over 100PT\n",
    "# This is the lepton data for all the events with both Hs having over 100 PT\n",
    "lepton_data_1 = data[(abs(data['Particle.PID']) == 11) | (abs(data['Particle.PID']) == 13)]\n",
    "\n",
    "# This is the events with both H>100PT, but that also have an intermediate A\n",
    "data_inter_A = data[ak.any(data[data['Particle.PID'] == 36]['Particle.Status'] == 2, axis=1)]\n",
    "lepton_data_2 = data_inter_A[(abs(data_inter_A['Particle.PID']) == 11) | (abs(data_inter_A['Particle.PID']) == 13)]\n",
    "\n",
    "# Events with an intermediate Z:\n",
    "data_inter_Z = data[ak.any(data[data['Particle.PID'] == 23]['Particle.Status'] == 2, axis=1)]\n",
    "lepton_data_3 = data_inter_Z[(abs(data_inter_Z['Particle.PID']) == 11) | (abs(data_inter_Z['Particle.PID']) == 13)]\n",
    "\n",
    "# Events that have no intermediate particle specified\n",
    "data_no_inter = data[ak.all(data['Particle.Status'] != 2, axis=1)]\n",
    "lepton_data_4 = data_no_inter[(abs(data_no_inter['Particle.PID']) == 11) | (abs(data_no_inter['Particle.PID']) == 13)]\n",
    "\n",
    "print(len(lepton_data_1))\n",
    "print(len(lepton_data_2)+ len(lepton_data_3)+ len(lepton_data_4))\n",
    "\n",
    "nbins = 600\n",
    "plt.figure(figsize=(8,6))\n",
    "plt.tight_layout()\n",
    "_, bins, _ = plt.hist(ak.flatten(lepton_data_1['Particle.PT']), bins=nbins, alpha = 0.6, label= 'All')\n",
    "# I want to stack all of the other histograms so it matches the total\n",
    "other_lepton_data = (ak.flatten(lepton_data_2['Particle.PT']), ak.flatten(lepton_data_3['Particle.PT']), ak.flatten(lepton_data_4['Particle.PT']))\n",
    "labels = ('Intermediate  A', 'Intermediate Z', 'No Intermediate Given')\n",
    "_ = plt.hist(other_lepton_data, bins= bins, alpha = 0.45, stacked = True, label= labels)\n",
    "# _ = plt.hist(ak.flatten(lepton_data_2['Particle.PT']), bins=bins, alpha = 0.5, label= 'Intermediate A')\n",
    "# _ = plt.hist(ak.flatten(lepton_data_3['Particle.PT']), bins=bins, alpha = 0.5, label= 'Intermediate Z')\n",
    "# _ = plt.hist(ak.flatten(lepton_data_4['Particle.PT']), bins=bins, alpha = 0.5, label= 'No intermediate given')\n",
    "plt.title(f'Lepton PT')\n",
    "plt.xlabel(f'PT (GeV)')\n",
    "plt.ylabel(f'Counts')\n",
    "plt.xlim((0, 200))\n",
    "plt.legend()"
   ]
  },
  {
   "cell_type": "markdown",
   "metadata": {},
   "source": [
    "## Spike is coming from the events with an intermediate A"
   ]
  },
  {
   "cell_type": "code",
   "execution_count": 18,
   "metadata": {},
   "outputs": [
    {
     "name": "stdout",
     "output_type": "stream",
     "text": [
      "7338\n"
     ]
    },
    {
     "data": {
      "text/plain": [
       "<matplotlib.legend.Legend at 0x7fdd36453af0>"
      ]
     },
     "execution_count": 18,
     "metadata": {},
     "output_type": "execute_result"
    },
    {
     "data": {
      "image/png": "[encoded data removed]",
      "text/plain": [
       "<Figure size 576x432 with 1 Axes>"
      ]
     },
     "metadata": {
      "needs_background": "light"
     },
     "output_type": "display_data"
    }
   ],
   "source": [
    "# Let's plot just the ones that have an intermediate A on their own axis\n",
    "# This is the events with both H>100PT, but that also have an intermediate A\n",
    "data_inter_A = data[ak.any(data[data['Particle.PID'] == 36]['Particle.Status'] == 2, axis=1)]\n",
    "print(len(evs_over_100))\n",
    "lepton_data = data_inter_A[(abs(data_inter_A['Particle.PID']) == 11) | (abs(data_inter_A['Particle.PID']) == 13)]\n",
    "\n",
    "nbins = 150\n",
    "plt.figure(figsize=(8,6))\n",
    "plt.tight_layout()\n",
    "#plt.hist(lepton_data['Particle.PT'], bins=nbins, label=f'$\\mu={mean:0.2f}$, $\\sigma={std:0.2f}$')\n",
    "plt.hist(ak.flatten(lepton_data['Particle.PT']), bins=nbins, label='Intermediate A')\n",
    "plt.title(f'Lepton PT')\n",
    "plt.xlabel(f'PT (GeV)')\n",
    "plt.ylabel(f'Counts')\n",
    "plt.xlim((0, 20))\n",
    "plt.legend()\n",
    "# So it seems that the leptons have such a low PT that they're being cut off at 10GeV minimum\n",
    "# This "
   ]
  },
  {
   "cell_type": "code",
   "execution_count": 19,
   "metadata": {},
   "outputs": [
    {
     "name": "stdout",
     "output_type": "stream",
     "text": [
      "7338\n",
      "0\n"
     ]
    },
    {
     "data": {
      "image/png": "[encoded data removed]",
      "text/plain": [
       "<Figure size 576x432 with 1 Axes>"
      ]
     },
     "metadata": {
      "needs_background": "light"
     },
     "output_type": "display_data"
    }
   ],
   "source": [
    "data_inter_Z = evs_over_100[ak.any(evs_over_100[evs_over_100['Particle.PID'] == 23]['Particle.Status'] == 2, axis=1)]\n",
    "print(len(evs_over_100))\n",
    "print(len(data_inter_Z))\n",
    "lepton_PT(data_inter_Z)"
   ]
  },
  {
   "cell_type": "code",
   "execution_count": 20,
   "metadata": {},
   "outputs": [
    {
     "data": {
      "text/plain": [
       "7318"
      ]
     },
     "execution_count": 20,
     "metadata": {},
     "output_type": "execute_result"
    }
   ],
   "source": [
    "5584 + 1734"
   ]
  },
  {
   "cell_type": "code",
   "execution_count": 21,
   "metadata": {},
   "outputs": [
    {
     "data": {
      "text/plain": [
       "<Array [[], [], [], [], ... [], [], [], []] type='7338 * var * int32'>"
      ]
     },
     "execution_count": 21,
     "metadata": {},
     "output_type": "execute_result"
    }
   ],
   "source": [
    "evs_over_100[evs_over_100['Particle.PID'] == 36]['Particle.Status']"
   ]
  },
  {
   "cell_type": "code",
   "execution_count": 22,
   "metadata": {},
   "outputs": [
    {
     "name": "stdout",
     "output_type": "stream",
     "text": [
      "dict_keys([])\n",
      "dict_values([])\n"
     ]
    }
   ],
   "source": [
    "from collections import Counter\n",
    "inter_pid = list(ak.flatten(evs_over_100[evs_over_100['Particle.PID'] == 36]['Particle.Status']))\n",
    "print(Counter(inter_pid).keys()) # equals to list(set(inter_pid))\n",
    "print(Counter(inter_pid).values()) # counts the elements' frequency"
   ]
  },
  {
   "cell_type": "markdown",
   "metadata": {},
   "source": [
    "## From the lepton plots:\n",
    "It looks like that the events which are messing up are the one's with both Hs having over 100 PT, this also corresponds to most of the cases with an intermediate A. So it might actually be the fact that the intermediate A has a really small width which is causing this problem. /\n",
    "Doing the same above but just for the events that have an intermediate A, with no cuts on the H PTs:"
   ]
  },
  {
   "cell_type": "code",
   "execution_count": 23,
   "metadata": {},
   "outputs": [
    {
     "data": {
      "text/plain": [
       "<Array [{'Particle.PID': [36], ... 2]}] type='10000 * {\"Particle.PID\": var * int...'>"
      ]
     },
     "execution_count": 23,
     "metadata": {},
     "output_type": "execute_result"
    }
   ],
   "source": [
    "data_inter_A = data[ak.any(data[data['Particle.PID'] == 36]['Particle.Status'] == 2, axis=1)]\n",
    "\n",
    "data[data['Particle.PID'] == 36]"
   ]
  },
  {
   "cell_type": "code",
   "execution_count": 24,
   "metadata": {},
   "outputs": [
    {
     "data": {
      "text/plain": [
       "<Array [True, True, False] type='3 * bool'>"
      ]
     },
     "execution_count": 24,
     "metadata": {},
     "output_type": "execute_result"
    }
   ],
   "source": [
    "ak.all([[],[True], [False]], axis=1)"
   ]
  },
  {
   "cell_type": "code",
   "execution_count": 25,
   "metadata": {},
   "outputs": [
    {
     "name": "stdout",
     "output_type": "stream",
     "text": [
      "The number of events that have an intermediate A = 5584\n"
     ]
    },
    {
     "data": {
      "image/png": "[encoded data removed]",
      "text/plain": [
       "<Figure size 576x432 with 1 Axes>"
      ]
     },
     "metadata": {
      "needs_background": "light"
     },
     "output_type": "display_data"
    }
   ],
   "source": [
    "data_inter_A = data[ak.any(data[data['Particle.PID'] == 36]['Particle.Status'] == 2, axis=1)]\n",
    "# So all these events have an intermediate A with a status = 2\n",
    "# Note, this is the same as just picking all the events with an A as they can't appear in the initial or final states\n",
    "# but the way above is a bit more specific. E.g. could do \n",
    "# data[ak.any(data['Particle.PID'] == 36, axis=1)]\n",
    "print(f'The number of events that have an intermediate A = {len(data_inter_A)}')\n",
    "# Now plot the lepton PT for this data \n",
    "lepton_PT(data_inter_A)\n",
    "\n",
    "# Weirdly these don't seem that bad...\n",
    "# Even though all these events have both Hs with over 100 PT, it must be the other \n",
    "# ones that are messed up"
   ]
  },
  {
   "cell_type": "code",
   "execution_count": 26,
   "metadata": {},
   "outputs": [
    {
     "name": "stdout",
     "output_type": "stream",
     "text": [
      "The number of events that have an intermediate A = 4366\n"
     ]
    },
    {
     "data": {
      "image/png": "[encoded data removed]",
      "text/plain": [
       "<Figure size 576x432 with 1 Axes>"
      ]
     },
     "metadata": {
      "needs_background": "light"
     },
     "output_type": "display_data"
    }
   ],
   "source": [
    "data_inter_Z = data[ak.any(data[data['Particle.PID'] == 23]['Particle.Status'] == 2, axis=1)]\n",
    "print(f'The number of events that have an intermediate A = {len(data_inter_Z)}')\n",
    "# Now plot the lepton PT for this data \n",
    "lepton_PT(data_inter_Z)\n",
    "\n",
    "# Weirdly these don't seem that bad...\n",
    "# Even though all these events have both Hs with over 100 PT, it must be the other \n",
    "# ones that are messed up"
   ]
  },
  {
   "cell_type": "code",
   "execution_count": 27,
   "metadata": {},
   "outputs": [
    {
     "data": {
      "image/png": "[encoded data removed]",
      "text/plain": [
       "<Figure size 576x432 with 1 Axes>"
      ]
     },
     "metadata": {
      "needs_background": "light"
     },
     "output_type": "display_data"
    }
   ],
   "source": [
    "evs_over_100 = data[ak.all(data[data['Particle.PID'] == 35]['Particle.PT'] > 100, axis=1)]\n",
    "data_no_inter_A = evs_over_100[ak.any(evs_over_100['Particle.PID'] == 23, axis=1)]\n",
    "# Now lets plot the lepton distribution of this\n",
    "lepton_PT(data_no_inter_A)"
   ]
  },
  {
   "cell_type": "code",
   "execution_count": 28,
   "metadata": {},
   "outputs": [
    {
     "data": {
      "image/png": "[encoded data removed]",
      "text/plain": [
       "<Figure size 576x432 with 1 Axes>"
      ]
     },
     "metadata": {
      "needs_background": "light"
     },
     "output_type": "display_data"
    }
   ],
   "source": [
    "lepton_PT(data)"
   ]
  },
  {
   "cell_type": "markdown",
   "metadata": {},
   "source": [
    "## Invariant Masses\n",
    "So for the events that have an on-shell Z, we expect that the invariant mass of the leptons will be roughly equal to the Z mass"
   ]
  },
  {
   "cell_type": "code",
   "execution_count": 29,
   "metadata": {},
   "outputs": [
    {
     "name": "stdout",
     "output_type": "stream",
     "text": [
      "The average invariant mass of the leptons with an on-shell A is = 5.085312987573845\n",
      "The average invariant mass of the leptons with an on-shell Z is = 91.22039151438904\n"
     ]
    },
    {
     "data": {
      "image/png": "[encoded data removed]",
      "text/plain": [
       "<Figure size 576x432 with 1 Axes>"
      ]
     },
     "metadata": {
      "needs_background": "light"
     },
     "output_type": "display_data"
    }
   ],
   "source": [
    "# function that loops over the events and finds invariant mass of the leptons \n",
    "def lep_inv_mass(data):\n",
    "    evs_leptons = data[(abs(data['Particle.PID']) == 11) | (abs(data['Particle.PID']) == 13)]\n",
    "    inv_mass = []\n",
    "    for ev in evs_leptons:\n",
    "        E1, E2 = ev['Particle.E']\n",
    "        px1, px2 = ev['Particle.Px']\n",
    "        py1, py2 = ev['Particle.Py']\n",
    "        pz1, pz2 = ev['Particle.Pz']\n",
    "        m = np.sqrt((E1 + E2)**2 - (px1 + px2)**2 - (py1 + py2)**2 - (pz1 + pz2)**2)\n",
    "        inv_mass.append(m)\n",
    "    return inv_mass\n",
    "\n",
    "# First find the ones with intermediate Z\n",
    "inter_z = data[ak.any(data[data['Particle.PID'] == 23]['Particle.Status'] == 2, axis=1)]\n",
    "inv_mass_z = lep_inv_mass(inter_z)\n",
    "\n",
    "# Now do the same for the intermediate A ones\n",
    "inter_a = data[ak.any(data[data['Particle.PID'] == 36]['Particle.Status'] == 2, axis=1)]\n",
    "inv_mass_a = lep_inv_mass(inter_a)\n",
    "\n",
    "# Now plot both of them\n",
    "nbins = 250\n",
    "plt.figure(figsize=(8,6))\n",
    "plt.tight_layout()\n",
    "#plt.hist(lepton_data['Particle.PT'], bins=nbins, label=f'$\\mu={mean:0.2f}$, $\\sigma={std:0.2f}$')\n",
    "plt.hist(inv_mass_a, bins=nbins, label='Intermediate A')\n",
    "plt.hist(inv_mass_z, bins=nbins, label='Intermediate Z')\n",
    "plt.title(f'Invariant Mass of the two leptons')\n",
    "plt.xlabel(f'M (GeV)')\n",
    "plt.ylabel(f'Counts')\n",
    "plt.legend()\n",
    "\n",
    "# This seems like the inter_z ones have way more points, but the reason is that the M_a are \n",
    "# much tighter together, so the 250 bins represent a much smaller width of invariant mass\n",
    "# so each bin has far fewer counts in it \n",
    "\n",
    "# The invariant mass for the A is far smaller because it represents the amount of energy \n",
    "# of the very off-shell Z that the leptons came from. For BP3 here is very \n",
    "# similar to the difference in the masses of the A and the H (~5 GeV)\n",
    "print(f'The average invariant mass of the leptons with an on-shell A is = {np.mean(inv_mass_a)}')\n",
    "\n",
    "# And for the ones with a on-shell Z\n",
    "print(f'The average invariant mass of the leptons with an on-shell Z is = {np.mean(inv_mass_z)}')"
   ]
  },
  {
   "cell_type": "code",
   "execution_count": 30,
   "metadata": {},
   "outputs": [
    {
     "name": "stdout",
     "output_type": "stream",
     "text": [
      "length of inv_mass1 = 5584\n",
      "length of inv_mass2 = 5584\n"
     ]
    }
   ],
   "source": [
    "# How about we plot the invariant mass of the two leptons combined with an H\n",
    "# For the on-shell A ones we should get a peak around the A mass\n",
    "def lepH_inv_mass(data):\n",
    "    evs_leptons = data[(abs(data['Particle.PID']) == 11) | (abs(data['Particle.PID']) == 13)]\n",
    "    evs_H = data[data['Particle.PID'] == 35]\n",
    "    # For if inv_mass is over or below 100\n",
    "    inv_mass1 = []\n",
    "    inv_mass2 = []\n",
    "    for lep_ev, H_ev in zip(evs_leptons, evs_H):\n",
    "        for i in range(2):\n",
    "            E1, E2 = lep_ev['Particle.E']\n",
    "            px1, px2 = lep_ev['Particle.Px']\n",
    "            py1, py2 = lep_ev['Particle.Py']\n",
    "            pz1, pz2 = lep_ev['Particle.Pz']\n",
    "            E3 = H_ev['Particle.E'][i]\n",
    "            px3 = H_ev['Particle.Px'][i]\n",
    "            py3 = H_ev['Particle.Py'][i]\n",
    "            pz3 = H_ev['Particle.Pz'][i]\n",
    "            m = np.sqrt((E1 + E2 + E3)**2 - (px1 + px2 + px3)**2 - (py1 + py2 + py3)**2 - (pz1 + pz2 + pz3)**2)\n",
    "            if m < 100:\n",
    "                inv_mass1.append(m)\n",
    "            else:\n",
    "                inv_mass2.append(m)\n",
    "\n",
    "    return inv_mass1, inv_mass2\n",
    "\n",
    "# Find this for ones with on-shell A \n",
    "inter_a = data[ak.any(data[data['Particle.PID'] == 36]['Particle.Status'] == 2, axis=1)]\n",
    "inv_mass1, inv_mass2 = lepH_inv_mass(inter_a)\n",
    "\n",
    "print(f'length of inv_mass1 = {len(inv_mass1)}')\n",
    "print(f'length of inv_mass2 = {len(inv_mass2)}')"
   ]
  },
  {
   "cell_type": "code",
   "execution_count": 31,
   "metadata": {},
   "outputs": [
    {
     "data": {
      "text/plain": [
       "Text(0, 0.5, 'Counts')"
      ]
     },
     "execution_count": 31,
     "metadata": {},
     "output_type": "execute_result"
    },
    {
     "data": {
      "image/png": "[encoded data removed]",
      "text/plain": [
       "<Figure size 576x432 with 1 Axes>"
      ]
     },
     "metadata": {
      "needs_background": "light"
     },
     "output_type": "display_data"
    }
   ],
   "source": [
    "nbins = 100\n",
    "plt.figure(figsize=(8,6))\n",
    "plt.tight_layout()\n",
    "\n",
    "plt.hist(inv_mass1, bins=nbins)\n",
    "plt.title(f'Invariant Mass of the two leptons and an H')\n",
    "plt.xlabel(f'M (GeV)')\n",
    "plt.ylabel(f'Counts')"
   ]
  },
  {
   "cell_type": "code",
   "execution_count": 32,
   "metadata": {},
   "outputs": [
    {
     "data": {
      "text/plain": [
       "Text(0, 0.5, 'Counts')"
      ]
     },
     "execution_count": 32,
     "metadata": {},
     "output_type": "execute_result"
    },
    {
     "data": {
      "image/png": "[encoded data removed]",
      "text/plain": [
       "<Figure size 576x432 with 1 Axes>"
      ]
     },
     "metadata": {
      "needs_background": "light"
     },
     "output_type": "display_data"
    }
   ],
   "source": [
    "nbins = 100\n",
    "plt.figure(figsize=(8,6))\n",
    "plt.tight_layout()\n",
    "\n",
    "plt.hist(inv_mass2, bins=nbins)\n",
    "plt.title(f'Invariant Mass of the two leptons and an H')\n",
    "plt.xlabel(f'M (GeV)')\n",
    "plt.ylabel(f'Counts')"
   ]
  },
  {
   "cell_type": "code",
   "execution_count": 33,
   "metadata": {},
   "outputs": [
    {
     "name": "stdout",
     "output_type": "stream",
     "text": [
      "[92.76272918526614, 94.0689129909634, 91.15690755242133, 91.10100961760952, 94.02225045200586, 90.61742283920589, 79.52471567300859, 74.02361585736982, 83.59929214033168, 92.82570308167914]\n",
      "[5.766341730305275, 4.9899682334609325, 4.8166937749266685, 5.446483369029016, 4.698207336690336, 5.77951016414948, 4.4468764180651865, 4.670532882538466, 4.424870482246217, 5.28685059575477]\n",
      "56.21536900024099\n",
      "4.102442626568261\n"
     ]
    }
   ],
   "source": [
    "print(inv_mass_z[:10])\n",
    "print(inv_mass_a[:10])\n",
    "print(min(inv_mass_z))\n",
    "print(min(inv_mass_a))"
   ]
  },
  {
   "cell_type": "code",
   "execution_count": 34,
   "metadata": {},
   "outputs": [],
   "source": [
    "\n",
    "# Can write a function that takes in the two leptons and outputs the invariant mass \n",
    "def m_inv(pairs):\n",
    "    px = 'Particle.Px'\n",
    "    py = 'Particle.Py'\n",
    "    pz = 'Particle.Pz'\n",
    "    # pairs holds the pairs of all of the leptons\n",
    "    lep1, lep2 = ak.unzip(pairs)\n",
    "    E1 = lep1['Particle.E']\n",
    "    E2 = lep2['Particle.E']\n",
    "    inv_mass = (E1 + E2)**2 - (lep1[px] + lep2[px])**2 - (lep1[py] + lep2[py])**2 - (lep1[pz] + lep2[pz])**2\n",
    "    return inv_mass\n",
    "\n",
    "# Let's find the pairs of the leptons\n",
    "leps = [11, 13]\n",
    "events_leptons = inter_z[(abs(inter_z['Particle.PID']) == 11) | (abs(inter_z['Particle.PID']) == 13)]\n",
    "\n",
    "#pairs = ak.cartesian(inter_z[i])"
   ]
  },
  {
   "cell_type": "code",
   "execution_count": 35,
   "metadata": {},
   "outputs": [],
   "source": [
    "inv_mass = []\n",
    "for ev in events_leptons:\n",
    "    E1, E2 = ev['Particle.E']\n",
    "    px1, px2 = ev['Particle.Px']\n",
    "    py1, py2 = ev['Particle.Py']\n",
    "    pz1, pz2 = ev['Particle.Pz']\n",
    "    m = np.sqrt((E1 + E2)**2 - (px1 + px2)**2 - (py1 + py2)**2 - (pz1 + pz2)**2)\n",
    "    inv_mass.append(m)"
   ]
  },
  {
   "cell_type": "code",
   "execution_count": 36,
   "metadata": {},
   "outputs": [
    {
     "data": {
      "text/plain": [
       "Text(0, 0.5, 'Counts')"
      ]
     },
     "execution_count": 36,
     "metadata": {},
     "output_type": "execute_result"
    },
    {
     "data": {
      "image/png": "[encoded data removed]",
      "text/plain": [
       "<Figure size 576x432 with 1 Axes>"
      ]
     },
     "metadata": {
      "needs_background": "light"
     },
     "output_type": "display_data"
    }
   ],
   "source": [
    "\n",
    "nbins = 150\n",
    "plt.figure(figsize=(8,6))\n",
    "plt.tight_layout()\n",
    "#plt.hist(lepton_data['Particle.PT'], bins=nbins, label=f'$\\mu={mean:0.2f}$, $\\sigma={std:0.2f}$')\n",
    "plt.hist(inv_mass, bins=nbins, label='Intermediate Z')\n",
    "plt.title(f'Lepton PT')\n",
    "plt.xlabel(f'PT (GeV)')\n",
    "plt.ylabel(f'Counts')\n",
    "#plt.xlim((0, 20))"
   ]
  },
  {
   "cell_type": "code",
   "execution_count": 37,
   "metadata": {},
   "outputs": [
    {
     "ename": "NameError",
     "evalue": "name 'events_' is not defined",
     "output_type": "error",
     "traceback": [
      "\u001b[0;31m---------------------------------------------------------------------------\u001b[0m",
      "\u001b[0;31mNameError\u001b[0m                                 Traceback (most recent call last)",
      "\u001b[1;32m/vols/cms/emc21/idmStudy/MadGraph_files/distributions/BP2_3_problems.ipynb Cell 45'\u001b[0m in \u001b[0;36m<cell line: 1>\u001b[0;34m()\u001b[0m\n\u001b[0;32m----> <a href='vscode-notebook-cell://ssh-remote%2Blx02.hep.ph.ic.ac.uk/vols/cms/emc21/idmStudy/MadGraph_files/distributions/BP2_3_problems.ipynb#ch0000044vscode-remote?line=0'>1</a>\u001b[0m inv_mass \u001b[39m=\u001b[39m events_\n",
      "\u001b[0;31mNameError\u001b[0m: name 'events_' is not defined"
     ]
    }
   ],
   "source": [
    "inv_mass = events_"
   ]
  },
  {
   "cell_type": "code",
   "execution_count": null,
   "metadata": {},
   "outputs": [],
   "source": []
  },
  {
   "cell_type": "code",
   "execution_count": null,
   "metadata": {},
   "outputs": [],
   "source": []
  },
  {
   "cell_type": "code",
   "execution_count": null,
   "metadata": {},
   "outputs": [],
   "source": []
  },
  {
   "cell_type": "code",
   "execution_count": null,
   "metadata": {},
   "outputs": [],
   "source": []
  },
  {
   "cell_type": "code",
   "execution_count": null,
   "metadata": {},
   "outputs": [],
   "source": []
  },
  {
   "cell_type": "code",
   "execution_count": null,
   "metadata": {},
   "outputs": [],
   "source": []
  },
  {
   "cell_type": "code",
   "execution_count": null,
   "metadata": {},
   "outputs": [],
   "source": []
  },
  {
   "cell_type": "code",
   "execution_count": null,
   "metadata": {},
   "outputs": [],
   "source": []
  }
 ],
 "metadata": {
  "interpreter": {
   "hash": "ad819b60171663a167d0db40f47bd886833251bcaf7c4d654a576d15df427bd9"
  },
  "kernelspec": {
   "display_name": "Python 3.9.13 ('FCC')",
   "language": "python",
   "name": "python3"
  },
  "language_info": {
   "codemirror_mode": {
    "name": "ipython",
    "version": 3
   },
   "file_extension": ".py",
   "mimetype": "text/x-python",
   "name": "python",
   "nbconvert_exporter": "python",
   "pygments_lexer": "ipython3",
   "version": "3.9.13"
  },
  "orig_nbformat": 4,
  "vscode": {
   "interpreter": {
    "hash": "ad819b60171663a167d0db40f47bd886833251bcaf7c4d654a576d15df427bd9"
   }
  }
 },
 "nbformat": 4,
 "nbformat_minor": 2
}
