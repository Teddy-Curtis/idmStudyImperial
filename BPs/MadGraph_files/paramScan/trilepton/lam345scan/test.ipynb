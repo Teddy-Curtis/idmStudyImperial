{
 "cells": [
  {
   "cell_type": "code",
   "execution_count": 2,
   "metadata": {},
   "outputs": [],
   "source": [
    "import uproot\n",
    "import awkward as ak \n",
    "import vector\n",
    "vector.register_awkward()\n",
    "import matplotlib.pyplot as plt\n",
    "import os \n"
   ]
  },
  {
   "cell_type": "code",
   "execution_count": 26,
   "metadata": {},
   "outputs": [
    {
     "name": "stdout",
     "output_type": "stream",
     "text": [
      "[[0.0033305]\n",
      " [0.0033305]\n",
      " [0.0033305]\n",
      " ...\n",
      " [0.0033305]\n",
      " [0.0033305]\n",
      " [0.0033305]]\n"
     ]
    }
   ],
   "source": [
    "\n",
    "with uproot.open(\"/vols/cms/emc21/idmStudy/BPs/MadGraph_files/paramScan/trilepton/lam345scan/h2h2lllnu/h2h2lllnu_BP2_lam345_-1/Events/run_01/unweighted_events.root:LHEF;1\") as f:\n",
    "    weights = ak.to_numpy(f['Event']['Event.Weight'].arrays()['Event.Weight'])\n",
    "    print(weights)\n",
    "    tree = f['Particle']\n",
    "    events = tree.arrays(library=\"ak\", how=\"zip\")\n",
    "\n",
    "part = events.Particle\n",
    "# Only want final state particles \n",
    "part = part[part['Status'] == 1]\n",
    "branches = ['Px', 'Py', 'Pz', 'E', 'M', 'PT', 'Eta', 'Phi', 'Rapidity']\n",
    "for b in branches:\n",
    "    part[b.lower()] = part[b]\n",
    "\n",
    "\n",
    "part = ak.Array(part, with_name=\"Momentum4D\")\n",
    "# print(ak.flatten(weights['Event.Weight']))\n",
    "part['weights'] = weights\n"
   ]
  },
  {
   "cell_type": "code",
   "execution_count": 28,
   "metadata": {},
   "outputs": [
    {
     "name": "stdout",
     "output_type": "stream",
     "text": [
      "[0.00333, 0.00333, 0.00333, 0.00333, 0.00333, 0.00333]\n"
     ]
    }
   ],
   "source": [
    "print(part[0].weights)"
   ]
  },
  {
   "cell_type": "code",
   "execution_count": 19,
   "metadata": {},
   "outputs": [
    {
     "name": "stdout",
     "output_type": "stream",
     "text": [
      "[{'fUniqueID': 0, 'fBits': 50331648, 'PID': 35, 'Status': 1, 'Mother1': 2, 'Mother2': 2, 'ColorLine1': 0, 'ColorLine2': 0, 'Px': -42.721086044, 'Py': -113.08168485, 'Pz': 217.68174013, 'E': 257.33810178, 'M': 65.0, 'PT': 120.88241659271034, 'Eta': 1.3508158724584811, 'Phi': -1.9320104400204265, 'Rapidity': 1.2415525976241863, 'LifeTime': 0.0, 'Spin': 0.0, 'px': -42.721086044, 'py': -113.08168485, 'pz': 217.68174013, 'e': 257.33810178, 'm': 65.0, 'pt': 120.88241659271034, 'eta': 1.3508158724584811, 'phi': -1.9320104400204265, 'rapidity': 1.2415525976241863, 'weights': 0.0033305009}, {'fUniqueID': 0, 'fBits': 50331648, 'PID': 35, 'Status': 1, 'Mother1': 3, 'Mother2': 3, 'ColorLine1': 0, 'ColorLine2': 0, 'Px': 31.326510314, 'Py': 121.61884132, 'Pz': 131.27234973, 'E': 192.9505704, 'M': 65.0, 'PT': 125.58858551824082, 'Eta': 0.9130158288253074, 'Phi': 1.318696913841394, 'Rapidity': 0.829750211613922, 'LifeTime': 0.0, 'Spin': 0.0, 'px': 31.326510314, 'py': 121.61884132, 'pz': 131.27234973, 'e': 192.9505704, 'm': 65.0, 'pt': 125.58858551824082, 'eta': 0.9130158288253074, 'phi': 1.318696913841394, 'rapidity': 0.829750211613922, 'weights': 0.0033305009}, {'fUniqueID': 0, 'fBits': 50331648, 'PID': 11, 'Status': 1, 'Mother1': 3, 'Mother2': 3, 'ColorLine1': 0, 'ColorLine2': 0, 'Px': 21.066504937, 'Py': 6.9360494084, 'Pz': 38.126109089, 'E': 44.10789732, 'M': 0.0, 'PT': 22.178963268295732, 'Eta': 1.3104246806797333, 'Phi': 0.3180668948139891, 'Rapidity': 1.3104246806191773, 'LifeTime': 0.0, 'Spin': -1.0, 'px': 21.066504937, 'py': 6.9360494084, 'pz': 38.126109089, 'e': 44.10789732, 'm': 0.0, 'pt': 22.178963268295732, 'eta': 1.3104246806797333, 'phi': 0.3180668948139891, 'rapidity': 1.3104246806191773, 'weights': 0.0033305009}, {'fUniqueID': 0, 'fBits': 50331648, 'PID': 13, 'Status': 1, 'Mother1': 2, 'Mother2': 2, 'ColorLine1': 0, 'ColorLine2': 0, 'Px': -7.2849907395, 'Py': -5.5147320843, 'Pz': 11.668692255, 'E': 14.820692003, 'M': 0.1057, 'PT': 9.13692289757381, 'Eta': 1.0644061637696502, 'Phi': -2.4936270921901413, 'Rapidity': 1.0643534833244117, 'LifeTime': 0.0, 'Spin': 1.0, 'px': -7.2849907395, 'py': -5.5147320843, 'pz': 11.668692255, 'e': 14.820692003, 'm': 0.1057, 'pt': 9.13692289757381, 'eta': 1.0644061637696502, 'phi': -2.4936270921901413, 'rapidity': 1.0643534833244117, 'weights': 0.0033305009}, {'fUniqueID': 0, 'fBits': 50331648, 'PID': -13, 'Status': 1, 'Mother1': 2, 'Mother2': 2, 'ColorLine1': 0, 'ColorLine2': 0, 'Px': -2.5942637661, 'Py': -4.8663686264, 'Pz': 9.8365908253, 'E': 11.277474879, 'M': 0.1057, 'PT': 5.514684768516654, 'Eta': 1.342501486074264, 'Phi': -2.060572398810208, 'Rapidity': 1.342341294026445, 'LifeTime': 0.0, 'Spin': -1.0, 'px': -2.5942637661, 'py': -4.8663686264, 'pz': 9.8365908253, 'e': 11.277474879, 'm': 0.1057, 'pt': 5.514684768516654, 'eta': 1.342501486074264, 'phi': -2.060572398810208, 'rapidity': 1.342341294026445, 'weights': 0.0033305009}, {'fUniqueID': 0, 'fBits': 50331648, 'PID': -12, 'Status': 1, 'Mother1': 3, 'Mother2': 3, 'ColorLine1': 0, 'ColorLine2': 0, 'Px': 0.20732529846, 'Py': -5.0921051694, 'Pz': -1.8910214387, 'E': 5.4358514436, 'M': 0.0, 'PT': 5.096324051275755, 'Eta': -0.36302930022847435, 'Phi': -1.5301037559833122, 'Rapidity': -0.3630293002307952, 'LifeTime': 0.0, 'Spin': 1.0, 'px': 0.20732529846, 'py': -5.0921051694, 'pz': -1.8910214387, 'e': 5.4358514436, 'm': 0.0, 'pt': 5.096324051275755, 'eta': -0.36302930022847435, 'phi': -1.5301037559833122, 'rapidity': -0.3630293002307952, 'weights': 0.0033305009}]\n"
     ]
    }
   ],
   "source": [
    "print(ak.to_list(part[0]))"
   ]
  },
  {
   "cell_type": "code",
   "execution_count": 10,
   "metadata": {},
   "outputs": [],
   "source": [
    "lep = part[(abs(part.PID) == 11) | (abs(part.PID) == 13)]\n",
    "\n",
    "dimu_events = lep[ak.num(lep[abs(lep.PID) == 13]) == 2]\n",
    "dimu = dimu_events[abs(dimu_events['PID']) == 13]\n",
    "dimu_extra_lep = dimu_events[abs(dimu_events['PID']) == 11]\n",
    "\n",
    "dielec_events = lep[ak.num(lep[abs(lep.PID) == 11]) == 2]\n",
    "dielec = dielec_events[abs(dielec_events['PID']) == 11]\n",
    "dielec_extra_lep = dielec_events[abs(dielec_events['PID']) == 13]\n",
    "\n",
    "dilep = ak.concatenate([dimu, dielec], axis=0)\n",
    "lep = ak.concatenate([dimu_extra_lep, dielec_extra_lep], axis=0)\n"
   ]
  },
  {
   "cell_type": "code",
   "execution_count": 11,
   "metadata": {},
   "outputs": [
    {
     "name": "stdout",
     "output_type": "stream",
     "text": [
      "10000\n",
      "[[0.00333, 0.00333], [0.00333, 0.00333], [...], ..., [...], [0.00333, 0.00333]]\n"
     ]
    }
   ],
   "source": [
    "dilep1, dilep2 = dilep[:,0], dilep[:,1]\n",
    "dilep4v = dilep1 + dilep2\n",
    "dilepmass = dilep4v.mass\n",
    "dilepdR = dilep1.deltaR(dilep2)\n",
    "dilepPT = dilep4v.pt\n",
    "singlePT = ak.flatten(lep.pt)\n",
    "dilepdRlep = ak.flatten(dilep4v.deltaR(lep))\n",
    "\n",
    "\n",
    "dm = part[part.PID == 35]\n",
    "# Get vector sum to find the MET \n",
    "dm1 = dm[:,0]\n",
    "dm2 = dm[:,1]\n",
    "MET = dm1 + dm2\n",
    "print(len(MET))\n",
    "print(dm.weights)"
   ]
  },
  {
   "cell_type": "code",
   "execution_count": 13,
   "metadata": {},
   "outputs": [
    {
     "name": "stdout",
     "output_type": "stream",
     "text": [
      "[22.2, 24.1, 31.1, 64.3, 20.2, 28.8, ..., 18.6, 32.5, 48, 1.37, 27.4, 2.95]\n",
      "[2.65, 1.47, 3.11, 2.47, 1.92, 2.76, ..., 0.607, 2.87, 2.68, 3.35, 3.01, 1.95]\n",
      "[0.00333, 0.00333, 0.00333, 0.00333, ..., 0.00333, 0.00333, 0.00333, 0.00333]\n"
     ]
    }
   ],
   "source": [
    "print(singlePT)\n",
    "print(dilepdRlep)\n",
    "print(weights)"
   ]
  },
  {
   "cell_type": "code",
   "execution_count": 11,
   "metadata": {},
   "outputs": [
    {
     "name": "stdout",
     "output_type": "stream",
     "text": [
      "[[22.2], [24.1], [31.1], [64.3], [20.2], ..., [48], [1.37], [27.4], [2.95]]\n",
      "[[2.65], [1.47], [3.11], [2.47], [1.92], ..., [2.68], [3.35], [3.01], [1.95]]\n",
      "[[0.00333], [0.00333], [0.00333], ..., [0.00333], [0.00333], [0.00333]]\n"
     ]
    }
   ],
   "source": [
    "print(singlePT)\n",
    "print(dilepdRlep)\n",
    "print(weights)"
   ]
  },
  {
   "cell_type": "code",
   "execution_count": 32,
   "metadata": {},
   "outputs": [
    {
     "data": {
      "text/html": [
       "<pre>[{x: [1, 2, 1], y: [1], weights: [15]},\n",
       " {x: [1], y: [5, 6, 7], weights: [16]},\n",
       " {x: [4, 5, 6, 7], y: [3, 4, 5, 6], weights: [17]}]\n",
       "---------------------------------------------------\n",
       "type: 3 * {\n",
       "    x: var * int64,\n",
       "    y: var * int64,\n",
       "    weights: 1 * int64\n",
       "}</pre>"
      ],
      "text/plain": [
       "<Array [{x: [1, ..., 1], y: [1], ...}, ...] type='3 * {x: var * int64, y: v...'>"
      ]
     },
     "execution_count": 32,
     "metadata": {},
     "output_type": "execute_result"
    }
   ],
   "source": [
    "arr = ak.Array({\"x\" : [[1, 2, 1], [1], [4, 5, 6, 7]],\n",
    "                \"y\" : [[1], [5, 6, 7], [3, 4, 5, 6]]})\n",
    "# weights = ak.Array({\"weights\" : [[15], [16], [17]]})\n",
    "weights = np.array([[15], [16], [17]])\n",
    "arr['weights'] = weights\n",
    "arr"
   ]
  },
  {
   "cell_type": "code",
   "execution_count": 34,
   "metadata": {},
   "outputs": [
    {
     "data": {
      "text/html": [
       "<pre>[{fUniqueID: 0, fBits: 50331648, PID: 35, Status: 1, Mother1: 2, ...},\n",
       " {fUniqueID: 0, fBits: 50331648, PID: 35, Status: 1, Mother1: 3, ...},\n",
       " {fUniqueID: 0, fBits: 50331648, PID: 11, Status: 1, Mother1: 3, ...},\n",
       " {fUniqueID: 0, fBits: 50331648, PID: 13, Status: 1, Mother1: 2, ...},\n",
       " {fUniqueID: 0, fBits: 50331648, PID: -13, Status: 1, Mother1: 2, ...},\n",
       " {fUniqueID: 0, fBits: 50331648, PID: -12, Status: 1, Mother1: 3, ...}]\n",
       "-----------------------------------------------------------------------\n",
       "type: 6 * Momentum4D[\n",
       "    fUniqueID: uint32,\n",
       "    fBits: uint32,\n",
       "    PID: int32,\n",
       "    Status: int32,\n",
       "    Mother1: int32,\n",
       "    Mother2: int32,\n",
       "    ColorLine1: int32,\n",
       "    ColorLine2: int32,\n",
       "    Px: float64,\n",
       "    Py: float64,\n",
       "    Pz: float64,\n",
       "    E: float64,\n",
       "    M: float64,\n",
       "    PT: float64,\n",
       "    Eta: float64,\n",
       "    Phi: float64,\n",
       "    Rapidity: float64,\n",
       "    LifeTime: float64,\n",
       "    Spin: float64,\n",
       "    px: float64,\n",
       "    py: float64,\n",
       "    pz: float64,\n",
       "    e: float64,\n",
       "    m: float64,\n",
       "    pt: float64,\n",
       "    eta: float64,\n",
       "    phi: float64,\n",
       "    rapidity: float64,\n",
       "    weights: float64\n",
       "]</pre>"
      ],
      "text/plain": [
       "<MomentumArray4D [{fUniqueID: 0, fBits: ..., ...}, ...] type='6 * Momentum4...'>"
      ]
     },
     "execution_count": 34,
     "metadata": {},
     "output_type": "execute_result"
    }
   ],
   "source": [
    "part[0]"
   ]
  }
 ],
 "metadata": {
  "kernelspec": {
   "display_name": "idm",
   "language": "python",
   "name": "python3"
  },
  "language_info": {
   "codemirror_mode": {
    "name": "ipython",
    "version": 3
   },
   "file_extension": ".py",
   "mimetype": "text/x-python",
   "name": "python",
   "nbconvert_exporter": "python",
   "pygments_lexer": "ipython3",
   "version": "3.10.9"
  },
  "orig_nbformat": 4,
  "vscode": {
   "interpreter": {
    "hash": "13bf23807530a89462f0536c1c2c7fd91beed13ac6101289ad2d970f50d60faa"
   }
  }
 },
 "nbformat": 4,
 "nbformat_minor": 2
}
