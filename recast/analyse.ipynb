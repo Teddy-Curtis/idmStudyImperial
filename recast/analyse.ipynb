{
 "cells": [
  {
   "cell_type": "code",
   "execution_count": 1,
   "metadata": {},
   "outputs": [],
   "source": [
    "import uproot\n",
    "import matplotlib.pyplot as plt\n",
    "import awkward as ak\n",
    "import numpy as np\n",
    "import glob\n",
    "import pandas as pd"
   ]
  },
  {
   "cell_type": "code",
   "execution_count": 2,
   "metadata": {},
   "outputs": [],
   "source": [
    "options = {'timeout' : 180}\n",
    "events = uproot.open('/eos/user/e/ecurtis/idmStudy/myFiles/gridpacks/h2h2lPlM_lem/h2h2lPlM_lem_BP8/wmNANOAODGEN_new_conditions_6777251.0.root:Events;1', **options)\n",
    "\n",
    "filters = ['GenDressedLepton*', 'GenPart*', 'GenJet*']\n",
    "events = events.arrays(filter_name=filters, library='ak')\n",
    "\n",
    "branches = ['GenDressedLepton_phi', 'GenDressedLepton_pt', 'GenDressedLepton_eta']\n",
    "leptons = events[branches]\n",
    "# First just get the events that have two leptons \n",
    "eta = leptons.GenDressedLepton_eta\n",
    "count = ak.count(eta, axis=1, keepdims=True)\n",
    "mask = count == 2\n",
    "mask = ak.all(mask,axis=1)\n",
    "leptons = leptons[mask]\n",
    "\n",
    "events = events[mask]\n",
    "\n",
    "branches = ['GenJet_eta', 'GenJet_hadronFlavour', 'GenJet_mass', 'GenJet_partonFlavour', 'GenJet_phi', 'GenJet_pt']\n",
    "jets = events[branches]\n",
    "\n",
    "def num_jet_over_30(jets):\n",
    "    jet_pt = jets.GenJet_pt\n",
    "    mask = jet_pt > 30\n",
    "    num_over_30 = ak.sum(mask, axis=1)\n",
    "    return num_over_30\n",
    "\n",
    "def cutJet(events):\n",
    "    branches = ['GenJet_eta', 'GenJet_hadronFlavour', 'GenJet_mass', 'GenJet_partonFlavour', 'GenJet_phi', 'GenJet_pt']\n",
    "    jets = events[branches]\n",
    "    # Want to split into two categories: 0 jet > 30GeV\n",
    "    # and 1 jet > 30 GeV\n",
    "    jet_pt = jets.GenJet_pt\n",
    "    mask = jet_pt > 30\n",
    "    # This finds how many jets in an event are over 30 GeV\n",
    "    num_over_30 = ak.sum(mask, axis=1)\n",
    "    # Get the indexes for 0 jet events\n",
    "    jet_0_idxs = np.argwhere(num_over_30 == 0)\n",
    "    # Get the indexes for 1 jet events\n",
    "    jet_1_idxs = np.argwhere(num_over_30 == 1)\n",
    "    return jet_0_idxs, jet_1_idxs"
   ]
  },
  {
   "cell_type": "code",
   "execution_count": 3,
   "metadata": {},
   "outputs": [],
   "source": [
    "def PTmiss(dm, return_vec = False):\n",
    "    dm_phi1 = dm['GenPart_phi'][:,0]\n",
    "    dm_phi2 = dm['GenPart_phi'][:,1]\n",
    "    dm_pt1 = dm['GenPart_pt'][:,0]\n",
    "    dm_pt2 = dm['GenPart_pt'][:,1]\n",
    "    MET_vec = np.array([dm_pt1*np.cos(dm_phi1) + dm_pt2*np.cos(dm_phi2), dm_pt1*np.sin(dm_phi1) + dm_pt2*np.sin(dm_phi2)])\n",
    "    tot_MET = np.linalg.norm(MET_vec, axis=0)\n",
    "    if return_vec:\n",
    "        return MET_vec, tot_MET\n",
    "    else:\n",
    "        return tot_MET\n",
    "    \n",
    "def dileptonPT(leptons, return_vec = False):\n",
    "    phi1 = leptons['GenDressedLepton_phi'][:,0]\n",
    "    phi2 = leptons['GenDressedLepton_phi'][:,1]\n",
    "    pt1 = leptons['GenDressedLepton_pt'][:,0]\n",
    "    pt2 = leptons['GenDressedLepton_pt'][:,1]\n",
    "\n",
    "    lep_PT_vec = np.array([pt1*np.cos(phi1) + pt2*np.cos(phi2), pt1*np.sin(phi1) + pt2*np.sin(phi2)])\n",
    "    PT_abs = np.linalg.norm(lep_PT_vec, axis=0)\n",
    "    if return_vec:\n",
    "        return lep_PT_vec, PT_abs\n",
    "    else:\n",
    "        return PT_abs\n",
    "\n",
    "def unit_vector(vector):\n",
    "    \"\"\" Returns the unit vector of the vector.  \"\"\"\n",
    "    return vector / np.linalg.norm(vector)\n",
    "\n",
    "def angle_between(v1, v2):\n",
    "    \"\"\" Returns the angle in radians between vectors 'v1' and 'v2'::\n",
    "\n",
    "            >>> angle_between((1, 0, 0), (0, 1, 0))\n",
    "            1.5707963267948966\n",
    "            >>> angle_between((1, 0, 0), (1, 0, 0))\n",
    "            0.0\n",
    "            >>> angle_between((1, 0, 0), (-1, 0, 0))\n",
    "            3.141592653589793\n",
    "    \"\"\"\n",
    "    v1_u = unit_vector(v1)\n",
    "    v2_u = unit_vector(v2)\n",
    "    return np.arccos(np.clip(np.dot(v1_u, v2_u), -1.0, 1.0))\n",
    "\n",
    "def getDM(events, dm_pdgId):\n",
    "    branches = ['GenPart_eta', 'GenPart_mass', 'GenPart_phi', 'GenPart_pt', 'GenPart_genPartIdxMother', 'GenPart_pdgId', 'GenPart_status', 'GenPart_statusFlags']\n",
    "    gen = events[branches]\n",
    "    # I think status of 1 means that it is a final state particle so let's look at them first \n",
    "    gen_final = gen[gen.GenPart_status == 1]\n",
    "    dm = gen_final[abs(gen_final.GenPart_pdgId) == dm_pdgId]\n",
    "    return dm\n",
    "\n",
    "def getLeptons(events):\n",
    "    branches = ['GenDressedLepton_phi', 'GenDressedLepton_pt', 'GenDressedLepton_eta']\n",
    "    leptons = events[branches]\n",
    "    return leptons\n",
    "\n",
    "\n"
   ]
  },
  {
   "cell_type": "code",
   "execution_count": 4,
   "metadata": {},
   "outputs": [
    {
     "name": "stdout",
     "output_type": "stream",
     "text": [
      "[3.01023865 2.99550916 3.12791631 ... 3.02745144 3.04388106 2.46148408]\n"
     ]
    }
   ],
   "source": [
    "leptons = getLeptons(events)\n",
    "dm = getDM(events, 35)\n",
    "dilepton_PT, _ = dileptonPT(leptons, return_vec=True)\n",
    "PT_miss, _ = PTmiss(dm, return_vec=True)\n",
    "angles = []\n",
    "for i in range(len(dilepton_PT[0])):\n",
    "    vec1 = np.array([dilepton_PT[0,i], dilepton_PT[1,i]])\n",
    "    vec2 = np.array([PT_miss[0,i], PT_miss[1,i]])\n",
    "    angle = angle_between(vec1, vec2)\n",
    "    angles.append(angle)\n",
    "angles = np.array(angles)\n",
    "\n",
    "print(angles)"
   ]
  },
  {
   "cell_type": "code",
   "execution_count": 5,
   "metadata": {},
   "outputs": [],
   "source": [
    "def PTmiss(dm, return_vec = False):\n",
    "    dm_phi1 = dm['GenPart_phi'][:,0]\n",
    "    dm_phi2 = dm['GenPart_phi'][:,1]\n",
    "    dm_pt1 = dm['GenPart_pt'][:,0]\n",
    "    dm_pt2 = dm['GenPart_pt'][:,1]\n",
    "    x = np.array(dm_pt1*np.cos(dm_phi1) + dm_pt2*np.cos(dm_phi2))\n",
    "    y = np.array(dm_pt1*np.sin(dm_phi1) + dm_pt2*np.sin(dm_phi2))\n",
    "    MET_vec = np.stack((x,y), axis=1)\n",
    "    tot_MET = np.linalg.norm(MET_vec, axis=1)\n",
    "    if return_vec:\n",
    "        return MET_vec, tot_MET\n",
    "    else:\n",
    "        return tot_MET\n",
    "    \n",
    "def dileptonPT(leptons, return_vec = False):\n",
    "    phi1 = leptons['GenDressedLepton_phi'][:,0]\n",
    "    phi2 = leptons['GenDressedLepton_phi'][:,1]\n",
    "    pt1 = leptons['GenDressedLepton_pt'][:,0]\n",
    "    pt2 = leptons['GenDressedLepton_pt'][:,1]\n",
    "\n",
    "    x = np.array(pt1*np.cos(phi1) + pt2*np.cos(phi2))\n",
    "    y = np.array(pt1*np.sin(phi1) + pt2*np.sin(phi2))\n",
    "    PT_vec = np.stack((x,y), axis=1)\n",
    "    PT_abs = np.linalg.norm(PT_vec, axis=1)\n",
    "    if return_vec:\n",
    "        return PT_vec, PT_abs\n",
    "    else:\n",
    "        return PT_abs\n",
    "\n",
    "def unit_vector(vector):\n",
    "    \"\"\" Returns the unit vector of the vector.  \"\"\"\n",
    "    return vector / np.linalg.norm(vector)\n",
    "\n",
    "def angle_between(v1, v2):\n",
    "    \"\"\" Returns the angle in radians between vectors 'v1' and 'v2'::\n",
    "\n",
    "            >>> angle_between((1, 0, 0), (0, 1, 0))\n",
    "            1.5707963267948966\n",
    "            >>> angle_between((1, 0, 0), (1, 0, 0))\n",
    "            0.0\n",
    "            >>> angle_between((1, 0, 0), (-1, 0, 0))\n",
    "            3.141592653589793\n",
    "    \"\"\"\n",
    "    v1_u = unit_vector(v1)\n",
    "    v2_u = unit_vector(v2)\n",
    "    return np.arccos(np.clip(np.dot(v1_u, v2_u), -1.0, 1.0))\n",
    "\n",
    "def getDM(events, dm_pdgId):\n",
    "    branches = ['GenPart_eta', 'GenPart_mass', 'GenPart_phi', 'GenPart_pt', 'GenPart_genPartIdxMother', 'GenPart_pdgId', 'GenPart_status', 'GenPart_statusFlags']\n",
    "    gen = events[branches]\n",
    "    # I think status of 1 means that it is a final state particle so let's look at them first \n",
    "    gen_final = gen[gen.GenPart_status == 1]\n",
    "    dm = gen_final[abs(gen_final.GenPart_pdgId) == dm_pdgId]\n",
    "    return dm\n",
    "\n",
    "def getLeptons(events):\n",
    "    branches = ['GenDressedLepton_phi', 'GenDressedLepton_pt', 'GenDressedLepton_eta']\n",
    "    leptons = events[branches]\n",
    "    return leptons\n",
    "\n",
    "def getJets(events):\n",
    "    branches = ['GenJet_eta', 'GenJet_hadronFlavour', 'GenJet_mass', 'GenJet_partonFlavour', 'GenJet_phi', 'GenJet_pt']\n",
    "    jets = events[branches]\n",
    "    return jets\n",
    "\n",
    "def jetPT(jets, return_vec = False):\n",
    "    phi1 = jets['GenJet_phi'][:,0]\n",
    "    pt1 = jets['GenJet_pt'][:,0]\n",
    "    x = np.array(pt1*np.cos(phi1))\n",
    "    y = np.array(pt1*np.sin(phi1))\n",
    "    jet_vec = np.stack((x,y), axis=1)\n",
    "    jet_vec_abs = np.linalg.norm(jet_vec, axis=1)\n",
    "    if return_vec:\n",
    "        return jet_vec, jet_vec_abs\n",
    "    else:\n",
    "        return jet_vec_abs\n",
    "\n",
    "def cutDeltaPhiPTjetPTmiss(events, dm_pdgId):\n",
    "    print(f'cutDeltaPhiPTjetPTmiss:')\n",
    "    dm = getDM(events, dm_pdgId)\n",
    "    PT_miss, _ = PTmiss(dm, return_vec=True)\n",
    "    jets = getJets(events)\n",
    "    jet_PT, _ = jetPT(jets, return_vec=True)\n",
    "    angles = []\n",
    "    for jet_vec, PT_vec in zip(jet_PT, PT_miss):\n",
    "        angle = angle_between(jet_vec, PT_vec)\n",
    "        angles.append(angle)\n",
    "    angles = np.array(angles)\n",
    "    mask = angles > 0.5\n",
    "    print(f'Percentage of events taken out = {((len(mask) - np.sum(mask)) / len(mask)) * 100:.2f}')\n",
    "    events = events[mask]\n",
    "    return events\n"
   ]
  },
  {
   "cell_type": "code",
   "execution_count": 8,
   "metadata": {},
   "outputs": [
    {
     "name": "stdout",
     "output_type": "stream",
     "text": [
      "-2.87939453125\n",
      "221.13107299804688\n",
      "[-213.57338  -57.3181 ]\n"
     ]
    }
   ],
   "source": [
    "jets = getJets(events)\n",
    "\n",
    "phi1 = jets['GenJet_phi'][1][0]\n",
    "pt1 = jets['GenJet_pt'][1][0]\n",
    "print(phi1)\n",
    "print(pt1)\n",
    "jet_PT, jet_abs = jetPT(jets, return_vec=True)\n",
    "print(jet_PT[1])"
   ]
  },
  {
   "cell_type": "code",
   "execution_count": 8,
   "metadata": {},
   "outputs": [
    {
     "data": {
      "image/png": "[encoded data removed]",
      "text/plain": [
       "<Figure size 640x480 with 1 Axes>"
      ]
     },
     "metadata": {},
     "output_type": "display_data"
    }
   ],
   "source": [
    "# Now I can find the number of jets over 30 GeV for each event\n",
    "num_jets = num_jet_over_30(jets)\n",
    "_ = plt.hist(num_jets, density=True, bins=100, histtype='step')"
   ]
  },
  {
   "cell_type": "code",
   "execution_count": 20,
   "metadata": {},
   "outputs": [
    {
     "name": "stdout",
     "output_type": "stream",
     "text": [
      "[[True, True, True, False, False, False], ... [True, True, True, True, True, False]]\n",
      "[3, 4, 4, 3, 4, 4, 4, 3, 2, 4, 3, 5, 4, 4, ... 4, 4, 4, 4, 5, 5, 4, 4, 5, 4, 4, 3, 5]\n",
      "[[1743], [2077], [5706], [8020]]\n",
      "[[1074], [1162], [1320], [1355], [1675], ... [8782], [8803], [9517], [9640], [9917]]\n"
     ]
    }
   ],
   "source": [
    "jet_pt = jets.GenJet_pt\n",
    "mask = jet_pt > 30\n",
    "print(mask)\n",
    "print(ak.sum(mask,axis=1))\n",
    "num = ak.sum(mask, axis=1)\n",
    "# I only want the ones that have 0 or 1 jet over 30 GeV\n",
    "jet_0 = np.argwhere(num == 0)\n",
    "print(jet_0)\n",
    "\n",
    "jet_1 = np.argwhere(num == 1)\n",
    "print(jet_1)\n"
   ]
  },
  {
   "cell_type": "code",
   "execution_count": 31,
   "metadata": {},
   "outputs": [],
   "source": [
    "events0jet = events[jet_0]"
   ]
  },
  {
   "cell_type": "code",
   "execution_count": 40,
   "metadata": {},
   "outputs": [
    {
     "name": "stdout",
     "output_type": "stream",
     "text": [
      "[[28.9, 21.5]]\n"
     ]
    }
   ],
   "source": [
    "print(events0jet.GenDressedLepton_pt[3])"
   ]
  },
  {
   "cell_type": "code",
   "execution_count": 39,
   "metadata": {},
   "outputs": [
    {
     "name": "stdout",
     "output_type": "stream",
     "text": [
      "[29.6, 27.4, 25.2, 22]\n"
     ]
    }
   ],
   "source": [
    "print(jet_pt[8020])"
   ]
  },
  {
   "cell_type": "code",
   "execution_count": 5,
   "metadata": {},
   "outputs": [],
   "source": [
    "#filename = \"root://cmsxrootd.fnal.gov///store/mc/RunIIFall17NanoAODv7/Pseudoscalar2HDM_MonoZLL_mScan_mH-800_ma-400/NANOAODSIM/PU2017_12Apr2018_Nano02Apr2020_102X_mc2017_realistic_v8-v1/260000/F14B27DB-21EF-B443-95C5-ECD3AC953083.root\"\n",
    "filename = \"root://cmsxrootd.fnal.gov///store/test/xrootd/T1_ES_PIC/store/mc/RunIIFall17NanoAODv7/Pseudoscalar2HDM_MonoZLL_mScan_mH-1400_ma-500/NANOAODSIM/PU2017_12Apr2018_Nano02Apr2020_102X_mc2017_realistic_v8-v1/120000/804FA4F0-379A-2148-A1A3-7E412433CEB6.root:Events\"\n",
    "\n",
    "options = {'timeout' : 180}\n",
    "events = uproot.open(filename, **options)\n",
    "#events = uproot.open('testfile.root:Events;1')\n",
    "filters = ['GenDressedLepton*', 'GenPart*', 'GenJet*']\n",
    "events = events.arrays(filter_name=filters, library='ak')\n",
    "\n",
    "branches = ['GenDressedLepton_phi', 'GenDressedLepton_pt', 'GenDressedLepton_eta']\n",
    "leptons = events[branches]\n",
    "# First just get the events that have two leptons \n",
    "eta = leptons.GenDressedLepton_eta\n",
    "count = ak.count(eta, axis=1, keepdims=True)\n",
    "mask = count == 2\n",
    "mask = ak.all(mask,axis=1)\n",
    "leptons = leptons[mask]\n",
    "branches = ['GenPart_eta', 'GenPart_mass', 'GenPart_phi', 'GenPart_pt', 'GenPart_genPartIdxMother', 'GenPart_pdgId', 'GenPart_status', 'GenPart_statusFlags']\n",
    "gen = events[branches]\n",
    "# I think status of 1 means that it is a final state particle so let's look at them first \n",
    "gen_final = gen[gen.GenPart_status == 1]\n",
    "dm = gen_final[abs(gen_final.GenPart_pdgId) == 52]\n",
    "# But we want the same events as we have for the leptons (i.e. with two leptons)\n",
    "# so use the same mask as we did for the leptons\n",
    "dm = dm[mask]\n",
    "\n",
    "lep_pt = ak.flatten(leptons.GenDressedLepton_pt)\n",
    "\n",
    "branches = ['GenJet_eta', 'GenJet_hadronFlavour', 'GenJet_mass', 'GenJet_partonFlavour', 'GenJet_phi', 'GenJet_pt']\n",
    "jets = events[branches]\n"
   ]
  },
  {
   "cell_type": "code",
   "execution_count": 6,
   "metadata": {},
   "outputs": [
    {
     "data": {
      "image/png": "[encoded data removed]",
      "text/plain": [
       "<Figure size 640x480 with 1 Axes>"
      ]
     },
     "metadata": {},
     "output_type": "display_data"
    }
   ],
   "source": [
    "# Now I can find the number of jets over 30 GeV for each event\n",
    "num_jets = num_jet_over_30(jets)\n",
    "_ = plt.hist(num_jets, density=True, bins=100, histtype='step')"
   ]
  },
  {
   "cell_type": "code",
   "execution_count": null,
   "metadata": {},
   "outputs": [],
   "source": [
    "#filename = \"root://cmsxrootd.fnal.gov///store/mc/RunIIFall17NanoAODv7/Pseudoscalar2HDM_MonoZLL_mScan_mH-800_ma-400/NANOAODSIM/PU2017_12Apr2018_Nano02Apr2020_102X_mc2017_realistic_v8-v1/260000/F14B27DB-21EF-B443-95C5-ECD3AC953083.root\"\n",
    "filename = \"root://cmsxrootd.fnal.gov///store/test/xrootd/T1_ES_PIC/store/mc/RunIIFall17NanoAODv7/Pseudoscalar2HDM_MonoZLL_mScan_mH-1400_ma-500/NANOAODSIM/PU2017_12Apr2018_Nano02Apr2020_102X_mc2017_realistic_v8-v1/120000/804FA4F0-379A-2148-A1A3-7E412433CEB6.root:Events\"\n",
    "\n",
    "options = {'timeout' : 180}\n",
    "events = uproot.open(filename, **options)\n",
    "#events = uproot.open('testfile.root:Events;1')\n",
    "filters = ['GenDressedLepton*', 'GenPart*']\n",
    "events = events.arrays(filter_name=filters, library='ak')\n",
    "\n",
    "branches = ['GenDressedLepton_phi', 'GenDressedLepton_pt', 'GenDressedLepton_eta']\n",
    "leptons = events[branches]\n",
    "# First just get the events that have two leptons \n",
    "eta = leptons.GenDressedLepton_eta\n",
    "count = ak.count(eta, axis=1, keepdims=True)\n",
    "mask = count == 2\n",
    "mask = ak.all(mask,axis=1)\n",
    "leptons = leptons[mask]\n",
    "branches = ['GenPart_eta', 'GenPart_mass', 'GenPart_phi', 'GenPart_pt', 'GenPart_genPartIdxMother', 'GenPart_pdgId', 'GenPart_status', 'GenPart_statusFlags']\n",
    "gen = events[branches]\n",
    "# I think status of 1 means that it is a final state particle so let's look at them first \n",
    "gen_final = gen[gen.GenPart_status == 1]\n",
    "dm = gen_final[abs(gen_final.GenPart_pdgId) == 52]\n",
    "# But we want the same events as we have for the leptons (i.e. with two leptons)\n",
    "# so use the same mask as we did for the leptons\n",
    "dm = dm[mask]\n"
   ]
  },
  {
   "cell_type": "code",
   "execution_count": null,
   "metadata": {},
   "outputs": [],
   "source": [
    "BPs_scan = [8, 10, 12, 13, 14, 18, 19, 20, 21, 24]\n",
    "lam2_vals = np.linspace(-3, 3, 10)\n",
    "for BP in BPs_scan:\n",
    "    for i, lam2 in enumerate(lam2_vals):\n",
    "        print(f\"{BP}, {i}\")"
   ]
  }
 ],
 "metadata": {
  "interpreter": {
   "hash": "7bdc2089da21e252ed59081f5f3d98eb80dec4ba65c5305b1a1d42ff7e5e6a5d"
  },
  "kernelspec": {
   "display_name": "Python 3.9.13",
   "language": "python",
   "name": "python3"
  },
  "language_info": {
   "codemirror_mode": {
    "name": "ipython",
    "version": 3
   },
   "file_extension": ".py",
   "mimetype": "text/x-python",
   "name": "python",
   "nbconvert_exporter": "python",
   "pygments_lexer": "ipython3",
   "version": "3.9.13"
  },
  "orig_nbformat": 4
 },
 "nbformat": 4,
 "nbformat_minor": 2
}
