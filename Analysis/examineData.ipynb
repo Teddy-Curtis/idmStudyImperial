{
 "cells": [
  {
   "cell_type": "markdown",
   "metadata": {},
   "source": [
    "Aim of this document is to plot different variables into histograms and 2d scatter plots.\n",
    "Variables to plot:\n",
    "1. Total energy of the lepton pair $E_{ll}$.\n",
    "2. Dilepton Invariant Mass, $M_{ll}$\n",
    "3. dilepton transverse momentum, $P_T^{ll}$\n",
    "4. Jet Energies above 20 GeV + Num of jets above 20 GeV etc\n",
    "5. Polar Angle of the dilepton pair, $\\Theta_{ll}$.\n",
    "6. Missing energy, $E_T^{miss}$.\n",
    "7. Angle of the leptons to the beam direction.\n",
    "8. Differences in the angle (maybe pseudo-rapidity?).\n",
    "\n",
    "Note that these plots have not been normalized to the integrated luminosity of Run 3 yet.\n",
    "I think I might need to make more data for this BP point (BP8) to make the curves more even, \n",
    "I can then just normalize everything to the correct int lum. "
   ]
  },
  {
   "cell_type": "code",
   "execution_count": 3,
   "metadata": {},
   "outputs": [
    {
     "data": {
      "text/plain": [
       "True"
      ]
     },
     "execution_count": 3,
     "metadata": {},
     "output_type": "execute_result"
    }
   ],
   "source": [
    "import ROOT\n",
    "import matplotlib.pyplot as plt\n",
    "from ROOT import TF1\n",
    "ROOT.gSystem.Load(\"/vols/cms/emc21/FCC/Delphes-3.5.0/libDelphes.so\")\n",
    "ROOT.gInterpreter.Declare('#include \"/vols/cms/emc21/FCC/Delphes-3.5.0/classes/DelphesClasses.h\"')\n",
    "ROOT.gInterpreter.Declare('#include \"/vols/cms/emc21/FCC/Delphes-3.5.0/external/ExRootAnalysis/ExRootTreeReader.h\"')"
   ]
  },
  {
   "cell_type": "code",
   "execution_count": 10,
   "metadata": {},
   "outputs": [],
   "source": [
    "inputFile = '/vols/cms/emc21/FCC/MG5_aMC_v2_6_7/myruns/distributions/pp_h2h2lPlMBP8/Events/run_01_0/tag_1_delphes_events.root'\n",
    "\n",
    "# Load in all the data files\n",
    "# Create chain of root trees\n",
    "chain = ROOT.TChain(\"Delphes\")\n",
    "for i in range(10):\n",
    "    chain.Add(f'/vols/cms/emc21/FCC/MG5_aMC_v2_6_7/myruns/distributions/pp_h2h2lPlMBP8/Events/run_01_{i}/tag_1_delphes_events.root')\n",
    "\n",
    "\n"
   ]
  },
  {
   "cell_type": "code",
   "execution_count": 8,
   "metadata": {},
   "outputs": [
    {
     "name": "stderr",
     "output_type": "stream",
     "text": [
      "Warning in <TROOT::Append>: Replacing existing TH1: eM (Potential memory leak).\n",
      "Warning in <TROOT::Append>: Replacing existing TH1: muM (Potential memory leak).\n",
      "Warning in <TCanvas::Constructor>: Deleting canvas with same name: canvasName\n"
     ]
    },
    {
     "data": {
      "image/png": "[encoded data removed]",
      "text/plain": [
       "<IPython.core.display.Image object>"
      ]
     },
     "metadata": {},
     "output_type": "display_data"
    }
   ],
   "source": [
    "\"\"\"Histogram of the sum of the two electron and muon energies\n",
    "(if there is 2 of either in an event)\"\"\"\n",
    "# Create object of class ExRootTreeReader\n",
    "treeReader = ROOT.ExRootTreeReader(chain)\n",
    "numberOfEntries = treeReader.GetEntries()\n",
    "\n",
    "min = 0.0\n",
    "max = 350.0\n",
    "histEe = ROOT.TH1F(\"eM\", \"M\", 100, min, max)\n",
    "histEe.SetFillColor(38)\n",
    "histEMU = ROOT.TH1F(\"muM\", \"M\", 100, min, max)\n",
    "histEMU.SetFillColor(46)\n",
    "\n",
    "histStack = ROOT.THStack(\"sum\", \"Sum e/mu Energies when num Particles=2\")\n",
    "\n",
    "\n",
    "branchElectron = treeReader.UseBranch(\"Electron\")\n",
    "branchMuon = treeReader.UseBranch(\"Muon\")\n",
    "\n",
    "# Loop over all events\n",
    "for entry in range(0, numberOfEntries):\n",
    "    # Load selected branches with data from specified event\n",
    "    treeReader.ReadEntry(entry)\n",
    "    #print(f\"num E = {branchElectron.GetEntries()}\")\n",
    "    #print(f\"num M = {branchMuon.GetEntries()}\\n\")\n",
    "    if branchElectron.GetEntries() > 1:\n",
    "        # Take first two electrons\n",
    "        elec1 = branchElectron.At(0)\n",
    "        elec2 = branchElectron.At(1)\n",
    "        # Plot their invariant mass\n",
    "        #histE.Fill(((elec1.P4()) + (elec2.P4())).M())\n",
    "        histEe.Fill((elec1.P4().E()) + (elec2.P4().E()))\n",
    "\n",
    "    if branchMuon.GetEntries() > 1:\n",
    "        # Take first two electrons\n",
    "        part1 = branchMuon.At(0)\n",
    "        part2 = branchMuon.At(1)\n",
    "        # Plot their invariant mass\n",
    "        #histE.Fill(((part1.P4()) + (part2.P4())).M())\n",
    "        histEMU.Fill((part1.P4().E()) + (part2.P4().E()))\n",
    "\n",
    "histStack.Add(histEe)\n",
    "histStack.Add(histEMU)\n",
    "\n",
    "# Show resulting histograms\n",
    "c = ROOT.TCanvas(\"canvasName\", \"title\", 500, 400)\n",
    "histStack.Draw()\n",
    "\n",
    "#histEe.Draw(\"SAME\")\n",
    "#histEMU.Draw(\"SAME\")\n",
    "c.Draw()\n",
    "\n",
    "legend = ROOT.TLegend(0.9,0.7,0.48,0.9)\n",
    "legend.AddEntry(histEe, \"Electron hist\")\n",
    "legend.AddEntry(histEMU, \"Muon hist\")\n",
    "legend.Draw()"
   ]
  },
  {
   "cell_type": "code",
   "execution_count": 34,
   "metadata": {},
   "outputs": [
    {
     "name": "stderr",
     "output_type": "stream",
     "text": [
      "Warning in <TROOT::Append>: Replacing existing TH1: eM (Potential memory leak).\n",
      "Warning in <TROOT::Append>: Replacing existing TH1: muM (Potential memory leak).\n",
      "Warning in <TCanvas::Constructor>: Deleting canvas with same name: canvasName\n"
     ]
    },
    {
     "data": {
      "image/png": "[encoded data removed]",
      "text/plain": [
       "<IPython.core.display.Image object>"
      ]
     },
     "metadata": {},
     "output_type": "display_data"
    }
   ],
   "source": [
    "\"\"\"Invariant Mass of e/mu pair\"\"\"\n",
    "# Create object of class ExRootTreeReader\n",
    "treeReader = ROOT.ExRootTreeReader(chain)\n",
    "numberOfEntries = treeReader.GetEntries()\n",
    "\n",
    "min = 0.0\n",
    "max = 125.0\n",
    "histMe = ROOT.TH1F(\"eM\", \"M\", 100, min, max)\n",
    "histMe.SetFillColor(38)\n",
    "histMMU = ROOT.TH1F(\"muM\", \"M\", 100, min, max)\n",
    "histMMU.SetFillColor(46)\n",
    "\n",
    "histStack = ROOT.THStack(\"sum\", \"Sum of e/mu invariant mass\")\n",
    "\n",
    "\n",
    "branchElectron = treeReader.UseBranch(\"Electron\")\n",
    "branchMuon = treeReader.UseBranch(\"Muon\")\n",
    "\n",
    "# Loop over all events\n",
    "for entry in range(0, numberOfEntries):\n",
    "    # Load selected branches with data from specified event\n",
    "    treeReader.ReadEntry(entry)\n",
    "    #print(f\"num E = {branchElectron.GetEntries()}\")\n",
    "    #print(f\"num M = {branchMuon.GetEntries()}\\n\")\n",
    "    if branchElectron.GetEntries() > 1:\n",
    "        # Take first two electrons\n",
    "        elec1 = branchElectron.At(0)\n",
    "        elec2 = branchElectron.At(1)\n",
    "        # Plot their invariant mass\n",
    "        #histM.Fill(((elec1.P4()) + (elec2.P4())).M())\n",
    "        histMe.Fill(((elec1.P4()) + (elec2.P4())).M())\n",
    "\n",
    "    if branchMuon.GetEntries() > 1:\n",
    "        # Take first two electrons\n",
    "        part1 = branchMuon.At(0)\n",
    "        part2 = branchMuon.At(1)\n",
    "        # Plot their invariant mass\n",
    "        #histM.Fill(((part1.P4()) + (part2.P4())).M())\n",
    "        histMMU.Fill(((part1.P4()) + (part2.P4())).M())\n",
    "\n",
    "histStack.Add(histMe)\n",
    "histStack.Add(histMMU)\n",
    "\n",
    "# Show resulting histograms\n",
    "c = ROOT.TCanvas(\"canvasName\", \"title\", 500, 400)\n",
    "histStack.Draw()\n",
    "\n",
    "#histMe.Draw(\"SAME\")\n",
    "#histMMU.Draw(\"SAME\")\n",
    "c.Draw()\n",
    "\n",
    "# legend = ROOT.TLegend(0.9,0.7,0.48,0.9)\n",
    "# legend.SetHeader(\"Particle\")\n",
    "# legend.AddEntry(histMe, \"Electron hist\")\n",
    "# legend.AddEntry(histMMU, \"Muon hist\")\n",
    "# legend.Draw()"
   ]
  },
  {
   "cell_type": "code",
   "execution_count": 39,
   "metadata": {},
   "outputs": [
    {
     "name": "stderr",
     "output_type": "stream",
     "text": [
      "Warning in <TROOT::Append>: Replacing existing TH1: eM (Potential memory leak).\n",
      "Error in <TColor::GetColorTransparent>: color with index 3004 not defined\n",
      "Warning in <TROOT::Append>: Replacing existing TH1: muM (Potential memory leak).\n",
      "Error in <TColor::GetColorTransparent>: color with index 3023 not defined\n",
      "Warning in <TCanvas::Constructor>: Deleting canvas with same name: canvasName\n"
     ]
    },
    {
     "data": {
      "image/png": "[encoded data removed]",
      "text/plain": [
       "<IPython.core.display.Image object>"
      ]
     },
     "metadata": {},
     "output_type": "display_data"
    }
   ],
   "source": [
    "\"\"\"Invariant Mass of e/mu pair\"\"\"\n",
    "# Create object of class ExRootTreeReader\n",
    "treeReader = ROOT.ExRootTreeReader(chain)\n",
    "numberOfEntries = treeReader.GetEntries()\n",
    "\n",
    "min = 0.0\n",
    "max = 125.0\n",
    "histMe = ROOT.TH1F(\"eM\", \"eM\", 100, min, max)\n",
    "#histMe.SetFillColor(38)\n",
    "histMe.SetFillColorAlpha(3004, 0.35)\n",
    "histMMU = ROOT.TH1F(\"muM\", \"muM\", 100, min, max)\n",
    "#histMMU.SetFillColor(46)\n",
    "histMe.SetFillColorAlpha(3023, 0.7)\n",
    "\n",
    "#histStack = ROOT.THStack(\"sum\", \"Sum of e/mu invariant mass\")\n",
    "\n",
    "\n",
    "branchElectron = treeReader.UseBranch(\"Electron\")\n",
    "branchMuon = treeReader.UseBranch(\"Muon\")\n",
    "\n",
    "# Loop over all events\n",
    "for entry in range(0, numberOfEntries):\n",
    "    # Load selected branches with data from specified event\n",
    "    treeReader.ReadEntry(entry)\n",
    "    #print(f\"num E = {branchElectron.GetEntries()}\")\n",
    "    #print(f\"num M = {branchMuon.GetEntries()}\\n\")\n",
    "    if branchElectron.GetEntries() > 1:\n",
    "        # Take first two electrons\n",
    "        elec1 = branchElectron.At(0)\n",
    "        elec2 = branchElectron.At(1)\n",
    "        # Plot their invariant mass\n",
    "        #histM.Fill(((elec1.P4()) + (elec2.P4())).M())\n",
    "        histMe.Fill(((elec1.P4()) + (elec2.P4())).M())\n",
    "\n",
    "    if branchMuon.GetEntries() > 1:\n",
    "        # Take first two electrons\n",
    "        part1 = branchMuon.At(0)\n",
    "        part2 = branchMuon.At(1)\n",
    "        # Plot their invariant mass\n",
    "        #histM.Fill(((part1.P4()) + (part2.P4())).M())\n",
    "        histMMU.Fill(((part1.P4()) + (part2.P4())).M())\n",
    "\n",
    "#histStack.Add(histMe)\n",
    "#histStack.Add(histMMU)\n",
    "\n",
    "# Show resulting histograms\n",
    "c = ROOT.TCanvas(\"canvasName\", \"title\", 500, 400)\n",
    "#histStack.Draw()\n",
    "histMMU.Draw()\n",
    "histMe.Draw(\"SAME\")\n",
    "c.Draw()\n",
    "\n",
    "# legend = ROOT.TLegend(0.9,0.7,0.48,0.9)\n",
    "# legend.SetHeader(\"Particle\")\n",
    "# legend.AddEntry(histMe, \"Electron hist\")\n",
    "# legend.AddEntry(histMMU, \"Muon hist\")\n",
    "# legend.Draw()"
   ]
  },
  {
   "cell_type": "code",
   "execution_count": 40,
   "metadata": {},
   "outputs": [
    {
     "name": "stderr",
     "output_type": "stream",
     "text": [
      "Warning in <TROOT::Append>: Replacing existing TH1: eM (Potential memory leak).\n",
      "Warning in <TROOT::Append>: Replacing existing TH1: muM (Potential memory leak).\n",
      "Warning in <TCanvas::Constructor>: Deleting canvas with same name: canvasName\n"
     ]
    },
    {
     "data": {
      "image/png": "[encoded data removed]",
      "text/plain": [
       "<IPython.core.display.Image object>"
      ]
     },
     "metadata": {},
     "output_type": "display_data"
    }
   ],
   "source": [
    "\"\"\"histograms of the e/mu transverse momenta\n",
    "i.e. plotting both the e+ and e-\"\"\"\n",
    "# Create object of class ExRootTreeReader\n",
    "treeReader = ROOT.ExRootTreeReader(chain)\n",
    "numberOfEntries = treeReader.GetEntries()\n",
    "\n",
    "min = 0.0\n",
    "max = 125.0\n",
    "histPTe = ROOT.TH1F(\"eM\", \"M\", 100, min, max)\n",
    "histPTe.SetFillColor(38)\n",
    "histPTMU = ROOT.TH1F(\"muM\", \"M\", 100, min, max)\n",
    "histPTMU.SetFillColor(46)\n",
    "\n",
    "histStack = ROOT.THStack(\"sum\", \"Sum of e/mu PT\")\n",
    "\n",
    "\n",
    "branchElectron = treeReader.UseBranch(\"Electron\")\n",
    "branchMuon = treeReader.UseBranch(\"Muon\")\n",
    "\n",
    "# Loop over all events\n",
    "for entry in range(0, numberOfEntries):\n",
    "    # Load selected branches with data from specified event\n",
    "    treeReader.ReadEntry(entry)\n",
    "    #print(f\"num E = {branchElectron.GetEntries()}\")\n",
    "    #print(f\"num M = {branchMuon.GetEntries()}\\n\")\n",
    "    if branchElectron.GetEntries() > 1:\n",
    "        # Take first two electrons\n",
    "        elec1 = branchElectron.At(0)\n",
    "        elec2 = branchElectron.At(1)\n",
    "        histPTe.Fill(elec1.PT)\n",
    "        histPTe.Fill(elec2.PT)\n",
    "\n",
    "    if branchMuon.GetEntries() > 1:\n",
    "        # Take first two electrons\n",
    "        part1 = branchMuon.At(0)\n",
    "        part2 = branchMuon.At(1)\n",
    "        histPTMU.Fill(part1.PT)\n",
    "        histPTMU.Fill(part2.PT)\n",
    "\n",
    "\n",
    "histStack.Add(histPTe)\n",
    "histStack.Add(histPTMU)\n",
    "\n",
    "# Show resulting histograms\n",
    "c = ROOT.TCanvas(\"canvasName\", \"title\", 500, 400)\n",
    "histStack.Draw()\n",
    "\n",
    "#histPTe.Draw(\"SAME\")\n",
    "#histPTMU.Draw(\"SAME\")\n",
    "c.Draw()\n",
    "\n",
    "legend = ROOT.TLegend(0.9,0.7,0.48,0.9)\n",
    "legend.AddEntry(histPTe, \"Electron hist\")\n",
    "legend.AddEntry(histPTMU, \"Muon hist\")\n",
    "legend.Draw()"
   ]
  },
  {
   "cell_type": "code",
   "execution_count": 42,
   "metadata": {},
   "outputs": [
    {
     "name": "stderr",
     "output_type": "stream",
     "text": [
      "Warning in <TROOT::Append>: Replacing existing TH1: eM (Potential memory leak).\n",
      "Warning in <TROOT::Append>: Replacing existing TH1: muM (Potential memory leak).\n",
      "Warning in <TCanvas::Constructor>: Deleting canvas with same name: canvasName\n"
     ]
    },
    {
     "data": {
      "image/png": "[encoded data removed]",
      "text/plain": [
       "<IPython.core.display.Image object>"
      ]
     },
     "metadata": {},
     "output_type": "display_data"
    }
   ],
   "source": [
    "\"\"\"histogram of electron AND muon PT if ONLY 1 each particle present.\n",
    "I think this could be from the decay of two taus to an e+mu\"\"\"\n",
    "# Create object of class ExRootTreeReader\n",
    "treeReader = ROOT.ExRootTreeReader(chain)\n",
    "numberOfEntries = treeReader.GetEntries()\n",
    "\n",
    "min = 0.0\n",
    "max = 125.0\n",
    "histPTe = ROOT.TH1F(\"eM\", \"M\", 100, min, max)\n",
    "histPTe.SetFillColor(38)\n",
    "histPTMU = ROOT.TH1F(\"muM\", \"M\", 100, min, max)\n",
    "histPTMU.SetFillColor(46)\n",
    "\n",
    "histStack = ROOT.THStack(\"sum\", \"e/mu PT if only one of each present\")\n",
    "\n",
    "\n",
    "branchElectron = treeReader.UseBranch(\"Electron\")\n",
    "branchMuon = treeReader.UseBranch(\"Muon\")\n",
    "\n",
    "# Loop over all events\n",
    "for entry in range(0, numberOfEntries):\n",
    "    # Load selected branches with data from specified event\n",
    "    treeReader.ReadEntry(entry)\n",
    "    #print(f\"num E = {branchElectron.GetEntries()}\")\n",
    "    #print(f\"num M = {branchMuon.GetEntries()}\\n\")\n",
    "    if branchElectron.GetEntries() == 1 and branchMuon.GetEntries() == 1:\n",
    "        # Take first two electrons\n",
    "        elec1 = branchElectron.At(0)\n",
    "        histPTe.Fill(elec1.PT)\n",
    "        mu1 = branchMuon.At(0)\n",
    "        histPTMU.Fill(mu1.PT)\n",
    "\n",
    "\n",
    "\n",
    "histStack.Add(histPTe)\n",
    "histStack.Add(histPTMU)\n",
    "\n",
    "# Show resulting histograms\n",
    "c = ROOT.TCanvas(\"canvasName\", \"title\", 500, 400)\n",
    "histStack.Draw()\n",
    "\n",
    "#histPTe.Draw(\"SAME\")\n",
    "#histPTMU.Draw(\"SAME\")\n",
    "c.Draw()\n",
    "\n",
    "legend = ROOT.TLegend(0.9,0.7,0.48,0.9)\n",
    "legend.AddEntry(histPTe, \"Electron hist\")\n",
    "legend.AddEntry(histPTMU, \"Muon hist\")\n",
    "legend.Draw()"
   ]
  },
  {
   "cell_type": "code",
   "execution_count": 44,
   "metadata": {},
   "outputs": [
    {
     "name": "stderr",
     "output_type": "stream",
     "text": [
      "Warning in <TROOT::Append>: Replacing existing TH1: eM (Potential memory leak).\n",
      "Warning in <TROOT::Append>: Replacing existing TH1: muM (Potential memory leak).\n",
      "Warning in <TCanvas::Constructor>: Deleting canvas with same name: canvasName\n"
     ]
    },
    {
     "data": {
      "image/png": "[encoded data removed]",
      "text/plain": [
       "<IPython.core.display.Image object>"
      ]
     },
     "metadata": {},
     "output_type": "display_data"
    }
   ],
   "source": [
    "\"\"\"histogram of the difference in eta of the two e or mu\"\"\"\n",
    "\n",
    "# Create object of class ExRootTreeReader\n",
    "treeReader = ROOT.ExRootTreeReader(chain)\n",
    "numberOfEntries = treeReader.GetEntries()\n",
    "\n",
    "min = 0.0\n",
    "max = 3.2\n",
    "histEtaDiffe = ROOT.TH1F(\"eM\", \"M\", 100, min, max)\n",
    "histEtaDiffe.SetFillColor(38)\n",
    "histEtaDiffMU = ROOT.TH1F(\"muM\", \"M\", 100, min, max)\n",
    "histEtaDiffMU.SetFillColor(46)\n",
    "\n",
    "histStack = ROOT.THStack(\"sum\", \"Eta difference of e/mu pairs\")\n",
    "\n",
    "\n",
    "branchElectron = treeReader.UseBranch(\"Electron\")\n",
    "branchMuon = treeReader.UseBranch(\"Muon\")\n",
    "\n",
    "# Loop over all events\n",
    "for entry in range(0, numberOfEntries):\n",
    "    # Load selected branches with data from specified event\n",
    "    treeReader.ReadEntry(entry)\n",
    "    #print(f\"num E = {branchElectron.GetEntries()}\")\n",
    "    #print(f\"num M = {branchMuon.GetEntries()}\\n\")\n",
    "    if branchElectron.GetEntries() > 1:\n",
    "        # Take first two electrons\n",
    "        elec1 = branchElectron.At(0)\n",
    "        elec2 = branchElectron.At(1)\n",
    "        diff = abs(elec1.Eta - elec2.Eta)\n",
    "        histEtaDiffe.Fill(diff)\n",
    "\n",
    "    if branchMuon.GetEntries() > 1:\n",
    "        # Take first two electrons\n",
    "        part1 = branchMuon.At(0)\n",
    "        part2 = branchMuon.At(1)\n",
    "        diff = abs(part1.Eta - part2.Eta)\n",
    "        histEtaDiffMU.Fill(diff)\n",
    "\n",
    "\n",
    "histStack.Add(histEtaDiffe)\n",
    "histStack.Add(histEtaDiffMU)\n",
    "\n",
    "# Show resulting histograms\n",
    "c = ROOT.TCanvas(\"canvasName\", \"title\", 500, 400)\n",
    "histStack.Draw()\n",
    "\n",
    "#histEtaDiffe.Draw(\"SAME\")\n",
    "#histEtaDiffMU.Draw(\"SAME\")\n",
    "c.Draw()\n",
    "#c.SetLogy()\n",
    "\n",
    "legend = ROOT.TLegend(0.9,0.7,0.48,0.9)\n",
    "legend.AddEntry(histEtaDiffe, \"Electron hist\")\n",
    "legend.AddEntry(histEtaDiffMU, \"Muon hist\")\n",
    "legend.Draw()"
   ]
  },
  {
   "cell_type": "code",
   "execution_count": null,
   "metadata": {},
   "outputs": [],
   "source": [
    "\"\"\"histogram of the difference in eta of the two e or mu\"\"\"\n",
    "\n",
    "# Create object of class ExRootTreeReader\n",
    "treeReader = ROOT.ExRootTreeReader(chain)\n",
    "numberOfEntries = treeReader.GetEntries()\n",
    "\n",
    "min = 0.0\n",
    "max = 3.2\n",
    "histEtaDiffe = ROOT.TH1F(\"eM\", \"M\", 100, min, max)\n",
    "histEtaDiffe.SetFillColor(38)\n",
    "histEtaDiffMU = ROOT.TH1F(\"muM\", \"M\", 100, min, max)\n",
    "histEtaDiffMU.SetFillColor(46)\n",
    "\n",
    "histStack = ROOT.THStack(\"sum\", \"Eta difference of e/mu pairs\")\n",
    "\n",
    "\n",
    "branchElectron = treeReader.UseBranch(\"Electron\")\n",
    "branchMuon = treeReader.UseBranch(\"Muon\")\n",
    "\n",
    "# Loop over all events\n",
    "for entry in range(0, numberOfEntries):\n",
    "    # Load selected branches with data from specified event\n",
    "    treeReader.ReadEntry(entry)\n",
    "    #print(f\"num E = {branchElectron.GetEntries()}\")\n",
    "    #print(f\"num M = {branchMuon.GetEntries()}\\n\")\n",
    "    if branchElectron.GetEntries() > 1:\n",
    "        # Take first two electrons\n",
    "        elec1 = branchElectron.At(0)\n",
    "        elec2 = branchElectron.At(1)\n",
    "        diff = abs(elec1.Eta - elec2.Eta)\n",
    "        histEtaDiffe.Fill(diff)\n",
    "\n",
    "    if branchMuon.GetEntries() > 1:\n",
    "        # Take first two electrons\n",
    "        part1 = branchMuon.At(0)\n",
    "        part2 = branchMuon.At(1)\n",
    "        diff = abs(part1.Eta - part2.Eta)\n",
    "        histEtaDiffMU.Fill(diff)\n",
    "\n",
    "\n",
    "histStack.Add(histEtaDiffe)\n",
    "histStack.Add(histEtaDiffMU)\n",
    "\n",
    "# Show resulting histograms\n",
    "c = ROOT.TCanvas(\"canvasName\", \"title\", 500, 400)\n",
    "histStack.Draw()\n",
    "\n",
    "#histEtaDiffe.Draw(\"SAME\")\n",
    "#histEtaDiffMU.Draw(\"SAME\")\n",
    "c.Draw()\n",
    "#c.SetLogy()\n",
    "\n",
    "legend = ROOT.TLegend(0.9,0.7,0.48,0.9)\n",
    "legend.AddEntry(histEtaDiffe, \"Electron hist\")\n",
    "legend.AddEntry(histEtaDiffMU, \"Muon hist\")\n",
    "legend.Draw()"
   ]
  }
 ],
 "metadata": {
  "kernelspec": {
   "display_name": "Python 3.9.13 ('FCC')",
   "language": "python",
   "name": "python3"
  },
  "language_info": {
   "codemirror_mode": {
    "name": "ipython",
    "version": 3
   },
   "file_extension": ".py",
   "mimetype": "text/x-python",
   "name": "python",
   "nbconvert_exporter": "python",
   "pygments_lexer": "ipython3",
   "version": "3.9.13"
  },
  "orig_nbformat": 4,
  "vscode": {
   "interpreter": {
    "hash": "ad819b60171663a167d0db40f47bd886833251bcaf7c4d654a576d15df427bd9"
   }
  }
 },
 "nbformat": 4,
 "nbformat_minor": 2
}
